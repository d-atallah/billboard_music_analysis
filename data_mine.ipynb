{
 "cells": [
  {
   "cell_type": "code",
   "metadata": {
    "tags": [],
    "cell_id": "c11f88c665a446bca9b9d60161ac359c",
    "source_hash": "543f6f83",
    "execution_start": 1665757309697,
    "execution_millis": 236,
    "deepnote_to_be_reexecuted": false,
    "deepnote_cell_type": "code",
    "deepnote_cell_height": 400
   },
   "source": "# import dependencies\n#  data packages\nimport pandas as pd\nimport numpy as np\n#  web-scraping packages\nfrom urllib.request import urlopen\nfrom bs4 import BeautifulSoup\nimport wikipedia\n#  Spotify packages\nimport spotipy\nfrom spotipy.oauth2 import SpotifyClientCredentials\n#  lyrics package\nimport lyricsgenius as genius\n#  misc processing packages\nimport re\nimport itertools\nfrom pyspark.sql import SparkSession\n#  config features\nimport config",
   "execution_count": null,
   "outputs": []
  },
  {
   "cell_type": "code",
   "metadata": {
    "tags": [],
    "cell_id": "dd08145ae65a46b3a25736884fdd5dcb",
    "source_hash": "6681e6b8",
    "execution_start": 1665757314498,
    "execution_millis": 6,
    "deepnote_to_be_reexecuted": false,
    "deepnote_cell_type": "code",
    "deepnote_cell_height": 130
   },
   "source": "# initialize spotify auth\nclient_credentials_manager = SpotifyClientCredentials(\n    client_id = config.client_id, client_secret = config.client_secret)\nsp = spotipy.Spotify(client_credentials_manager = client_credentials_manager)",
   "execution_count": null,
   "outputs": []
  },
  {
   "cell_type": "code",
   "metadata": {
    "cell_id": "72ee463aa1e24ea1ae2b87b3e909b6c9",
    "tags": [],
    "deepnote_to_be_reexecuted": false,
    "source_hash": "4f0055d6",
    "execution_start": 1665716177689,
    "execution_millis": 62726,
    "is_output_hidden": true,
    "deepnote_cell_type": "code",
    "deepnote_cell_height": 304.796875
   },
   "source": "! sudo apt-get update\n! sudo mkdir -p /usr/share/man/man1\n! sudo apt-get install -y openjdk-11-jdk\n! pip install pyspark\n\n# initialize spark session\nspark = SparkSession \\\n    .builder \\\n    .master(\"local[*]\") \\\n    .appName('sp_search') \\\n    .getOrCreate() \nsc = spark.sparkContext",
   "execution_count": null,
   "outputs": [
    {
     "name": "stdout",
     "text": "Get:1 http://deb.debian.org/debian buster InRelease [122 kB]\nGet:2 http://deb.debian.org/debian-security buster/updates InRelease [34.8 kB]\nGet:3 http://deb.debian.org/debian buster-updates InRelease [56.6 kB]\nGet:4 http://deb.debian.org/debian buster/main amd64 Packages [7,909 kB]\nGet:5 http://deb.debian.org/debian-security buster/updates/main amd64 Packages [369 kB]\nGet:6 http://deb.debian.org/debian buster-updates/main amd64 Packages [8,788 B]\nFetched 8,500 kB in 2s (3,507 kB/s)\n\n\n\n\nThe following additional packages will be installed:\n  at-spi2-core ca-certificates-java dbus dbus-user-session\n  dconf-gsettings-backend dconf-service dmsetup fonts-dejavu-extra\n  glib-networking glib-networking-common glib-networking-services\n  gsettings-desktop-schemas java-common libapparmor1 libargon2-1 libasound2\n  libasound2-data libatk-bridge2.0-0 libatk-wrapper-java\n  libatk-wrapper-java-jni libatspi2.0-0 libcap2 libcolord2 libcryptsetup12\n  libdbus-1-3 libdconf1 libdevmapper1.02.1 libdrm-amdgpu1 libdrm-common\n  libdrm-intel1 libdrm-nouveau2 libdrm-radeon1 libdrm2 libepoxy0 libfontenc1\n  libgif7 libgl1 libgl1-mesa-dri libglapi-mesa libglvnd0 libglx-mesa0 libglx0\n  libgtk-3-0 libgtk-3-bin libgtk-3-common libidn11 libip4tc0 libjson-c3\n  libjson-glib-1.0-0 libjson-glib-1.0-common libkmod2 liblcms2-2 libllvm7\n  libnspr4 libnss-systemd libnss3 libpam-systemd libpciaccess0 libpcsclite1\n  libproxy1v5 librest-0.7-0 libsensors-config libsensors5 libsoup-gnome2.4-1\n  libsoup2.4-1 libwayland-client0 libwayland-cursor0 libwayland-egl1\n  libx11-xcb1 libxcb-dri2-0 libxcb-dri3-0 libxcb-glx0 libxcb-present0\n  libxcb-shape0 libxcb-sync1 libxkbcommon0 libxmuu1 libxshmfence1 libxt-dev\n  libxtst6 libxv1 libxxf86dga1 libxxf86vm1 openjdk-11-jdk-headless\n  openjdk-11-jre openjdk-11-jre-headless systemd systemd-sysv x11-utils\n  xkb-data\nSuggested packages:\n  default-jre libasound2-plugins alsa-utils colord gvfs liblcms2-utils\n  pciutils pcscd lm-sensors libxt-doc openjdk-11-demo openjdk-11-source\n  visualvm libnss-mdns fonts-ipafont-gothic fonts-ipafont-mincho\n  fonts-wqy-microhei | fonts-wqy-zenhei fonts-indic systemd-container\n  policykit-1 mesa-utils\nThe following NEW packages will be installed:\n  at-spi2-core ca-certificates-java dbus dbus-user-session\n  dconf-gsettings-backend dconf-service dmsetup fonts-dejavu-extra\n  glib-networking glib-networking-common glib-networking-services\n  gsettings-desktop-schemas java-common libapparmor1 libargon2-1 libasound2\n  libasound2-data libatk-bridge2.0-0 libatk-wrapper-java\n  libatk-wrapper-java-jni libatspi2.0-0 libcap2 libcolord2 libcryptsetup12\n  libdconf1 libdevmapper1.02.1 libdrm-amdgpu1 libdrm-common libdrm-intel1\n  libdrm-nouveau2 libdrm-radeon1 libdrm2 libepoxy0 libfontenc1 libgif7 libgl1\n  libgl1-mesa-dri libglapi-mesa libglvnd0 libglx-mesa0 libglx0 libgtk-3-0\n  libgtk-3-bin libgtk-3-common libidn11 libip4tc0 libjson-c3\n  libjson-glib-1.0-0 libjson-glib-1.0-common libkmod2 liblcms2-2 libllvm7\n  libnspr4 libnss-systemd libnss3 libpam-systemd libpciaccess0 libpcsclite1\n  libproxy1v5 librest-0.7-0 libsensors-config libsensors5 libsoup-gnome2.4-1\n  libsoup2.4-1 libwayland-client0 libwayland-cursor0 libwayland-egl1\n  libx11-xcb1 libxcb-dri2-0 libxcb-dri3-0 libxcb-glx0 libxcb-present0\n  libxcb-shape0 libxcb-sync1 libxkbcommon0 libxmuu1 libxshmfence1 libxt-dev\n  libxtst6 libxv1 libxxf86dga1 libxxf86vm1 openjdk-11-jdk\n  openjdk-11-jdk-headless openjdk-11-jre openjdk-11-jre-headless systemd\n  systemd-sysv x11-utils xkb-data\nThe following packages will be upgraded:\n  libdbus-1-3\n1 upgraded, 90 newly installed, 0 to remove and 28 not upgraded.\nNeed to get 306 MB of archives.\nAfter this operation, 710 MB of additional disk space will be used.\nGet:1 http://deb.debian.org/debian buster/main amd64 libapparmor1 amd64 2.13.2-10 [94.7 kB]\nGet:2 http://deb.debian.org/debian buster/main amd64 libcap2 amd64 1:2.25-2 [17.6 kB]\nGet:3 http://deb.debian.org/debian buster/main amd64 libargon2-1 amd64 0~20171227-0.2 [19.6 kB]\nGet:4 http://deb.debian.org/debian buster/main amd64 dmsetup amd64 2:1.02.155-3 [90.8 kB]\nGet:5 http://deb.debian.org/debian buster/main amd64 libdevmapper1.02.1 amd64 2:1.02.155-3 [141 kB]\nGet:6 http://deb.debian.org/debian buster/main amd64 libjson-c3 amd64 0.12.1+ds-2+deb10u1 [27.3 kB]\nGet:7 http://deb.debian.org/debian buster/main amd64 libcryptsetup12 amd64 2:2.1.0-5+deb10u2 [193 kB]\nGet:8 http://deb.debian.org/debian buster/main amd64 libidn11 amd64 1.33-2.2 [116 kB]\nGet:9 http://deb.debian.org/debian buster/main amd64 libip4tc0 amd64 1.8.2-4 [70.2 kB]\nGet:10 http://deb.debian.org/debian buster/main amd64 libkmod2 amd64 26-1 [52.7 kB]\nGet:11 http://deb.debian.org/debian buster/main amd64 systemd amd64 241-7~deb10u8 [3,496 kB]\nGet:12 http://deb.debian.org/debian buster/main amd64 systemd-sysv amd64 241-7~deb10u8 [100 kB]\nGet:13 http://deb.debian.org/debian-security buster/updates/main amd64 libdbus-1-3 amd64 1.12.24-0+deb10u1 [218 kB]\nGet:14 http://deb.debian.org/debian-security buster/updates/main amd64 dbus amd64 1.12.24-0+deb10u1 [240 kB]\nGet:15 http://deb.debian.org/debian buster/main amd64 libnss-systemd amd64 241-7~deb10u8 [205 kB]\nGet:16 http://deb.debian.org/debian buster/main amd64 libpam-systemd amd64 241-7~deb10u8 [209 kB]\nGet:17 http://deb.debian.org/debian buster/main amd64 libatspi2.0-0 amd64 2.30.0-7 [65.0 kB]\nGet:18 http://deb.debian.org/debian buster/main amd64 libxtst6 amd64 2:1.2.3-1 [27.8 kB]\nGet:19 http://deb.debian.org/debian buster/main amd64 at-spi2-core amd64 2.30.0-7 [70.7 kB]\nGet:20 http://deb.debian.org/debian buster/main amd64 java-common all 0.71 [14.4 kB]\nGet:21 http://deb.debian.org/debian buster/main amd64 liblcms2-2 amd64 2.9-3 [145 kB]\nGet:22 http://deb.debian.org/debian buster/main amd64 libnspr4 amd64 2:4.20-1 [112 kB]\nGet:23 http://deb.debian.org/debian buster/main amd64 libnss3 amd64 2:3.42.1-1+deb10u5 [1,160 kB]\nGet:24 http://deb.debian.org/debian buster/main amd64 libasound2-data all 1.1.8-1 [59.6 kB]\nGet:25 http://deb.debian.org/debian buster/main amd64 libasound2 amd64 1.1.8-1 [361 kB]\nGet:26 http://deb.debian.org/debian buster/main amd64 libpcsclite1 amd64 1.8.24-1 [58.5 kB]\nGet:27 http://deb.debian.org/debian buster/main amd64 openjdk-11-jre-headless amd64 11.0.16+8-1~deb10u1 [37.3 MB]\nGet:28 http://deb.debian.org/debian buster/main amd64 ca-certificates-java all 20190405 [15.7 kB]\nGet:29 http://deb.debian.org/debian-security buster/updates/main amd64 dbus-user-session amd64 1.12.24-0+deb10u1 [97.9 kB]\nGet:30 http://deb.debian.org/debian buster/main amd64 libdconf1 amd64 0.30.1-2 [40.7 kB]\nGet:31 http://deb.debian.org/debian buster/main amd64 dconf-service amd64 0.30.1-2 [36.4 kB]\nGet:32 http://deb.debian.org/debian buster/main amd64 dconf-gsettings-backend amd64 0.30.1-2 [28.9 kB]\nGet:33 http://deb.debian.org/debian buster/main amd64 fonts-dejavu-extra all 2.37-1 [1,982 kB]\nGet:34 http://deb.debian.org/debian buster/main amd64 libproxy1v5 amd64 0.4.15-5+deb10u1 [56.1 kB]\nGet:35 http://deb.debian.org/debian buster/main amd64 glib-networking-common all 2.58.0-2+deb10u2 [59.5 kB]\nGet:36 http://deb.debian.org/debian buster/main amd64 glib-networking-services amd64 2.58.0-2+deb10u2 [13.7 kB]\nGet:37 http://deb.debian.org/debian buster/main amd64 gsettings-desktop-schemas all 3.28.1-1 [529 kB]\nGet:38 http://deb.debian.org/debian buster/main amd64 glib-networking amd64 2.58.0-2+deb10u2 [54.6 kB]\nGet:39 http://deb.debian.org/debian buster/main amd64 libatk-bridge2.0-0 amd64 2.30.0-5 [61.6 kB]\nGet:40 http://deb.debian.org/debian buster/main amd64 libfontenc1 amd64 1:1.1.3-1+b2 [24.4 kB]\nGet:41 http://deb.debian.org/debian buster/main amd64 libglvnd0 amd64 1.1.0-1 [48.6 kB]\nGet:42 http://deb.debian.org/debian buster/main amd64 libdrm-common all 2.4.97-1 [13.8 kB]\nGet:43 http://deb.debian.org/debian buster/main amd64 libdrm2 amd64 2.4.97-1 [39.7 kB]\nGet:44 http://deb.debian.org/debian buster/main amd64 libglapi-mesa amd64 18.3.6-2+deb10u1 [66.3 kB]\nGet:45 http://deb.debian.org/debian buster/main amd64 libx11-xcb1 amd64 2:1.6.7-1+deb10u2 [191 kB]\nGet:46 http://deb.debian.org/debian buster/main amd64 libxcb-dri2-0 amd64 1.13.1-2 [101 kB]\nGet:47 http://deb.debian.org/debian buster/main amd64 libxcb-dri3-0 amd64 1.13.1-2 [100 kB]\nGet:48 http://deb.debian.org/debian buster/main amd64 libxcb-glx0 amd64 1.13.1-2 [116 kB]\nGet:49 http://deb.debian.org/debian buster/main amd64 libxcb-present0 amd64 1.13.1-2 [99.1 kB]\nGet:50 http://deb.debian.org/debian buster/main amd64 libxcb-sync1 amd64 1.13.1-2 [103 kB]\nGet:51 http://deb.debian.org/debian buster/main amd64 libxshmfence1 amd64 1.3-1 [8,820 B]\nGet:52 http://deb.debian.org/debian buster/main amd64 libxxf86vm1 amd64 1:1.1.4-1+b2 [20.8 kB]\nGet:53 http://deb.debian.org/debian buster/main amd64 libdrm-amdgpu1 amd64 2.4.97-1 [27.3 kB]\nGet:54 http://deb.debian.org/debian buster/main amd64 libpciaccess0 amd64 0.14-1 [53.5 kB]\nGet:55 http://deb.debian.org/debian buster/main amd64 libdrm-intel1 amd64 2.4.97-1 [69.8 kB]\nGet:56 http://deb.debian.org/debian buster/main amd64 libdrm-nouveau2 amd64 2.4.97-1 [26.3 kB]\nGet:57 http://deb.debian.org/debian buster/main amd64 libdrm-radeon1 amd64 2.4.97-1 [31.1 kB]\nGet:58 http://deb.debian.org/debian buster/main amd64 libllvm7 amd64 1:7.0.1-8+deb10u2 [13.1 MB]\nGet:59 http://deb.debian.org/debian buster/main amd64 libsensors-config all 1:3.5.0-3 [31.6 kB]\nGet:60 http://deb.debian.org/debian buster/main amd64 libsensors5 amd64 1:3.5.0-3 [52.6 kB]\nGet:61 http://deb.debian.org/debian buster/main amd64 libgl1-mesa-dri amd64 18.3.6-2+deb10u1 [6,685 kB]\nGet:62 http://deb.debian.org/debian buster/main amd64 libglx-mesa0 amd64 18.3.6-2+deb10u1 [180 kB]\nGet:63 http://deb.debian.org/debian buster/main amd64 libglx0 amd64 1.1.0-1 [30.0 kB]\nGet:64 http://deb.debian.org/debian buster/main amd64 libgl1 amd64 1.1.0-1 [91.1 kB]\nGet:65 http://deb.debian.org/debian buster/main amd64 libxcb-shape0 amd64 1.13.1-2 [99.5 kB]\nGet:66 http://deb.debian.org/debian buster/main amd64 libxmuu1 amd64 2:1.1.2-2+b3 [23.9 kB]\nGet:67 http://deb.debian.org/debian buster/main amd64 libxv1 amd64 2:1.0.11-1 [24.6 kB]\nGet:68 http://deb.debian.org/debian buster/main amd64 libxxf86dga1 amd64 2:1.1.4-1+b3 [22.1 kB]\nGet:69 http://deb.debian.org/debian buster/main amd64 x11-utils amd64 7.7+4 [202 kB]\nGet:70 http://deb.debian.org/debian buster/main amd64 libatk-wrapper-java all 0.33.3-22+deb10u1 [45.5 kB]\nGet:71 http://deb.debian.org/debian buster/main amd64 libcolord2 amd64 1.4.3-4 [141 kB]\nGet:72 http://deb.debian.org/debian buster/main amd64 libepoxy0 amd64 1.5.3-0.1 [190 kB]\nGet:73 http://deb.debian.org/debian buster/main amd64 libjson-glib-1.0-common all 1.4.4-2 [52.3 kB]\nGet:74 http://deb.debian.org/debian buster/main amd64 libjson-glib-1.0-0 amd64 1.4.4-2 [61.2 kB]\nGet:75 http://deb.debian.org/debian buster/main amd64 libsoup2.4-1 amd64 2.64.2-2 [253 kB]\nGet:76 http://deb.debian.org/debian buster/main amd64 libsoup-gnome2.4-1 amd64 2.64.2-2 [18.0 kB]\nGet:77 http://deb.debian.org/debian buster/main amd64 librest-0.7-0 amd64 0.8.1-1 [33.7 kB]\nGet:78 http://deb.debian.org/debian buster/main amd64 libwayland-client0 amd64 1.16.0-1 [26.4 kB]\nGet:79 http://deb.debian.org/debian buster/main amd64 libwayland-cursor0 amd64 1.16.0-1 [14.1 kB]\nGet:80 http://deb.debian.org/debian buster/main amd64 libwayland-egl1 amd64 1.16.0-1 [8,204 B]\nGet:81 http://deb.debian.org/debian buster/main amd64 xkb-data all 2.26-2 [681 kB]\nGet:82 http://deb.debian.org/debian buster/main amd64 libxkbcommon0 amd64 0.8.2-1 [123 kB]\nGet:83 http://deb.debian.org/debian buster/main amd64 libgtk-3-common all 3.24.5-1 [3,678 kB]\nGet:84 http://deb.debian.org/debian buster/main amd64 libgtk-3-0 amd64 3.24.5-1 [2,580 kB]\nGet:85 http://deb.debian.org/debian buster/main amd64 libatk-wrapper-java-jni amd64 0.33.3-22+deb10u1 [39.5 kB]\nGet:86 http://deb.debian.org/debian buster/main amd64 libgif7 amd64 5.1.4-3 [43.3 kB]\nGet:87 http://deb.debian.org/debian buster/main amd64 libgtk-3-bin amd64 3.24.5-1 [114 kB]\nGet:88 http://deb.debian.org/debian buster/main amd64 libxt-dev amd64 1:1.1.5-1+b3 [426 kB]\nGet:89 http://deb.debian.org/debian buster/main amd64 openjdk-11-jre amd64 11.0.16+8-1~deb10u1 [174 kB]\nGet:90 http://deb.debian.org/debian buster/main amd64 openjdk-11-jdk-headless amd64 11.0.16+8-1~deb10u1 [221 MB]\nGet:91 http://deb.debian.org/debian buster/main amd64 openjdk-11-jdk amd64 11.0.16+8-1~deb10u1 [7,073 kB]\nFetched 306 MB in 5s (67.7 MB/s)\ndebconf: delaying package configuration, since apt-utils is not installed\nSelecting previously unselected package libapparmor1:amd64.\n(Reading database ... 31086 files and directories currently installed.)\nPreparing to unpack .../00-libapparmor1_2.13.2-10_amd64.deb ...\nUnpacking libapparmor1:amd64 (2.13.2-10) ...\nSelecting previously unselected package libcap2:amd64.\nPreparing to unpack .../01-libcap2_1%3a2.25-2_amd64.deb ...\nUnpacking libcap2:amd64 (1:2.25-2) ...\nSelecting previously unselected package libargon2-1:amd64.\nPreparing to unpack .../02-libargon2-1_0~20171227-0.2_amd64.deb ...\nUnpacking libargon2-1:amd64 (0~20171227-0.2) ...\nSelecting previously unselected package dmsetup.\nPreparing to unpack .../03-dmsetup_2%3a1.02.155-3_amd64.deb ...\nUnpacking dmsetup (2:1.02.155-3) ...\nSelecting previously unselected package libdevmapper1.02.1:amd64.\nPreparing to unpack .../04-libdevmapper1.02.1_2%3a1.02.155-3_amd64.deb ...\nUnpacking libdevmapper1.02.1:amd64 (2:1.02.155-3) ...\nSelecting previously unselected package libjson-c3:amd64.\nPreparing to unpack .../05-libjson-c3_0.12.1+ds-2+deb10u1_amd64.deb ...\nUnpacking libjson-c3:amd64 (0.12.1+ds-2+deb10u1) ...\nSelecting previously unselected package libcryptsetup12:amd64.\nPreparing to unpack .../06-libcryptsetup12_2%3a2.1.0-5+deb10u2_amd64.deb ...\nUnpacking libcryptsetup12:amd64 (2:2.1.0-5+deb10u2) ...\nSelecting previously unselected package libidn11:amd64.\nPreparing to unpack .../07-libidn11_1.33-2.2_amd64.deb ...\nUnpacking libidn11:amd64 (1.33-2.2) ...\nSelecting previously unselected package libip4tc0:amd64.\nPreparing to unpack .../08-libip4tc0_1.8.2-4_amd64.deb ...\nUnpacking libip4tc0:amd64 (1.8.2-4) ...\nSelecting previously unselected package libkmod2:amd64.\nPreparing to unpack .../09-libkmod2_26-1_amd64.deb ...\nUnpacking libkmod2:amd64 (26-1) ...\nSelecting previously unselected package systemd.\nPreparing to unpack .../10-systemd_241-7~deb10u8_amd64.deb ...\nUnpacking systemd (241-7~deb10u8) ...\nSetting up libapparmor1:amd64 (2.13.2-10) ...\nSetting up libcap2:amd64 (1:2.25-2) ...\nSetting up libargon2-1:amd64 (0~20171227-0.2) ...\nSetting up libjson-c3:amd64 (0.12.1+ds-2+deb10u1) ...\nSetting up libidn11:amd64 (1.33-2.2) ...\nSetting up libip4tc0:amd64 (1.8.2-4) ...\nSetting up libkmod2:amd64 (26-1) ...\nSetting up libdevmapper1.02.1:amd64 (2:1.02.155-3) ...\nSetting up libcryptsetup12:amd64 (2:2.1.0-5+deb10u2) ...\nSetting up systemd (241-7~deb10u8) ...\nCreated symlink /etc/systemd/system/getty.target.wants/getty@tty1.service → /lib/systemd/system/getty@.service.\nCreated symlink /etc/systemd/system/multi-user.target.wants/remote-fs.target → /lib/systemd/system/remote-fs.target.\nCreated symlink /etc/systemd/system/dbus-org.freedesktop.timesync1.service → /lib/systemd/system/systemd-timesyncd.service.\nCreated symlink /etc/systemd/system/sysinit.target.wants/systemd-timesyncd.service → /lib/systemd/system/systemd-timesyncd.service.\nInitializing machine ID from KVM UUID.\nSetting up dmsetup (2:1.02.155-3) ...\nSelecting previously unselected package systemd-sysv.\n(Reading database ... 31921 files and directories currently installed.)\nPreparing to unpack .../00-systemd-sysv_241-7~deb10u8_amd64.deb ...\nUnpacking systemd-sysv (241-7~deb10u8) ...\nPreparing to unpack .../01-libdbus-1-3_1.12.24-0+deb10u1_amd64.deb ...\nUnpacking libdbus-1-3:amd64 (1.12.24-0+deb10u1) over (1.12.20-0+deb10u1) ...\nSelecting previously unselected package dbus.\nPreparing to unpack .../02-dbus_1.12.24-0+deb10u1_amd64.deb ...\nUnpacking dbus (1.12.24-0+deb10u1) ...\nSelecting previously unselected package libnss-systemd:amd64.\nPreparing to unpack .../03-libnss-systemd_241-7~deb10u8_amd64.deb ...\nUnpacking libnss-systemd:amd64 (241-7~deb10u8) ...\nSelecting previously unselected package libpam-systemd:amd64.\nPreparing to unpack .../04-libpam-systemd_241-7~deb10u8_amd64.deb ...\nUnpacking libpam-systemd:amd64 (241-7~deb10u8) ...\nSelecting previously unselected package libatspi2.0-0:amd64.\nPreparing to unpack .../05-libatspi2.0-0_2.30.0-7_amd64.deb ...\nUnpacking libatspi2.0-0:amd64 (2.30.0-7) ...\nSelecting previously unselected package libxtst6:amd64.\nPreparing to unpack .../06-libxtst6_2%3a1.2.3-1_amd64.deb ...\nUnpacking libxtst6:amd64 (2:1.2.3-1) ...\nSelecting previously unselected package at-spi2-core.\nPreparing to unpack .../07-at-spi2-core_2.30.0-7_amd64.deb ...\nUnpacking at-spi2-core (2.30.0-7) ...\nSelecting previously unselected package java-common.\nPreparing to unpack .../08-java-common_0.71_all.deb ...\nUnpacking java-common (0.71) ...\nSelecting previously unselected package liblcms2-2:amd64.\nPreparing to unpack .../09-liblcms2-2_2.9-3_amd64.deb ...\nUnpacking liblcms2-2:amd64 (2.9-3) ...\nSelecting previously unselected package libnspr4:amd64.\nPreparing to unpack .../10-libnspr4_2%3a4.20-1_amd64.deb ...\nUnpacking libnspr4:amd64 (2:4.20-1) ...\nSelecting previously unselected package libnss3:amd64.\nPreparing to unpack .../11-libnss3_2%3a3.42.1-1+deb10u5_amd64.deb ...\nUnpacking libnss3:amd64 (2:3.42.1-1+deb10u5) ...\nSelecting previously unselected package libasound2-data.\nPreparing to unpack .../12-libasound2-data_1.1.8-1_all.deb ...\nUnpacking libasound2-data (1.1.8-1) ...\nSelecting previously unselected package libasound2:amd64.\nPreparing to unpack .../13-libasound2_1.1.8-1_amd64.deb ...\nUnpacking libasound2:amd64 (1.1.8-1) ...\nSelecting previously unselected package libpcsclite1:amd64.\nPreparing to unpack .../14-libpcsclite1_1.8.24-1_amd64.deb ...\nUnpacking libpcsclite1:amd64 (1.8.24-1) ...\nSelecting previously unselected package openjdk-11-jre-headless:amd64.\nPreparing to unpack .../15-openjdk-11-jre-headless_11.0.16+8-1~deb10u1_amd64.deb ...\nUnpacking openjdk-11-jre-headless:amd64 (11.0.16+8-1~deb10u1) ...\nSelecting previously unselected package ca-certificates-java.\nPreparing to unpack .../16-ca-certificates-java_20190405_all.deb ...\nUnpacking ca-certificates-java (20190405) ...\nSelecting previously unselected package dbus-user-session.\nPreparing to unpack .../17-dbus-user-session_1.12.24-0+deb10u1_amd64.deb ...\nUnpacking dbus-user-session (1.12.24-0+deb10u1) ...\nSelecting previously unselected package libdconf1:amd64.\nPreparing to unpack .../18-libdconf1_0.30.1-2_amd64.deb ...\nUnpacking libdconf1:amd64 (0.30.1-2) ...\nSelecting previously unselected package dconf-service.\nPreparing to unpack .../19-dconf-service_0.30.1-2_amd64.deb ...\nUnpacking dconf-service (0.30.1-2) ...\nSelecting previously unselected package dconf-gsettings-backend:amd64.\nPreparing to unpack .../20-dconf-gsettings-backend_0.30.1-2_amd64.deb ...\nUnpacking dconf-gsettings-backend:amd64 (0.30.1-2) ...\nSelecting previously unselected package fonts-dejavu-extra.\nPreparing to unpack .../21-fonts-dejavu-extra_2.37-1_all.deb ...\nUnpacking fonts-dejavu-extra (2.37-1) ...\nSelecting previously unselected package libproxy1v5:amd64.\nPreparing to unpack .../22-libproxy1v5_0.4.15-5+deb10u1_amd64.deb ...\nUnpacking libproxy1v5:amd64 (0.4.15-5+deb10u1) ...\nSelecting previously unselected package glib-networking-common.\nPreparing to unpack .../23-glib-networking-common_2.58.0-2+deb10u2_all.deb ...\nUnpacking glib-networking-common (2.58.0-2+deb10u2) ...\nSelecting previously unselected package glib-networking-services.\nPreparing to unpack .../24-glib-networking-services_2.58.0-2+deb10u2_amd64.deb ...\nUnpacking glib-networking-services (2.58.0-2+deb10u2) ...\nSelecting previously unselected package gsettings-desktop-schemas.\nPreparing to unpack .../25-gsettings-desktop-schemas_3.28.1-1_all.deb ...\nUnpacking gsettings-desktop-schemas (3.28.1-1) ...\nSelecting previously unselected package glib-networking:amd64.\nPreparing to unpack .../26-glib-networking_2.58.0-2+deb10u2_amd64.deb ...\nUnpacking glib-networking:amd64 (2.58.0-2+deb10u2) ...\nSelecting previously unselected package libatk-bridge2.0-0:amd64.\nPreparing to unpack .../27-libatk-bridge2.0-0_2.30.0-5_amd64.deb ...\nUnpacking libatk-bridge2.0-0:amd64 (2.30.0-5) ...\nSelecting previously unselected package libfontenc1:amd64.\nPreparing to unpack .../28-libfontenc1_1%3a1.1.3-1+b2_amd64.deb ...\nUnpacking libfontenc1:amd64 (1:1.1.3-1+b2) ...\nSelecting previously unselected package libglvnd0:amd64.\nPreparing to unpack .../29-libglvnd0_1.1.0-1_amd64.deb ...\nUnpacking libglvnd0:amd64 (1.1.0-1) ...\nSelecting previously unselected package libdrm-common.\nPreparing to unpack .../30-libdrm-common_2.4.97-1_all.deb ...\nUnpacking libdrm-common (2.4.97-1) ...\nSelecting previously unselected package libdrm2:amd64.\nPreparing to unpack .../31-libdrm2_2.4.97-1_amd64.deb ...\nUnpacking libdrm2:amd64 (2.4.97-1) ...\nSelecting previously unselected package libglapi-mesa:amd64.\nPreparing to unpack .../32-libglapi-mesa_18.3.6-2+deb10u1_amd64.deb ...\nUnpacking libglapi-mesa:amd64 (18.3.6-2+deb10u1) ...\nSelecting previously unselected package libx11-xcb1:amd64.\nPreparing to unpack .../33-libx11-xcb1_2%3a1.6.7-1+deb10u2_amd64.deb ...\nUnpacking libx11-xcb1:amd64 (2:1.6.7-1+deb10u2) ...\nSelecting previously unselected package libxcb-dri2-0:amd64.\nPreparing to unpack .../34-libxcb-dri2-0_1.13.1-2_amd64.deb ...\nUnpacking libxcb-dri2-0:amd64 (1.13.1-2) ...\nSelecting previously unselected package libxcb-dri3-0:amd64.\nPreparing to unpack .../35-libxcb-dri3-0_1.13.1-2_amd64.deb ...\nUnpacking libxcb-dri3-0:amd64 (1.13.1-2) ...\nSelecting previously unselected package libxcb-glx0:amd64.\nPreparing to unpack .../36-libxcb-glx0_1.13.1-2_amd64.deb ...\nUnpacking libxcb-glx0:amd64 (1.13.1-2) ...\nSelecting previously unselected package libxcb-present0:amd64.\nPreparing to unpack .../37-libxcb-present0_1.13.1-2_amd64.deb ...\nUnpacking libxcb-present0:amd64 (1.13.1-2) ...\nSelecting previously unselected package libxcb-sync1:amd64.\nPreparing to unpack .../38-libxcb-sync1_1.13.1-2_amd64.deb ...\nUnpacking libxcb-sync1:amd64 (1.13.1-2) ...\nSelecting previously unselected package libxshmfence1:amd64.\nPreparing to unpack .../39-libxshmfence1_1.3-1_amd64.deb ...\nUnpacking libxshmfence1:amd64 (1.3-1) ...\nSelecting previously unselected package libxxf86vm1:amd64.\nPreparing to unpack .../40-libxxf86vm1_1%3a1.1.4-1+b2_amd64.deb ...\nUnpacking libxxf86vm1:amd64 (1:1.1.4-1+b2) ...\nSelecting previously unselected package libdrm-amdgpu1:amd64.\nPreparing to unpack .../41-libdrm-amdgpu1_2.4.97-1_amd64.deb ...\nUnpacking libdrm-amdgpu1:amd64 (2.4.97-1) ...\nSelecting previously unselected package libpciaccess0:amd64.\nPreparing to unpack .../42-libpciaccess0_0.14-1_amd64.deb ...\nUnpacking libpciaccess0:amd64 (0.14-1) ...\nSelecting previously unselected package libdrm-intel1:amd64.\nPreparing to unpack .../43-libdrm-intel1_2.4.97-1_amd64.deb ...\nUnpacking libdrm-intel1:amd64 (2.4.97-1) ...\nSelecting previously unselected package libdrm-nouveau2:amd64.\nPreparing to unpack .../44-libdrm-nouveau2_2.4.97-1_amd64.deb ...\nUnpacking libdrm-nouveau2:amd64 (2.4.97-1) ...\nSelecting previously unselected package libdrm-radeon1:amd64.\nPreparing to unpack .../45-libdrm-radeon1_2.4.97-1_amd64.deb ...\nUnpacking libdrm-radeon1:amd64 (2.4.97-1) ...\nSelecting previously unselected package libllvm7:amd64.\nPreparing to unpack .../46-libllvm7_1%3a7.0.1-8+deb10u2_amd64.deb ...\nUnpacking libllvm7:amd64 (1:7.0.1-8+deb10u2) ...\nSelecting previously unselected package libsensors-config.\nPreparing to unpack .../47-libsensors-config_1%3a3.5.0-3_all.deb ...\nUnpacking libsensors-config (1:3.5.0-3) ...\nSelecting previously unselected package libsensors5:amd64.\nPreparing to unpack .../48-libsensors5_1%3a3.5.0-3_amd64.deb ...\nUnpacking libsensors5:amd64 (1:3.5.0-3) ...\nSelecting previously unselected package libgl1-mesa-dri:amd64.\nPreparing to unpack .../49-libgl1-mesa-dri_18.3.6-2+deb10u1_amd64.deb ...\nUnpacking libgl1-mesa-dri:amd64 (18.3.6-2+deb10u1) ...\nSelecting previously unselected package libglx-mesa0:amd64.\nPreparing to unpack .../50-libglx-mesa0_18.3.6-2+deb10u1_amd64.deb ...\nUnpacking libglx-mesa0:amd64 (18.3.6-2+deb10u1) ...\nSelecting previously unselected package libglx0:amd64.\nPreparing to unpack .../51-libglx0_1.1.0-1_amd64.deb ...\nUnpacking libglx0:amd64 (1.1.0-1) ...\nSelecting previously unselected package libgl1:amd64.\nPreparing to unpack .../52-libgl1_1.1.0-1_amd64.deb ...\nUnpacking libgl1:amd64 (1.1.0-1) ...\nSelecting previously unselected package libxcb-shape0:amd64.\nPreparing to unpack .../53-libxcb-shape0_1.13.1-2_amd64.deb ...\nUnpacking libxcb-shape0:amd64 (1.13.1-2) ...\nSelecting previously unselected package libxmuu1:amd64.\nPreparing to unpack .../54-libxmuu1_2%3a1.1.2-2+b3_amd64.deb ...\nUnpacking libxmuu1:amd64 (2:1.1.2-2+b3) ...\nSelecting previously unselected package libxv1:amd64.\nPreparing to unpack .../55-libxv1_2%3a1.0.11-1_amd64.deb ...\nUnpacking libxv1:amd64 (2:1.0.11-1) ...\nSelecting previously unselected package libxxf86dga1:amd64.\nPreparing to unpack .../56-libxxf86dga1_2%3a1.1.4-1+b3_amd64.deb ...\nUnpacking libxxf86dga1:amd64 (2:1.1.4-1+b3) ...\nSelecting previously unselected package x11-utils.\nPreparing to unpack .../57-x11-utils_7.7+4_amd64.deb ...\nUnpacking x11-utils (7.7+4) ...\nSelecting previously unselected package libatk-wrapper-java.\nPreparing to unpack .../58-libatk-wrapper-java_0.33.3-22+deb10u1_all.deb ...\nUnpacking libatk-wrapper-java (0.33.3-22+deb10u1) ...\nSelecting previously unselected package libcolord2:amd64.\nPreparing to unpack .../59-libcolord2_1.4.3-4_amd64.deb ...\nUnpacking libcolord2:amd64 (1.4.3-4) ...\nSelecting previously unselected package libepoxy0:amd64.\nPreparing to unpack .../60-libepoxy0_1.5.3-0.1_amd64.deb ...\nUnpacking libepoxy0:amd64 (1.5.3-0.1) ...\nSelecting previously unselected package libjson-glib-1.0-common.\nPreparing to unpack .../61-libjson-glib-1.0-common_1.4.4-2_all.deb ...\nUnpacking libjson-glib-1.0-common (1.4.4-2) ...\nSelecting previously unselected package libjson-glib-1.0-0:amd64.\nPreparing to unpack .../62-libjson-glib-1.0-0_1.4.4-2_amd64.deb ...\nUnpacking libjson-glib-1.0-0:amd64 (1.4.4-2) ...\nSelecting previously unselected package libsoup2.4-1:amd64.\nPreparing to unpack .../63-libsoup2.4-1_2.64.2-2_amd64.deb ...\nUnpacking libsoup2.4-1:amd64 (2.64.2-2) ...\nSelecting previously unselected package libsoup-gnome2.4-1:amd64.\nPreparing to unpack .../64-libsoup-gnome2.4-1_2.64.2-2_amd64.deb ...\nUnpacking libsoup-gnome2.4-1:amd64 (2.64.2-2) ...\nSelecting previously unselected package librest-0.7-0:amd64.\nPreparing to unpack .../65-librest-0.7-0_0.8.1-1_amd64.deb ...\nUnpacking librest-0.7-0:amd64 (0.8.1-1) ...\nSelecting previously unselected package libwayland-client0:amd64.\nPreparing to unpack .../66-libwayland-client0_1.16.0-1_amd64.deb ...\nUnpacking libwayland-client0:amd64 (1.16.0-1) ...\nSelecting previously unselected package libwayland-cursor0:amd64.\nPreparing to unpack .../67-libwayland-cursor0_1.16.0-1_amd64.deb ...\nUnpacking libwayland-cursor0:amd64 (1.16.0-1) ...\nSelecting previously unselected package libwayland-egl1:amd64.\nPreparing to unpack .../68-libwayland-egl1_1.16.0-1_amd64.deb ...\nUnpacking libwayland-egl1:amd64 (1.16.0-1) ...\nSelecting previously unselected package xkb-data.\nPreparing to unpack .../69-xkb-data_2.26-2_all.deb ...\nUnpacking xkb-data (2.26-2) ...\nSelecting previously unselected package libxkbcommon0:amd64.\nPreparing to unpack .../70-libxkbcommon0_0.8.2-1_amd64.deb ...\nUnpacking libxkbcommon0:amd64 (0.8.2-1) ...\nSelecting previously unselected package libgtk-3-common.\nPreparing to unpack .../71-libgtk-3-common_3.24.5-1_all.deb ...\nUnpacking libgtk-3-common (3.24.5-1) ...\nSelecting previously unselected package libgtk-3-0:amd64.\nPreparing to unpack .../72-libgtk-3-0_3.24.5-1_amd64.deb ...\nUnpacking libgtk-3-0:amd64 (3.24.5-1) ...\nSelecting previously unselected package libatk-wrapper-java-jni:amd64.\nPreparing to unpack .../73-libatk-wrapper-java-jni_0.33.3-22+deb10u1_amd64.deb ...\nUnpacking libatk-wrapper-java-jni:amd64 (0.33.3-22+deb10u1) ...\nSelecting previously unselected package libgif7:amd64.\nPreparing to unpack .../74-libgif7_5.1.4-3_amd64.deb ...\nUnpacking libgif7:amd64 (5.1.4-3) ...\nSelecting previously unselected package libgtk-3-bin.\nPreparing to unpack .../75-libgtk-3-bin_3.24.5-1_amd64.deb ...\nUnpacking libgtk-3-bin (3.24.5-1) ...\nSelecting previously unselected package libxt-dev:amd64.\nPreparing to unpack .../76-libxt-dev_1%3a1.1.5-1+b3_amd64.deb ...\nUnpacking libxt-dev:amd64 (1:1.1.5-1+b3) ...\nSelecting previously unselected package openjdk-11-jre:amd64.\nPreparing to unpack .../77-openjdk-11-jre_11.0.16+8-1~deb10u1_amd64.deb ...\nUnpacking openjdk-11-jre:amd64 (11.0.16+8-1~deb10u1) ...\nSelecting previously unselected package openjdk-11-jdk-headless:amd64.\nPreparing to unpack .../78-openjdk-11-jdk-headless_11.0.16+8-1~deb10u1_amd64.deb ...\nUnpacking openjdk-11-jdk-headless:amd64 (11.0.16+8-1~deb10u1) ...\nSelecting previously unselected package openjdk-11-jdk:amd64.\nPreparing to unpack .../79-openjdk-11-jdk_11.0.16+8-1~deb10u1_amd64.deb ...\nUnpacking openjdk-11-jdk:amd64 (11.0.16+8-1~deb10u1) ...\nSetting up libxcb-dri3-0:amd64 (1.13.1-2) ...\nSetting up liblcms2-2:amd64 (2.9-3) ...\nSetting up libx11-xcb1:amd64 (2:1.6.7-1+deb10u2) ...\nSetting up libpciaccess0:amd64 (0.14-1) ...\nSetting up systemd-sysv (241-7~deb10u8) ...\nSetting up libproxy1v5:amd64 (0.4.15-5+deb10u1) ...\nSetting up java-common (0.71) ...\nSetting up libglvnd0:amd64 (1.1.0-1) ...\nSetting up libxtst6:amd64 (2:1.2.3-1) ...\nSetting up libxcb-glx0:amd64 (1.13.1-2) ...\nSetting up libxcb-shape0:amd64 (1.13.1-2) ...\nSetting up libsensors-config (1:3.5.0-3) ...\nSetting up libxxf86dga1:amd64 (2:1.1.4-1+b3) ...\nSetting up libnss-systemd:amd64 (241-7~deb10u8) ...\nFirst installation detected...\nChecking NSS setup...\nSetting up xkb-data (2.26-2) ...\nSetting up libcolord2:amd64 (1.4.3-4) ...\nSetting up libxxf86vm1:amd64 (1:1.1.4-1+b2) ...\nSetting up libxcb-present0:amd64 (1.13.1-2) ...\nSetting up libdconf1:amd64 (0.30.1-2) ...\nSetting up libasound2-data (1.1.8-1) ...\nSetting up libfontenc1:amd64 (1:1.1.3-1+b2) ...\nSetting up libepoxy0:amd64 (1.5.3-0.1) ...\nSetting up libnspr4:amd64 (2:4.20-1) ...\nSetting up libxcb-sync1:amd64 (1.13.1-2) ...\nSetting up libxt-dev:amd64 (1:1.1.5-1+b3) ...\nSetting up libdbus-1-3:amd64 (1.12.24-0+deb10u1) ...\nSetting up dbus (1.12.24-0+deb10u1) ...\ninvoke-rc.d: could not determine current runlevel\ninvoke-rc.d: policy-rc.d denied execution of start.\nSetting up libxv1:amd64 (2:1.0.11-1) ...\nSetting up libpcsclite1:amd64 (1.8.24-1) ...\nSetting up libsensors5:amd64 (1:3.5.0-3) ...\nSetting up libglapi-mesa:amd64 (18.3.6-2+deb10u1) ...\nSetting up libxcb-dri2-0:amd64 (1.13.1-2) ...\nSetting up libgif7:amd64 (5.1.4-3) ...\nSetting up fonts-dejavu-extra (2.37-1) ...\nSetting up libxshmfence1:amd64 (1.3-1) ...\nSetting up libasound2:amd64 (1.1.8-1) ...\nSetting up libpam-systemd:amd64 (241-7~deb10u8) ...\ndebconf: unable to initialize frontend: Dialog\ndebconf: (No usable dialog-like program is installed, so the dialog based frontend cannot be used. at /usr/share/perl5/Debconf/FrontEnd/Dialog.pm line 78.)\ndebconf: falling back to frontend: Readline\nSetting up libllvm7:amd64 (1:7.0.1-8+deb10u2) ...\nSetting up libjson-glib-1.0-common (1.4.4-2) ...\nSetting up libwayland-egl1:amd64 (1.16.0-1) ...\nSetting up glib-networking-common (2.58.0-2+deb10u2) ...\nSetting up libdrm-common (2.4.97-1) ...\nSetting up libxmuu1:amd64 (2:1.1.2-2+b3) ...\nSetting up libxkbcommon0:amd64 (0.8.2-1) ...\nSetting up libwayland-client0:amd64 (1.16.0-1) ...\nSetting up glib-networking-services (2.58.0-2+deb10u2) ...\nSetting up libnss3:amd64 (2:3.42.1-1+deb10u5) ...\nSetting up libatspi2.0-0:amd64 (2.30.0-7) ...\nSetting up libjson-glib-1.0-0:amd64 (1.4.4-2) ...\nSetting up libatk-bridge2.0-0:amd64 (2.30.0-5) ...\nSetting up dbus-user-session (1.12.24-0+deb10u1) ...\nSetting up libdrm2:amd64 (2.4.97-1) ...\nSetting up at-spi2-core (2.30.0-7) ...\nSetting up libwayland-cursor0:amd64 (1.16.0-1) ...\nSetting up libdrm-amdgpu1:amd64 (2.4.97-1) ...\nSetting up libdrm-nouveau2:amd64 (2.4.97-1) ...\nSetting up libdrm-radeon1:amd64 (2.4.97-1) ...\nSetting up libdrm-intel1:amd64 (2.4.97-1) ...\nSetting up libgl1-mesa-dri:amd64 (18.3.6-2+deb10u1) ...\nSetting up dconf-service (0.30.1-2) ...\nSetting up libglx-mesa0:amd64 (18.3.6-2+deb10u1) ...\nSetting up libglx0:amd64 (1.1.0-1) ...\nSetting up dconf-gsettings-backend:amd64 (0.30.1-2) ...\nSetting up libgl1:amd64 (1.1.0-1) ...\nSetting up x11-utils (7.7+4) ...\nSetting up libatk-wrapper-java (0.33.3-22+deb10u1) ...\nSetting up libgtk-3-common (3.24.5-1) ...\nSetting up gsettings-desktop-schemas (3.28.1-1) ...\nSetting up openjdk-11-jre-headless:amd64 (11.0.16+8-1~deb10u1) ...\nupdate-alternatives: using /usr/lib/jvm/java-11-openjdk-amd64/bin/java to provide /usr/bin/java (java) in auto mode\nupdate-alternatives: using /usr/lib/jvm/java-11-openjdk-amd64/bin/jjs to provide /usr/bin/jjs (jjs) in auto mode\nupdate-alternatives: using /usr/lib/jvm/java-11-openjdk-amd64/bin/keytool to provide /usr/bin/keytool (keytool) in auto mode\nupdate-alternatives: using /usr/lib/jvm/java-11-openjdk-amd64/bin/rmid to provide /usr/bin/rmid (rmid) in auto mode\nupdate-alternatives: using /usr/lib/jvm/java-11-openjdk-amd64/bin/rmiregistry to provide /usr/bin/rmiregistry (rmiregistry) in auto mode\nupdate-alternatives: using /usr/lib/jvm/java-11-openjdk-amd64/bin/pack200 to provide /usr/bin/pack200 (pack200) in auto mode\nupdate-alternatives: using /usr/lib/jvm/java-11-openjdk-amd64/bin/unpack200 to provide /usr/bin/unpack200 (unpack200) in auto mode\nupdate-alternatives: using /usr/lib/jvm/java-11-openjdk-amd64/lib/jexec to provide /usr/bin/jexec (jexec) in auto mode\nSetting up openjdk-11-jre:amd64 (11.0.16+8-1~deb10u1) ...\nSetting up openjdk-11-jdk-headless:amd64 (11.0.16+8-1~deb10u1) ...\nupdate-alternatives: using /usr/lib/jvm/java-11-openjdk-amd64/bin/jar to provide /usr/bin/jar (jar) in auto mode\nupdate-alternatives: using /usr/lib/jvm/java-11-openjdk-amd64/bin/jarsigner to provide /usr/bin/jarsigner (jarsigner) in auto mode\nupdate-alternatives: using /usr/lib/jvm/java-11-openjdk-amd64/bin/javac to provide /usr/bin/javac (javac) in auto mode\nupdate-alternatives: using /usr/lib/jvm/java-11-openjdk-amd64/bin/javadoc to provide /usr/bin/javadoc (javadoc) in auto mode\nupdate-alternatives: using /usr/lib/jvm/java-11-openjdk-amd64/bin/javap to provide /usr/bin/javap (javap) in auto mode\nupdate-alternatives: using /usr/lib/jvm/java-11-openjdk-amd64/bin/jcmd to provide /usr/bin/jcmd (jcmd) in auto mode\nupdate-alternatives: using /usr/lib/jvm/java-11-openjdk-amd64/bin/jdb to provide /usr/bin/jdb (jdb) in auto mode\nupdate-alternatives: using /usr/lib/jvm/java-11-openjdk-amd64/bin/jdeprscan to provide /usr/bin/jdeprscan (jdeprscan) in auto mode\nupdate-alternatives: using /usr/lib/jvm/java-11-openjdk-amd64/bin/jdeps to provide /usr/bin/jdeps (jdeps) in auto mode\nupdate-alternatives: using /usr/lib/jvm/java-11-openjdk-amd64/bin/jfr to provide /usr/bin/jfr (jfr) in auto mode\nupdate-alternatives: using /usr/lib/jvm/java-11-openjdk-amd64/bin/jimage to provide /usr/bin/jimage (jimage) in auto mode\nupdate-alternatives: using /usr/lib/jvm/java-11-openjdk-amd64/bin/jinfo to provide /usr/bin/jinfo (jinfo) in auto mode\nupdate-alternatives: using /usr/lib/jvm/java-11-openjdk-amd64/bin/jlink to provide /usr/bin/jlink (jlink) in auto mode\nupdate-alternatives: using /usr/lib/jvm/java-11-openjdk-amd64/bin/jmap to provide /usr/bin/jmap (jmap) in auto mode\nupdate-alternatives: using /usr/lib/jvm/java-11-openjdk-amd64/bin/jmod to provide /usr/bin/jmod (jmod) in auto mode\nupdate-alternatives: using /usr/lib/jvm/java-11-openjdk-amd64/bin/jps to provide /usr/bin/jps (jps) in auto mode\nupdate-alternatives: using /usr/lib/jvm/java-11-openjdk-amd64/bin/jrunscript to provide /usr/bin/jrunscript (jrunscript) in auto mode\nupdate-alternatives: using /usr/lib/jvm/java-11-openjdk-amd64/bin/jshell to provide /usr/bin/jshell (jshell) in auto mode\nupdate-alternatives: using /usr/lib/jvm/java-11-openjdk-amd64/bin/jstack to provide /usr/bin/jstack (jstack) in auto mode\nupdate-alternatives: using /usr/lib/jvm/java-11-openjdk-amd64/bin/jstat to provide /usr/bin/jstat (jstat) in auto mode\nupdate-alternatives: using /usr/lib/jvm/java-11-openjdk-amd64/bin/jstatd to provide /usr/bin/jstatd (jstatd) in auto mode\nupdate-alternatives: using /usr/lib/jvm/java-11-openjdk-amd64/bin/rmic to provide /usr/bin/rmic (rmic) in auto mode\nupdate-alternatives: using /usr/lib/jvm/java-11-openjdk-amd64/bin/serialver to provide /usr/bin/serialver (serialver) in auto mode\nupdate-alternatives: using /usr/lib/jvm/java-11-openjdk-amd64/bin/jaotc to provide /usr/bin/jaotc (jaotc) in auto mode\nupdate-alternatives: using /usr/lib/jvm/java-11-openjdk-amd64/bin/jhsdb to provide /usr/bin/jhsdb (jhsdb) in auto mode\nSetting up openjdk-11-jdk:amd64 (11.0.16+8-1~deb10u1) ...\nupdate-alternatives: using /usr/lib/jvm/java-11-openjdk-amd64/bin/jconsole to provide /usr/bin/jconsole (jconsole) in auto mode\nSetting up ca-certificates-java (20190405) ...\nhead: cannot open '/etc/ssl/certs/java/cacerts' for reading: No such file or directory\nAdding debian:ACCVRAIZ1.pem\nAdding debian:AC_RAIZ_FNMT-RCM.pem\nAdding debian:Actalis_Authentication_Root_CA.pem\nAdding debian:AffirmTrust_Commercial.pem\nAdding debian:AffirmTrust_Networking.pem\nAdding debian:AffirmTrust_Premium.pem\nAdding debian:AffirmTrust_Premium_ECC.pem\nAdding debian:Amazon_Root_CA_1.pem\nAdding debian:Amazon_Root_CA_2.pem\nAdding debian:Amazon_Root_CA_3.pem\nAdding debian:Amazon_Root_CA_4.pem\nAdding debian:Atos_TrustedRoot_2011.pem\nAdding debian:Autoridad_de_Certificacion_Firmaprofesional_CIF_A62634068.pem\nAdding debian:Baltimore_CyberTrust_Root.pem\nAdding debian:Buypass_Class_2_Root_CA.pem\nAdding debian:Buypass_Class_3_Root_CA.pem\nAdding debian:CA_Disig_Root_R2.pem\nAdding debian:CFCA_EV_ROOT.pem\nAdding debian:COMODO_Certification_Authority.pem\nAdding debian:COMODO_ECC_Certification_Authority.pem\nAdding debian:COMODO_RSA_Certification_Authority.pem\nAdding debian:Certigna.pem\nAdding debian:Certigna_Root_CA.pem\nAdding debian:Certum_Trusted_Network_CA.pem\nAdding debian:Certum_Trusted_Network_CA_2.pem\nAdding debian:Chambers_of_Commerce_Root_-_2008.pem\nAdding debian:Comodo_AAA_Services_root.pem\nAdding debian:Cybertrust_Global_Root.pem\nAdding debian:D-TRUST_Root_Class_3_CA_2_2009.pem\nAdding debian:D-TRUST_Root_Class_3_CA_2_EV_2009.pem\nAdding debian:DST_Root_CA_X3.pem\nAdding debian:DigiCert_Assured_ID_Root_CA.pem\nAdding debian:DigiCert_Assured_ID_Root_G2.pem\nAdding debian:DigiCert_Assured_ID_Root_G3.pem\nAdding debian:DigiCert_Global_Root_CA.pem\nAdding debian:DigiCert_Global_Root_G2.pem\nAdding debian:DigiCert_Global_Root_G3.pem\nAdding debian:DigiCert_High_Assurance_EV_Root_CA.pem\nAdding debian:DigiCert_Trusted_Root_G4.pem\nAdding debian:E-Tugra_Certification_Authority.pem\nAdding debian:EC-ACC.pem\nAdding debian:EE_Certification_Centre_Root_CA.pem\nAdding debian:Entrust.net_Premium_2048_Secure_Server_CA.pem\nAdding debian:Entrust_Root_Certification_Authority.pem\nAdding debian:GDCA_TrustAUTH_R5_ROOT.pem\nAdding debian:Entrust_Root_Certification_Authority_-_EC1.pem\nAdding debian:Entrust_Root_Certification_Authority_-_G2.pem\nAdding debian:Entrust_Root_Certification_Authority_-_G4.pem\nAdding debian:GTS_Root_R1.pem\nAdding debian:GTS_Root_R2.pem\nAdding debian:GTS_Root_R3.pem\nAdding debian:GTS_Root_R4.pem\nAdding debian:GeoTrust_Global_CA.pem\nAdding debian:GeoTrust_Primary_Certification_Authority.pem\nAdding debian:GeoTrust_Primary_Certification_Authority_-_G2.pem\nAdding debian:GeoTrust_Primary_Certification_Authority_-_G3.pem\nAdding debian:GeoTrust_Universal_CA.pem\nAdding debian:GeoTrust_Universal_CA_2.pem\nAdding debian:GlobalSign_ECC_Root_CA_-_R4.pem\nAdding debian:GlobalSign_ECC_Root_CA_-_R5.pem\nAdding debian:GlobalSign_Root_CA.pem\nAdding debian:GlobalSign_Root_CA_-_R2.pem\nAdding debian:GlobalSign_Root_CA_-_R3.pem\nAdding debian:GlobalSign_Root_CA_-_R6.pem\nAdding debian:Global_Chambersign_Root_-_2008.pem\nAdding debian:Go_Daddy_Class_2_CA.pem\nAdding debian:Go_Daddy_Root_Certificate_Authority_-_G2.pem\nAdding debian:Hellenic_Academic_and_Research_Institutions_ECC_RootCA_2015.pem\nAdding debian:Hellenic_Academic_and_Research_Institutions_RootCA_2011.pem\nAdding debian:Hellenic_Academic_and_Research_Institutions_RootCA_2015.pem\nAdding debian:Hongkong_Post_Root_CA_1.pem\nAdding debian:Hongkong_Post_Root_CA_3.pem\nAdding debian:ISRG_Root_X1.pem\nAdding debian:IdenTrust_Commercial_Root_CA_1.pem\nAdding debian:IdenTrust_Public_Sector_Root_CA_1.pem\nAdding debian:Izenpe.com.pem\nAdding debian:LuxTrust_Global_Root_2.pem\nAdding debian:Microsec_e-Szigno_Root_CA_2009.pem\nAdding debian:NetLock_Arany_=Class_Gold=_Főtanúsítvány.pem\nAdding debian:Network_Solutions_Certificate_Authority.pem\nAdding debian:OISTE_WISeKey_Global_Root_GA_CA.pem\nAdding debian:OISTE_WISeKey_Global_Root_GB_CA.pem\nAdding debian:OISTE_WISeKey_Global_Root_GC_CA.pem\nAdding debian:QuoVadis_Root_CA.pem\nAdding debian:QuoVadis_Root_CA_1_G3.pem\nAdding debian:QuoVadis_Root_CA_2.pem\nAdding debian:QuoVadis_Root_CA_2_G3.pem\nAdding debian:QuoVadis_Root_CA_3.pem\nAdding debian:QuoVadis_Root_CA_3_G3.pem\nAdding debian:SSL.com_EV_Root_Certification_Authority_ECC.pem\nAdding debian:SSL.com_EV_Root_Certification_Authority_RSA_R2.pem\nAdding debian:SSL.com_Root_Certification_Authority_ECC.pem\nAdding debian:SSL.com_Root_Certification_Authority_RSA.pem\nAdding debian:SZAFIR_ROOT_CA2.pem\nAdding debian:SecureSign_RootCA11.pem\nAdding debian:SecureTrust_CA.pem\nAdding debian:Secure_Global_CA.pem\nAdding debian:Security_Communication_RootCA2.pem\nAdding debian:Security_Communication_Root_CA.pem\nAdding debian:Sonera_Class_2_Root_CA.pem\nAdding debian:Staat_der_Nederlanden_EV_Root_CA.pem\nAdding debian:Staat_der_Nederlanden_Root_CA_-_G2.pem\nAdding debian:Staat_der_Nederlanden_Root_CA_-_G3.pem\nAdding debian:Starfield_Class_2_CA.pem\nAdding debian:Starfield_Root_Certificate_Authority_-_G2.pem\nAdding debian:Starfield_Services_Root_Certificate_Authority_-_G2.pem\nAdding debian:SwissSign_Gold_CA_-_G2.pem\nAdding debian:SwissSign_Silver_CA_-_G2.pem\nAdding debian:T-TeleSec_GlobalRoot_Class_2.pem\nAdding debian:T-TeleSec_GlobalRoot_Class_3.pem\nAdding debian:TUBITAK_Kamu_SM_SSL_Kok_Sertifikasi_-_Surum_1.pem\nAdding debian:TWCA_Global_Root_CA.pem\nAdding debian:TWCA_Root_Certification_Authority.pem\nAdding debian:Taiwan_GRCA.pem\nAdding debian:TeliaSonera_Root_CA_v1.pem\nAdding debian:TrustCor_ECA-1.pem\nAdding debian:TrustCor_RootCert_CA-1.pem\nAdding debian:TrustCor_RootCert_CA-2.pem\nAdding debian:Trustis_FPS_Root_CA.pem\nAdding debian:UCA_Extended_Validation_Root.pem\nAdding debian:UCA_Global_G2_Root.pem\nAdding debian:USERTrust_ECC_Certification_Authority.pem\nAdding debian:USERTrust_RSA_Certification_Authority.pem\nAdding debian:VeriSign_Class_3_Public_Primary_Certification_Authority_-_G4.pem\nAdding debian:VeriSign_Class_3_Public_Primary_Certification_Authority_-_G5.pem\nAdding debian:VeriSign_Universal_Root_Certification_Authority.pem\nAdding debian:Verisign_Class_3_Public_Primary_Certification_Authority_-_G3.pem\nAdding debian:XRamp_Global_CA_Root.pem\nAdding debian:certSIGN_ROOT_CA.pem\nAdding debian:ePKI_Root_Certification_Authority.pem\nAdding debian:emSign_ECC_Root_CA_-_C3.pem\nAdding debian:emSign_ECC_Root_CA_-_G3.pem\nAdding debian:emSign_Root_CA_-_C1.pem\nAdding debian:emSign_Root_CA_-_G1.pem\nAdding debian:thawte_Primary_Root_CA.pem\nAdding debian:thawte_Primary_Root_CA_-_G2.pem\nAdding debian:thawte_Primary_Root_CA_-_G3.pem\ndone.\nProcessing triggers for fontconfig (2.13.1-2) ...\nProcessing triggers for mime-support (3.62) ...\nProcessing triggers for hicolor-icon-theme (0.17-2) ...\nProcessing triggers for libglib2.0-0:amd64 (2.58.3-2+deb10u3) ...\nProcessing triggers for libc-bin (2.28-10+deb10u1) ...\nProcessing triggers for systemd (241-7~deb10u8) ...\nProcessing triggers for ca-certificates (20200601~deb10u2) ...\nUpdating certificates in /etc/ssl/certs...\n0 added, 0 removed; done.\nRunning hooks in /etc/ca-certificates/update.d...\n\ndone.\ndone.\nSetting up glib-networking:amd64 (2.58.0-2+deb10u2) ...\nSetting up libsoup2.4-1:amd64 (2.64.2-2) ...\nSetting up libsoup-gnome2.4-1:amd64 (2.64.2-2) ...\nSetting up librest-0.7-0:amd64 (0.8.1-1) ...\nSetting up libgtk-3-0:amd64 (3.24.5-1) ...\nSetting up libgtk-3-bin (3.24.5-1) ...\nSetting up libatk-wrapper-java-jni:amd64 (0.33.3-22+deb10u1) ...\nProcessing triggers for libc-bin (2.28-10+deb10u1) ...\nRequirement already satisfied: pyspark in /root/venv/lib/python3.9/site-packages (3.3.0)\nRequirement already satisfied: py4j==0.10.9.5 in /root/venv/lib/python3.9/site-packages (from pyspark) (0.10.9.5)\n\u001b[33mWARNING: You are using pip version 22.0.4; however, version 22.2.2 is available.\nYou should consider upgrading via the '/root/venv/bin/python -m pip install --upgrade pip' command.\u001b[0m\u001b[33m\n\u001b[0mSetting default log level to \"WARN\".\nTo adjust logging level use sc.setLogLevel(newLevel). For SparkR, use setLogLevel(newLevel).\n22/10/14 02:57:16 WARN NativeCodeLoader: Unable to load native-hadoop library for your platform... using builtin-java classes where applicable\n",
     "output_type": "stream"
    }
   ]
  },
  {
   "cell_type": "markdown",
   "source": "### Grab Wikipedia Data\nWe will be using the beautiful soup library to scrape each year's top 100 tracks. Wikipedia lists each year's top-100 list in a tabulated format with the first column being the song's rank, the second column being the track name, and the last column being the artists involved.",
   "metadata": {
    "tags": [],
    "cell_id": "195fe57d4eb140c19723add852f19108",
    "deepnote_cell_type": "markdown",
    "deepnote_cell_height": 145.1875
   }
  },
  {
   "cell_type": "code",
   "metadata": {
    "tags": [],
    "cell_id": "7099fa4f515b4add9a76d05dfadd2a9d",
    "source_hash": "1fd7de9c",
    "execution_start": 1665757324766,
    "execution_millis": 11386,
    "deepnote_table_state": {
     "sortBy": [
      {
       "id": "№",
       "type": "asc"
      }
     ],
     "filters": [],
     "pageSize": 10,
     "pageIndex": 0
    },
    "deepnote_table_invalid": false,
    "deepnote_table_loading": false,
    "deepnote_to_be_reexecuted": false,
    "deepnote_cell_type": "code",
    "deepnote_cell_height": 454,
    "deepnote_output_heights": [
     173.75
    ]
   },
   "source": "# create function that grabs top 100 for each year\ndef wiki_lists(url_prefix, min_yr, max_yr):\n    # initialize empty df to append to\n    df = pd.DataFrame()\n    # for each year open the url and extract the table as a df\n    for yr in np.arange(min_yr, max_yr + 1):\n        url = f'{url_prefix}{str(yr)}'\n        html = urlopen(url)\n        soup = BeautifulSoup(html, 'html.parser')\n        wikitab = soup.find('table',{'class':\"wikitable\"})\n        df_yr = pd.read_html(str(wikitab))\n        df_yr = pd.DataFrame(df_yr[0])\n        # align column names\n        df_yr.columns = ['rank','track_nm','artist_nms']\n        df_yr['year'] = yr\n        # append to general df\n        df = pd.concat([df, df_yr], ignore_index = True)\n    return df\n\n# set min_yr back to config.min_yr when doing full analysis\n#  doing a smaller subset for a faster run\ndf = wiki_lists(config.wiki_url_prefix, config.min_yr, config.max_yr)",
   "execution_count": null,
   "outputs": []
  },
  {
   "cell_type": "code",
   "metadata": {
    "cell_id": "63e398c6381b47a6971bf894ce44fe5c",
    "tags": [],
    "deepnote_to_be_reexecuted": false,
    "source_hash": "d8433f12",
    "execution_start": 1665800232087,
    "execution_millis": 44,
    "deepnote_cell_type": "code",
    "deepnote_cell_height": 481.1875,
    "deepnote_output_heights": [
     39.390625
    ]
   },
   "source": "# url = f'{config.wiki_url_prefix}2021'\n# html = urlopen(url)\n# soup = BeautifulSoup(html, 'html.parser')\n# wikitab = soup.find('table',{'class':\"wikitable\"})\n# wikitab.select('td')[11].find_all('a')#.get('title')\n\ndef wiki_refs(url_prefix, min_yr, max_yr):\n    # initialize empty list to append to\n    lst = []\n    # for each year open the url and extract artist names and wp links\n    for yr in np.arange(min_yr, max_yr + 1):\n        url = f'{url_prefix}{str(yr)}'\n        html = urlopen(url)\n        soup = BeautifulSoup(html, 'html.parser')\n        wikitab = soup.find('table',{'class':\"wikitable\"}).select('td')\n        # iterate through wikitab and grab artist names and href\n        # lst.extend([[x.get('title'), x.get('href')] for x := i.find('a') in wikitab])\n    return [[x.get('title'), x.get('href')] for x := i.find('a') in wikitab]\n\nwiki_refs(config.wiki_url_prefix, 2015, 2021)",
   "execution_count": 1,
   "outputs": [
    {
     "output_type": "error",
     "ename": "SyntaxError",
     "evalue": "invalid syntax (549088003.py, line 18)",
     "traceback": [
      "\u001b[0;36m  Cell \u001b[0;32mIn [1], line 18\u001b[0;36m\u001b[0m\n\u001b[0;31m    return [[x.get('title'), x.get('href')] for x := i.find('a') in wikitab]\u001b[0m\n\u001b[0m                                                  ^\u001b[0m\n\u001b[0;31mSyntaxError\u001b[0m\u001b[0;31m:\u001b[0m invalid syntax\n"
     ]
    }
   ]
  },
  {
   "cell_type": "markdown",
   "source": "### Grab Spotify Data\nWe will use the data scraped from Wikipedia to search Spotify for as many billboard year-end top 100 tracks as we can find. Using regex and some text formatting we will try to capture as many songs as possible. After finding these songs and retrieving their Spotify track id's, we can use those id's to call their track attributes.",
   "metadata": {
    "tags": [],
    "cell_id": "60f04794c71945f39d1b6393f4cd780c",
    "deepnote_cell_type": "markdown",
    "deepnote_cell_height": 145.1875
   }
  },
  {
   "cell_type": "code",
   "metadata": {
    "tags": [],
    "cell_id": "0b276b2c37f44938a792f3a5ae6be629",
    "source_hash": "93e7df0a",
    "execution_start": 1665631880522,
    "execution_millis": 28,
    "deepnote_table_state": {
     "sortBy": [],
     "filters": [],
     "pageSize": 10,
     "pageIndex": 7
    },
    "deepnote_table_loading": false,
    "deepnote_to_be_reexecuted": false,
    "deepnote_cell_type": "code",
    "deepnote_cell_height": 243
   },
   "source": "def search_term(df, artist_col_nm, track_col_nm):\n    # lowercase and split using vector functions\n    artist_search = df[artist_col_nm].str.lower() \\\n        .str.replace('[\\\"\\']', '', regex = True) \\\n        .str.replace('((feat\\W|\\(|and\\s|featuring|,|with\\s|&\\s).*)', '', regex = True)\n    # define track terms\n    track_search = df[track_col_nm].str.replace('[\\\"\\'\\.]', '', regex = True).str.split(pat = \"/\").str[0]\n    return artist_search, track_search\n\ndf['artist_search'], df['track_search'] = search_term(df, 'artist_nms', 'track_nm')",
   "execution_count": null,
   "outputs": []
  },
  {
   "cell_type": "code",
   "metadata": {
    "tags": [],
    "cell_id": "fcd39ab7398a49ba892afb2e4445e720",
    "source_hash": "f31b00ba",
    "execution_start": 1665631880554,
    "execution_millis": 3,
    "deepnote_to_be_reexecuted": false,
    "deepnote_cell_type": "code",
    "deepnote_cell_height": 256
   },
   "source": "# create function that iterates through artists for matching\ndef artist_searcher(output, artist):\n    if len(output) == 0: return None, None\n    else:\n        for i in output:\n            artists = [re.sub('[\\\"\\']', '', a['name'].lower()) for a in i['artists']]\n            artists = set(itertools.chain.from_iterable(artists))\n            if set(artist.split()).isdisjoint(artists) == False:\n                try: return i[0]['id'], i[0]['artists'][0]['id']\n                except: return None, None\n            else: return None, None",
   "execution_count": null,
   "outputs": []
  },
  {
   "cell_type": "code",
   "metadata": {
    "tags": [],
    "cell_id": "8605fa87358a474785b0152dc2a8479a",
    "source_hash": "504952ca",
    "execution_start": 1665631880562,
    "execution_millis": 1,
    "deepnote_to_be_reexecuted": false,
    "deepnote_cell_type": "code",
    "deepnote_cell_height": 400
   },
   "source": "# create search rules to optimize accuracy of spotify search selection\ndef search_rule(query, artist, track, year):\n    try: output = sp.search(q = query + ' year:' + str(year) + '-' + str(year + 2),\n                            limit = 2, type = 'track')['tracks']['items']\n    except: output = sp.search(q = query, limit = 2, type = 'track')['tracks']['items']\n    # if condition is met we skip all other loops\n    if len(output) >= 1:\n        return output[0]['id'], output[0]['artists'][0]['id']\n    # if first condition is not met we just search on song title\n    else:\n        output = sp.search(q = 'track:' + track, type = 'track')['tracks']['items']\n        # use artist name to select appropriate title\n        track_id, artist_id = artist_searcher(output, artist)\n        if track_id is not None: return track_id, artist_id\n        else:\n            for word in track.split():\n                output = sp.search(q = 'track:' + word, type = 'track')['tracks']['items']\n                # use artist name to select appropriate title\n                return artist_searcher(output, artist)",
   "execution_count": null,
   "outputs": []
  },
  {
   "cell_type": "code",
   "metadata": {
    "cell_id": "a67d985273df436b993127c41938960f",
    "tags": [],
    "deepnote_to_be_reexecuted": false,
    "source_hash": "df19a6c9",
    "execution_start": 1665632782067,
    "execution_millis": 1262458,
    "deepnote_cell_type": "code",
    "deepnote_cell_height": 876
   },
   "source": "# for each song in the wiki df search spotify for track id's\ndef track_id_search(df, sp, artist_col, track_col, year):\n    df['query'] = 'artist:' + df[artist_col] + ' track:' + df[track_col] \n    sp_df = spark.createDataFrame(df[['query', artist_col, track_col, year]])\n    rdd = sp_df.rdd.map(lambda x: search_rule(x.query, x[artist_col], x[track_col], x[year]))\n    df2 = rdd.toDF(['track_ids', 'artist_ids'])\n    return df2.show()\n    \ntrack_id_search(df, sp, 'artist_search', 'track_search', 'year')\n# df['track_ids'], df['artist_ids'] = track_id_search(df, sp, 'artist_search', 'track_search', 'year')\n# df2 = df.dropna()",
   "execution_count": null,
   "outputs": [
    {
     "name": "stderr",
     "text": "HTTP Error for GET to https://api.spotify.com/v1/search with Params: {'q': 'artist:raiders track:Indian Reservation (The Lament of the Cherokee Reservation Indian) year:1971-1973', 'limit': 2, 'offset': 0, 'type': 'track', 'market': None} returned 400 due to Bad request.\nHTTP Error for GET to https://api.spotify.com/v1/search with Params: {'q': 'artist:raiders track:Indian Reservation (The Lament of the Cherokee Reservation Indian) year:1971-1973', 'limit': 2, 'offset': 0, 'type': 'track', 'market': None} returned 400 due to Bad request.\nHTTP Error for GET to https://api.spotify.com/v1/search with Params: {'q': 'artist:the hillside singers track:Id Like to Teach the World to Sing (In Perfect Harmony) year:1972-1974', 'limit': 2, 'offset': 0, 'type': 'track', 'market': None} returned 400 due to Bad request.\nHTTP Error for GET to https://api.spotify.com/v1/search with Params: {'q': 'artist:b.j. thomas track:(Hey Wont You Play) Another Somebody Done Somebody Wrong Song year:1975-1977', 'limit': 2, 'offset': 0, 'type': 'track', 'market': None} returned 400 due to Bad request.\nHTTP Error for GET to https://api.spotify.com/v1/search with Params: {'q': 'artist:the four seasons track:December, 1963 (Oh, What a Night) (DJ Ben Liebrand Remix) year:1994-1996', 'limit': 2, 'offset': 0, 'type': 'track', 'market': None} returned 400 due to Bad request.\n+--------------------+--------------------+\n|           track_ids|          artist_ids|\n+--------------------+--------------------+\n|                null|                null|\n|6rovOdp3HgK1DeAMY...|2y8Jo9CKhJvtfeKOs...|\n|12q3V8ShACq2PSWIN...|319yZVtYM9MBGqmSQ...|\n|44mCuGv8EzY6oZ4f6...|5fU6lODhpw3GEGGJu...|\n|1jy0RbDHyBMTupSdc...|1LZEQNv7sE11VDY3S...|\n|3mDOHVY9MWZOTODSN...|32HPpJAhgnGPT3V7U...|\n|6SvOdNsEfi7EDB0oF...|5ZEAzHE2TzAwUcOj6...|\n|1YYhDizHx7PnDhAhk...|7EK1bQADBoqbYXnT4...|\n|39Bd345OWEhRNyfay...|3RwQ26hR2tJtA8F9p...|\n|6gvfXd7pEUSPuNEMW...|72NXpYBIaTfEeAAsx...|\n|1IqFh00G2kvvMm8pR...|4NgfOZCL9Ml67xzM0...|\n|10vkYRKw6Jjr7try1...|3dkbV4qihUeMsqN4v...|\n|                null|                null|\n|5Vdg4tP25ffeGEC5G...|2tkwWmcZOQPNbbIdk...|\n|                null|                null|\n|61UuPxxYUvacEH6SH...|22bE4uQ6baNwSHPVc...|\n|6zV8IpLvw0tkRSVCF...|0vn7UBvSQECKJm281...|\n|2Bls0igCm79XQQ95I...|2Tk0pWxTuQgnE5nsU...|\n|0X2ckklp0uln3TRUH...|6f07NU6NNMLQYXIAB...|\n|0uHYplBhwLYey7f9q...|1EevBGfUh3RSQSGpl...|\n+--------------------+--------------------+\nonly showing top 20 rows\n\n",
     "output_type": "stream"
    }
   ]
  },
  {
   "cell_type": "code",
   "metadata": {
    "tags": [],
    "cell_id": "71a71d2ba6674568aefc26be7dbe1883",
    "source_hash": "a3835596",
    "execution_start": 1665620678806,
    "execution_millis": 1577886,
    "deepnote_to_be_reexecuted": false,
    "deepnote_cell_type": "code",
    "deepnote_cell_height": 314.28125
   },
   "source": "# for each song in the wiki df search spotify for track id's\ndef track_id_search(df, sp, artist_col, track_col, year):\n    df['query'] = 'artist:' + df[artist_col] + ' track:' + df[track_col] \n    track_ids, artist_ids = zip(*df[['query', artist_col, track_col, year]].apply(\n        lambda x: search_rule(x.query, x[artist_col], x[track_col], x[year]), axis = 1))\n    return track_ids, artist_ids\n    \ndf['track_ids'], df['artist_ids'] = track_id_search(df, sp, 'artist_search', 'track_search', 'year')\ndf2 = df.dropna()",
   "execution_count": null,
   "outputs": [
    {
     "name": "stderr",
     "text": "HTTP Error for GET to https://api.spotify.com/v1/search with Params: {'q': 'artist:raiders track:Indian Reservation (The Lament of the Cherokee Reservation Indian) year:1971-1973', 'limit': 2, 'offset': 0, 'type': 'track', 'market': None} returned 400 due to Bad request.\nHTTP Error for GET to https://api.spotify.com/v1/search with Params: {'q': 'artist:the hillside singers track:Id Like to Teach the World to Sing (In Perfect Harmony) year:1972-1974', 'limit': 2, 'offset': 0, 'type': 'track', 'market': None} returned 400 due to Bad request.\nHTTP Error for GET to https://api.spotify.com/v1/search with Params: {'q': 'artist:b.j. thomas track:(Hey Wont You Play) Another Somebody Done Somebody Wrong Song year:1975-1977', 'limit': 2, 'offset': 0, 'type': 'track', 'market': None} returned 400 due to Bad request.\nHTTP Error for GET to https://api.spotify.com/v1/search with Params: {'q': 'artist:the four seasons track:December, 1963 (Oh, What a Night) (DJ Ben Liebrand Remix) year:1994-1996', 'limit': 2, 'offset': 0, 'type': 'track', 'market': None} returned 400 due to Bad request.\n",
     "output_type": "stream"
    }
   ]
  },
  {
   "cell_type": "code",
   "metadata": {
    "tags": [],
    "cell_id": "9ddb586d6a9e4afc86ce015bfbb3d8f1",
    "source_hash": "db703313",
    "execution_start": 1665627936912,
    "execution_millis": 1530,
    "deepnote_table_state": {
     "sortBy": [],
     "filters": [],
     "pageSize": 10,
     "pageIndex": 2
    },
    "deepnote_table_invalid": false,
    "deepnote_table_loading": false,
    "deepnote_to_be_reexecuted": false,
    "deepnote_cell_type": "code",
    "deepnote_cell_height": 543.9375,
    "deepnote_output_heights": [
     173.75
    ]
   },
   "source": "# create function that uses track_ids to find audio features\ndef audio_feature(df, id_col):\n    ser = df[id_col]\n    af_df = pd.DataFrame()\n    for i in np.arange(0, df.shape[0], 100):\n        output = sp.audio_features(list(ser[i:(i + 100)]))\n        output = [i for i in output if i is not None]\n        extended = pd.DataFrame(output)\n        af_df = pd.concat([af_df, extended], ignore_index = True)\n    return af_df\n\ndf3 = df2.merge(audio_feature(df2, 'track_ids'), how = 'inner', left_on = 'track_ids',\n               right_on = 'id').drop_duplicates().dropna()",
   "execution_count": null,
   "outputs": [
    {
     "output_type": "error",
     "ename": "NameError",
     "evalue": "name 'df2' is not defined",
     "traceback": [
      "\u001b[0;31m---------------------------------------------------------------------------\u001b[0m",
      "\u001b[0;31mNameError\u001b[0m                                 Traceback (most recent call last)",
      "Cell \u001b[0;32mIn [1], line 13\u001b[0m\n\u001b[1;32m     10\u001b[0m         af_df \u001b[38;5;241m=\u001b[39m pd\u001b[38;5;241m.\u001b[39mconcat([af_df, extended], ignore_index \u001b[38;5;241m=\u001b[39m \u001b[38;5;28;01mTrue\u001b[39;00m)\n\u001b[1;32m     11\u001b[0m     \u001b[38;5;28;01mreturn\u001b[39;00m af_df\n\u001b[0;32m---> 13\u001b[0m df3 \u001b[38;5;241m=\u001b[39m \u001b[43mdf2\u001b[49m\u001b[38;5;241m.\u001b[39mmerge(audio_feature(df2, \u001b[38;5;124m'\u001b[39m\u001b[38;5;124mtrack_ids\u001b[39m\u001b[38;5;124m'\u001b[39m), how \u001b[38;5;241m=\u001b[39m \u001b[38;5;124m'\u001b[39m\u001b[38;5;124minner\u001b[39m\u001b[38;5;124m'\u001b[39m, left_on \u001b[38;5;241m=\u001b[39m \u001b[38;5;124m'\u001b[39m\u001b[38;5;124mtrack_ids\u001b[39m\u001b[38;5;124m'\u001b[39m,\n\u001b[1;32m     14\u001b[0m                right_on \u001b[38;5;241m=\u001b[39m \u001b[38;5;124m'\u001b[39m\u001b[38;5;124mid\u001b[39m\u001b[38;5;124m'\u001b[39m)\u001b[38;5;241m.\u001b[39mdrop_duplicates()\u001b[38;5;241m.\u001b[39mdropna()\n",
      "\u001b[0;31mNameError\u001b[0m: name 'df2' is not defined"
     ]
    }
   ]
  },
  {
   "cell_type": "code",
   "metadata": {
    "tags": [],
    "cell_id": "71f0638224034874b7e54b51817ab58a",
    "source_hash": "a246ec5d",
    "execution_start": 1665368807813,
    "execution_millis": 63,
    "deepnote_to_be_reexecuted": false,
    "deepnote_cell_type": "code",
    "deepnote_cell_height": 76
   },
   "source": "df3.to_csv(\"billboard_music_analysis/streamlit/data/bb_100_feat.csv\", index = False)",
   "execution_count": null,
   "outputs": []
  },
  {
   "cell_type": "markdown",
   "source": "##### Stale Code\nCode I am holding onto in case I need later",
   "metadata": {
    "tags": [],
    "cell_id": "53d1d46b2334422dacd0fe617c109efe",
    "deepnote_cell_type": "markdown",
    "deepnote_cell_height": 88.390625
   }
  },
  {
   "cell_type": "code",
   "metadata": {
    "tags": [],
    "cell_id": "799edd699d2940929ad3f3a09b08e784",
    "source_hash": "19aed032",
    "execution_start": 1665274950150,
    "execution_millis": 207,
    "deepnote_to_be_reexecuted": false,
    "deepnote_cell_type": "code",
    "deepnote_cell_height": 301.953125
   },
   "source": "for i in sp.search(q = 'artist:n ii u', type = 'track')['tracks']['items']:\n    print([re.sub('[\\\"\\']', '', artist['name'].lower()).split() for artist in i['artists']])",
   "execution_count": null,
   "outputs": [
    {
     "name": "stdout",
     "text": "[['guns', 'n', 'roses']]\n[['guns', 'n', 'roses']]\n[['guns', 'n', 'roses']]\n[['guns', 'n', 'roses']]\n[['guns', 'n', 'roses']]\n[['ninja', 'sex', 'party']]\n[['ramon', 'ayala', 'y', 'sus', 'bravos', 'del', 'norte']]\n[['guns', 'n', 'roses']]\n[['ultra', 'naté']]\n[['ninja', 'sex', 'party']]\n",
     "output_type": "stream"
    }
   ]
  },
  {
   "cell_type": "code",
   "metadata": {
    "tags": [],
    "cell_id": "4ada141bc81543bfb433da7df59d58c5",
    "source_hash": "19af9e53",
    "execution_start": 1664745108607,
    "execution_millis": 537,
    "deepnote_to_be_reexecuted": true,
    "deepnote_cell_type": "code",
    "deepnote_cell_height": 528.125
   },
   "source": "birdy_uri = 'spotify:artist:2WX2uTcsvV5OnS0inACecP'\nresults = sp.artist_albums(birdy_uri, album_type='album')\nalbums = results['items']\nwhile results['next']:\n    results = spotify.next(results)\n    albums.extend(results['items'])\nfor album in albums:\n    print(album['name'])",
   "execution_count": null,
   "outputs": [
    {
     "name": "stdout",
     "text": "Young Heart\nBeautiful Lies\nBeautiful Lies\nBeautiful Lies (Deluxe)\nBeautiful Lies (Deluxe)\nFire Within\nFire Within\nFire Within (Deluxe)\nFire Within (Deluxe)\nFire Within (Deluxe)\nLive in London\nBirdy\nBirdy\nBirdy\nBirdy\nBirdy (Deluxe Version)\n",
     "output_type": "stream"
    }
   ]
  },
  {
   "cell_type": "code",
   "metadata": {
    "tags": [],
    "cell_id": "2ebbcff6883842588194b1f25dece20e",
    "source_hash": "536bb800",
    "execution_start": 1664854747718,
    "execution_millis": 560,
    "deepnote_to_be_reexecuted": true,
    "deepnote_cell_type": "code",
    "deepnote_cell_height": 166.1875,
    "deepnote_output_heights": [
     20.1875
    ]
   },
   "source": "html = urlopen('https://en.wikipedia.org/wiki/Dua_Lipa')\nsoup = BeautifulSoup(html, 'html.parser')\nwikitab_temp = soup.find('table',{'class':\"infobox biography vcard\"})\nwikitab_temp.find_all('td', {'class':\"infobox-data\"})[0]#.find({'class':'bday'})",
   "execution_count": null,
   "outputs": [
    {
     "output_type": "execute_result",
     "execution_count": 73,
     "data": {
      "text/plain": "<td class=\"infobox-data\"><span style=\"display:none\"> (<span class=\"bday\">1995-08-22</span>) </span>22 August 1995<span class=\"noprint ForceAgeToShow\"> (age 27)</span><br/><div class=\"birthplace\" style=\"display:inline\"><a href=\"/wiki/London\" title=\"London\">London</a>, England</div></td>"
     },
     "metadata": {}
    }
   ]
  },
  {
   "cell_type": "code",
   "metadata": {
    "tags": [],
    "cell_id": "cb2126d366824df3ad48dec02ea0a687",
    "source_hash": "c503195a",
    "execution_start": 1664852573435,
    "execution_millis": 2,
    "deepnote_to_be_reexecuted": true,
    "deepnote_cell_type": "code",
    "deepnote_cell_height": 948
   },
   "source": "%time\n# change to list comprehension\ntemp = wikitab.find_all('td')\nfor i in np.arange(2, 300, 3):\n    art_lst = temp[i].find_all('a')\n    if len(art_lst) > 0:\n        main_art = art_lst[0].text\n        main_art_ref = art_lst[0].get('href')\n    else: main_art = None\n    feat_art = []\n    if len(art_lst) > 1:\n        for j in range(len(art_lst))[1:]:\n            feat_art.append(art_lst[j].text)\n    print(main_art, main_art_ref, feat_art)\n",
   "execution_count": null,
   "outputs": [
    {
     "name": "stdout",
     "text": "CPU times: user 1 µs, sys: 0 ns, total: 1 µs\nWall time: 4.53 µs\nDua Lipa /wiki/Dua_Lipa []\nThe Weeknd /wiki/The_Weeknd ['Ariana Grande']\nNone /wiki/The_Weeknd []\n24kGoldn /wiki/24kGoldn ['Iann Dior']\nOlivia Rodrigo /wiki/Olivia_Rodrigo []\nDoja Cat /wiki/Doja_Cat ['SZA']\nSilk Sonic /wiki/Silk_Sonic ['Bruno Mars', 'Anderson .Paak']\nNone /wiki/Silk_Sonic []\nLil Nas X /wiki/Lil_Nas_X []\nJustin Bieber /wiki/Justin_Bieber ['Daniel Caesar', 'Giveon']\nBTS /wiki/BTS []\nThe Kid Laroi /wiki/The_Kid_Laroi []\nNone /wiki/The_Kid_Laroi []\nNone /wiki/The_Kid_Laroi []\nEd Sheeran /wiki/Ed_Sheeran []\nGlass Animals /wiki/Glass_Animals []\nNone /wiki/Glass_Animals []\nLuke Combs /wiki/Luke_Combs []\nChris Brown /wiki/Chris_Brown ['Young Thug']\nMasked Wolf /wiki/Masked_Wolf []\nMegan Thee Stallion /wiki/Megan_Thee_Stallion []\nPop Smoke /wiki/Pop_Smoke []\nMachine Gun Kelly /wiki/Machine_Gun_Kelly_(musician) ['Blackbear']\nJack Harlow /wiki/Jack_Harlow []\nBillie Eilish /wiki/Billie_Eilish []\nCardi B /wiki/Cardi_B []\nWalker Hayes /wiki/Walker_Hayes []\nBad Bunny /wiki/Bad_Bunny ['Jhay Cortez']\nSaweetie /wiki/Saweetie []\nPolo G /wiki/Polo_G []\nGiveon /wiki/Giveon []\nLil Baby /wiki/Lil_Baby ['DaBaby']\nLil Tjay /wiki/Lil_Tjay ['6lack']\nMaroon 5 /wiki/Maroon_5 []\nChance the Rapper /wiki/Chance_the_Rapper []\nNone /wiki/Chance_the_Rapper []\nTate McRae /wiki/Tate_McRae []\nNone /wiki/Tate_McRae []\nPooh Shiesty /wiki/Pooh_Shiesty ['Lil Durk']\nGabby Barrett /wiki/Gabby_Barrett ['Charlie Puth']\nNone /wiki/Gabby_Barrett []\nMoneybagg Yo /wiki/Moneybagg_Yo []\nNone /wiki/Moneybagg_Yo []\nSpotemGottem /wiki/SpotemGottem []\nDrake /wiki/Drake_(musician) []\nNone /wiki/Drake_(musician) []\nNone /wiki/Drake_(musician) []\nFuture /wiki/Future_(rapper) []\nKali Uchis /wiki/Kali_Uchis []\nCJ /wiki/CJ_(rapper) []\nInternet Money /wiki/Internet_Money ['Gunna', 'Don Toliver', 'Nav']\nNone /wiki/Internet_Money []\nChris Stapleton /wiki/Chris_Stapleton []\nNone /wiki/Chris_Stapleton []\nTaylor Swift /wiki/Taylor_Swift []\nAJR /wiki/AJR_(band) []\nLuke Combs /wiki/Luke_Combs []\nYung Bleu /wiki/Yung_Bleu []\nDJ Khaled /wiki/DJ_Khaled []\nWizkid /wiki/Wizkid ['Tems']\nRyan Hurd /wiki/Ryan_Hurd ['Maren Morris']\nGabby Barrett /wiki/Gabby_Barrett []\nMarshmello /wiki/Marshmello ['Jonas Brothers']\nDan + Shay /wiki/Dan_%2B_Shay []\nBenny Blanco /wiki/Benny_Blanco []\nMåneskin /wiki/M%C3%A5neskin []\nNone /wiki/M%C3%A5neskin []\nNone /wiki/M%C3%A5neskin []\nChris Young /wiki/Chris_Young_(musician) ['Kane Brown']\nNelly /wiki/Nelly ['Florida Georgia Line']\nNone /wiki/Nelly []\nRoddy Ricch /wiki/Roddy_Ricch []\nAva Max /wiki/Ava_Max []\nNone /wiki/Ava_Max []\nMooski /wiki/Mooski []\nNone /wiki/Mooski []\nNone /wiki/Mooski []\nMariah Carey /wiki/Mariah_Carey []\nCoi Leray /wiki/Coi_Leray []\nThomas Rhett /wiki/Thomas_Rhett []\nKeith Urban /wiki/Keith_Urban ['Pink']\nDuncan Laurence /wiki/Duncan_Laurence []\nNone /wiki/Duncan_Laurence []\nNiko Moon /wiki/Niko_Moon []\nJason Aldean /wiki/Jason_Aldean ['Carrie Underwood']\n21 Savage /wiki/21_Savage ['Project Pat']\nNone /wiki/21_Savage []\nParmalee /wiki/Parmalee ['Blanco Brown']\nNone /wiki/Parmalee []\nNone /wiki/Parmalee []\nEric Church /wiki/Eric_Church []\nBrenda Lee /wiki/Brenda_Lee []\nRitt Momney /wiki/Ritt_Momney []\nNone /wiki/Ritt_Momney []\nCole Swindell /wiki/Cole_Swindell []\nLainey Wilson /wiki/Lainey_Wilson []\nBRS Kash /wiki/BRS_Kash []\nRod Wave /wiki/Rod_Wave []\nChase Rice /wiki/Chase_Rice ['Florida Georgia Line']\nRauw Alejandro /wiki/Rauw_Alejandro []\n",
     "output_type": "stream"
    }
   ]
  },
  {
   "cell_type": "markdown",
   "source": "<a style='text-decoration:none;line-height:16px;display:flex;color:#5B5B62;padding:10px;justify-content:end;' href='https://deepnote.com?utm_source=created-in-deepnote-cell&projectId=3f060e00-a163-4cce-a4c0-34e77cfdc670' target=\"_blank\">\n<img alt='Created in deepnote.com' style='display:inline;max-height:16px;margin:0px;margin-right:7.5px;' src='data:image/svg+xml;base64,PD94bWwgdmVyc2lvbj0iMS4wIiBlbmNvZGluZz0iVVRGLTgiPz4KPHN2ZyB3aWR0aD0iODBweCIgaGVpZ2h0PSI4MHB4IiB2aWV3Qm94PSIwIDAgODAgODAiIHZlcnNpb249IjEuMSIgeG1sbnM9Imh0dHA6Ly93d3cudzMub3JnLzIwMDAvc3ZnIiB4bWxuczp4bGluaz0iaHR0cDovL3d3dy53My5vcmcvMTk5OS94bGluayI+CiAgICA8IS0tIEdlbmVyYXRvcjogU2tldGNoIDU0LjEgKDc2NDkwKSAtIGh0dHBzOi8vc2tldGNoYXBwLmNvbSAtLT4KICAgIDx0aXRsZT5Hcm91cCAzPC90aXRsZT4KICAgIDxkZXNjPkNyZWF0ZWQgd2l0aCBTa2V0Y2guPC9kZXNjPgogICAgPGcgaWQ9IkxhbmRpbmciIHN0cm9rZT0ibm9uZSIgc3Ryb2tlLXdpZHRoPSIxIiBmaWxsPSJub25lIiBmaWxsLXJ1bGU9ImV2ZW5vZGQiPgogICAgICAgIDxnIGlkPSJBcnRib2FyZCIgdHJhbnNmb3JtPSJ0cmFuc2xhdGUoLTEyMzUuMDAwMDAwLCAtNzkuMDAwMDAwKSI+CiAgICAgICAgICAgIDxnIGlkPSJHcm91cC0zIiB0cmFuc2Zvcm09InRyYW5zbGF0ZSgxMjM1LjAwMDAwMCwgNzkuMDAwMDAwKSI+CiAgICAgICAgICAgICAgICA8cG9seWdvbiBpZD0iUGF0aC0yMCIgZmlsbD0iIzAyNjVCNCIgcG9pbnRzPSIyLjM3NjIzNzYyIDgwIDM4LjA0NzY2NjcgODAgNTcuODIxNzgyMiA3My44MDU3NTkyIDU3LjgyMTc4MjIgMzIuNzU5MjczOSAzOS4xNDAyMjc4IDMxLjY4MzE2ODMiPjwvcG9seWdvbj4KICAgICAgICAgICAgICAgIDxwYXRoIGQ9Ik0zNS4wMDc3MTgsODAgQzQyLjkwNjIwMDcsNzYuNDU0OTM1OCA0Ny41NjQ5MTY3LDcxLjU0MjI2NzEgNDguOTgzODY2LDY1LjI2MTk5MzkgQzUxLjExMjI4OTksNTUuODQxNTg0MiA0MS42NzcxNzk1LDQ5LjIxMjIyODQgMjUuNjIzOTg0Niw0OS4yMTIyMjg0IEMyNS40ODQ5Mjg5LDQ5LjEyNjg0NDggMjkuODI2MTI5Niw0My4yODM4MjQ4IDM4LjY0NzU4NjksMzEuNjgzMTY4MyBMNzIuODcxMjg3MSwzMi41NTQ0MjUgTDY1LjI4MDk3Myw2Ny42NzYzNDIxIEw1MS4xMTIyODk5LDc3LjM3NjE0NCBMMzUuMDA3NzE4LDgwIFoiIGlkPSJQYXRoLTIyIiBmaWxsPSIjMDAyODY4Ij48L3BhdGg+CiAgICAgICAgICAgICAgICA8cGF0aCBkPSJNMCwzNy43MzA0NDA1IEwyNy4xMTQ1MzcsMC4yNTcxMTE0MzYgQzYyLjM3MTUxMjMsLTEuOTkwNzE3MDEgODAsMTAuNTAwMzkyNyA4MCwzNy43MzA0NDA1IEM4MCw2NC45NjA0ODgyIDY0Ljc3NjUwMzgsNzkuMDUwMzQxNCAzNC4zMjk1MTEzLDgwIEM0Ny4wNTUzNDg5LDc3LjU2NzA4MDggNTMuNDE4MjY3Nyw3MC4zMTM2MTAzIDUzLjQxODI2NzcsNTguMjM5NTg4NSBDNTMuNDE4MjY3Nyw0MC4xMjg1NTU3IDM2LjMwMzk1NDQsMzcuNzMwNDQwNSAyNS4yMjc0MTcsMzcuNzMwNDQwNSBDMTcuODQzMDU4NiwzNy43MzA0NDA1IDkuNDMzOTE5NjYsMzcuNzMwNDQwNSAwLDM3LjczMDQ0MDUgWiIgaWQ9IlBhdGgtMTkiIGZpbGw9IiMzNzkzRUYiPjwvcGF0aD4KICAgICAgICAgICAgPC9nPgogICAgICAgIDwvZz4KICAgIDwvZz4KPC9zdmc+' > </img>\nCreated in <span style='font-weight:600;margin-left:4px;'>Deepnote</span></a>",
   "metadata": {
    "tags": [],
    "created_in_deepnote_cell": true,
    "deepnote_cell_type": "markdown"
   }
  }
 ],
 "nbformat": 4,
 "nbformat_minor": 0,
 "metadata": {
  "deepnote": {},
  "orig_nbformat": 2,
  "deepnote_notebook_id": "10610170cbe64ac3bc255f2b3415ea78",
  "deepnote_execution_queue": [],
  "deepnote_persisted_session": {
   "createdAt": "2022-10-14T15:00:24.671Z"
  }
 }
}