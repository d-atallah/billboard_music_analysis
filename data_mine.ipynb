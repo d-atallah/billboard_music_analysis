{
 "cells": [
  {
   "cell_type": "code",
   "source": "# import dependencies\n#  data packages\nimport pandas as pd\nimport numpy as np\n#  web-scraping packages\nfrom urllib.request import urlopen\nfrom bs4 import BeautifulSoup\n#  Spotify packages\nimport spotipy\nfrom spotipy.oauth2 import SpotifyClientCredentials\n#  misc processing packages\nimport re\nimport itertools\nfrom pyspark.sql import SparkSession\n#  config features\nimport config",
   "metadata": {
    "tags": [],
    "cell_id": "c11f88c665a446bca9b9d60161ac359c",
    "source_hash": "6b216ef3",
    "execution_start": 1665958240539,
    "execution_millis": 116,
    "deepnote_to_be_reexecuted": false,
    "deepnote_cell_type": "code",
    "deepnote_cell_height": 346
   },
   "execution_count": 2,
   "outputs": []
  },
  {
   "cell_type": "code",
   "metadata": {
    "tags": [],
    "cell_id": "dd08145ae65a46b3a25736884fdd5dcb",
    "source_hash": "6681e6b8",
    "execution_start": 1665958243012,
    "execution_millis": 6,
    "deepnote_to_be_reexecuted": false,
    "deepnote_cell_type": "code",
    "deepnote_cell_height": 130
   },
   "source": "# initialize spotify auth\nclient_credentials_manager = SpotifyClientCredentials(\n    client_id = config.client_id, client_secret = config.client_secret)\nsp = spotipy.Spotify(client_credentials_manager = client_credentials_manager)",
   "execution_count": 3,
   "outputs": []
  },
  {
   "cell_type": "code",
   "metadata": {
    "cell_id": "72ee463aa1e24ea1ae2b87b3e909b6c9",
    "tags": [],
    "deepnote_to_be_reexecuted": false,
    "source_hash": "3b580d62",
    "execution_start": 1665958244332,
    "execution_millis": 115834,
    "is_output_hidden": true,
    "deepnote_cell_type": "code",
    "deepnote_cell_height": 322.796875
   },
   "source": "# setup deepnote spark integration\n! sudo apt-get update\n! sudo mkdir -p /usr/share/man/man1\n! sudo apt-get install -y openjdk-11-jdk\n! pip install pyspark\n\n# initialize spark session\nspark = SparkSession \\\n    .builder \\\n    .master(\"local[*]\") \\\n    .appName('sp_search') \\\n    .getOrCreate() \nsc = spark.sparkContext",
   "execution_count": 4,
   "outputs": [
    {
     "name": "stdout",
     "text": "Get:1 http://deb.debian.org/debian buster InRelease [122 kB]\nGet:2 http://deb.debian.org/debian-security buster/updates InRelease [34.8 kB]\nGet:3 http://deb.debian.org/debian buster-updates InRelease [56.6 kB]\nGet:4 http://deb.debian.org/debian buster/main amd64 Packages [7,909 kB]\nGet:5 http://deb.debian.org/debian-security buster/updates/main amd64 Packages [369 kB]\nGet:6 http://deb.debian.org/debian buster-updates/main amd64 Packages [8,788 B]\nFetched 8,500 kB in 4s (2,385 kB/s)\n\n\n\n\nThe following additional packages will be installed:\n  at-spi2-core ca-certificates-java dbus dbus-user-session\n  dconf-gsettings-backend dconf-service dmsetup fonts-dejavu-extra\n  glib-networking glib-networking-common glib-networking-services\n  gsettings-desktop-schemas java-common libapparmor1 libargon2-1 libasound2\n  libasound2-data libatk-bridge2.0-0 libatk-wrapper-java\n  libatk-wrapper-java-jni libatspi2.0-0 libcap2 libcolord2 libcryptsetup12\n  libdbus-1-3 libdconf1 libdevmapper1.02.1 libdrm-amdgpu1 libdrm-common\n  libdrm-intel1 libdrm-nouveau2 libdrm-radeon1 libdrm2 libepoxy0 libfontenc1\n  libgif7 libgl1 libgl1-mesa-dri libglapi-mesa libglvnd0 libglx-mesa0 libglx0\n  libgtk-3-0 libgtk-3-bin libgtk-3-common libidn11 libip4tc0 libjson-c3\n  libjson-glib-1.0-0 libjson-glib-1.0-common libkmod2 liblcms2-2 libllvm7\n  libnspr4 libnss-systemd libnss3 libpam-systemd libpciaccess0 libpcsclite1\n  libproxy1v5 librest-0.7-0 libsensors-config libsensors5 libsoup-gnome2.4-1\n  libsoup2.4-1 libwayland-client0 libwayland-cursor0 libwayland-egl1\n  libx11-xcb1 libxcb-dri2-0 libxcb-dri3-0 libxcb-glx0 libxcb-present0\n  libxcb-shape0 libxcb-sync1 libxkbcommon0 libxmuu1 libxshmfence1 libxt-dev\n  libxtst6 libxv1 libxxf86dga1 libxxf86vm1 openjdk-11-jdk-headless\n  openjdk-11-jre openjdk-11-jre-headless systemd systemd-sysv x11-utils\n  xkb-data\nSuggested packages:\n  default-jre libasound2-plugins alsa-utils colord gvfs liblcms2-utils\n  pciutils pcscd lm-sensors libxt-doc openjdk-11-demo openjdk-11-source\n  visualvm libnss-mdns fonts-ipafont-gothic fonts-ipafont-mincho\n  fonts-wqy-microhei | fonts-wqy-zenhei fonts-indic systemd-container\n  policykit-1 mesa-utils\nThe following NEW packages will be installed:\n  at-spi2-core ca-certificates-java dbus dbus-user-session\n  dconf-gsettings-backend dconf-service dmsetup fonts-dejavu-extra\n  glib-networking glib-networking-common glib-networking-services\n  gsettings-desktop-schemas java-common libapparmor1 libargon2-1 libasound2\n  libasound2-data libatk-bridge2.0-0 libatk-wrapper-java\n  libatk-wrapper-java-jni libatspi2.0-0 libcap2 libcolord2 libcryptsetup12\n  libdconf1 libdevmapper1.02.1 libdrm-amdgpu1 libdrm-common libdrm-intel1\n  libdrm-nouveau2 libdrm-radeon1 libdrm2 libepoxy0 libfontenc1 libgif7 libgl1\n  libgl1-mesa-dri libglapi-mesa libglvnd0 libglx-mesa0 libglx0 libgtk-3-0\n  libgtk-3-bin libgtk-3-common libidn11 libip4tc0 libjson-c3\n  libjson-glib-1.0-0 libjson-glib-1.0-common libkmod2 liblcms2-2 libllvm7\n  libnspr4 libnss-systemd libnss3 libpam-systemd libpciaccess0 libpcsclite1\n  libproxy1v5 librest-0.7-0 libsensors-config libsensors5 libsoup-gnome2.4-1\n  libsoup2.4-1 libwayland-client0 libwayland-cursor0 libwayland-egl1\n  libx11-xcb1 libxcb-dri2-0 libxcb-dri3-0 libxcb-glx0 libxcb-present0\n  libxcb-shape0 libxcb-sync1 libxkbcommon0 libxmuu1 libxshmfence1 libxt-dev\n  libxtst6 libxv1 libxxf86dga1 libxxf86vm1 openjdk-11-jdk\n  openjdk-11-jdk-headless openjdk-11-jre openjdk-11-jre-headless systemd\n  systemd-sysv x11-utils xkb-data\nThe following packages will be upgraded:\n  libdbus-1-3\n1 upgraded, 90 newly installed, 0 to remove and 28 not upgraded.\nNeed to get 306 MB of archives.\nAfter this operation, 710 MB of additional disk space will be used.\nGet:1 http://deb.debian.org/debian buster/main amd64 libapparmor1 amd64 2.13.2-10 [94.7 kB]\nGet:2 http://deb.debian.org/debian buster/main amd64 libcap2 amd64 1:2.25-2 [17.6 kB]\nGet:3 http://deb.debian.org/debian buster/main amd64 libargon2-1 amd64 0~20171227-0.2 [19.6 kB]\nGet:4 http://deb.debian.org/debian buster/main amd64 dmsetup amd64 2:1.02.155-3 [90.8 kB]\nGet:5 http://deb.debian.org/debian buster/main amd64 libdevmapper1.02.1 amd64 2:1.02.155-3 [141 kB]\nGet:6 http://deb.debian.org/debian buster/main amd64 libjson-c3 amd64 0.12.1+ds-2+deb10u1 [27.3 kB]\nGet:7 http://deb.debian.org/debian buster/main amd64 libcryptsetup12 amd64 2:2.1.0-5+deb10u2 [193 kB]\nGet:8 http://deb.debian.org/debian buster/main amd64 libidn11 amd64 1.33-2.2 [116 kB]\nGet:9 http://deb.debian.org/debian buster/main amd64 libip4tc0 amd64 1.8.2-4 [70.2 kB]\nGet:10 http://deb.debian.org/debian buster/main amd64 libkmod2 amd64 26-1 [52.7 kB]\nGet:11 http://deb.debian.org/debian buster/main amd64 systemd amd64 241-7~deb10u8 [3,496 kB]\nGet:12 http://deb.debian.org/debian buster/main amd64 systemd-sysv amd64 241-7~deb10u8 [100 kB]\nGet:13 http://deb.debian.org/debian-security buster/updates/main amd64 libdbus-1-3 amd64 1.12.24-0+deb10u1 [218 kB]\nGet:14 http://deb.debian.org/debian-security buster/updates/main amd64 dbus amd64 1.12.24-0+deb10u1 [240 kB]\nGet:15 http://deb.debian.org/debian buster/main amd64 libnss-systemd amd64 241-7~deb10u8 [205 kB]\nGet:16 http://deb.debian.org/debian buster/main amd64 libpam-systemd amd64 241-7~deb10u8 [209 kB]\nGet:17 http://deb.debian.org/debian buster/main amd64 libatspi2.0-0 amd64 2.30.0-7 [65.0 kB]\nGet:18 http://deb.debian.org/debian buster/main amd64 libxtst6 amd64 2:1.2.3-1 [27.8 kB]\nGet:19 http://deb.debian.org/debian buster/main amd64 at-spi2-core amd64 2.30.0-7 [70.7 kB]\nGet:20 http://deb.debian.org/debian buster/main amd64 java-common all 0.71 [14.4 kB]\nGet:21 http://deb.debian.org/debian buster/main amd64 liblcms2-2 amd64 2.9-3 [145 kB]\nGet:22 http://deb.debian.org/debian buster/main amd64 libnspr4 amd64 2:4.20-1 [112 kB]\nGet:23 http://deb.debian.org/debian buster/main amd64 libnss3 amd64 2:3.42.1-1+deb10u5 [1,160 kB]\nGet:24 http://deb.debian.org/debian buster/main amd64 libasound2-data all 1.1.8-1 [59.6 kB]\nGet:25 http://deb.debian.org/debian buster/main amd64 libasound2 amd64 1.1.8-1 [361 kB]\nGet:26 http://deb.debian.org/debian buster/main amd64 libpcsclite1 amd64 1.8.24-1 [58.5 kB]\nGet:27 http://deb.debian.org/debian buster/main amd64 openjdk-11-jre-headless amd64 11.0.16+8-1~deb10u1 [37.3 MB]\nGet:28 http://deb.debian.org/debian buster/main amd64 ca-certificates-java all 20190405 [15.7 kB]\nGet:29 http://deb.debian.org/debian-security buster/updates/main amd64 dbus-user-session amd64 1.12.24-0+deb10u1 [97.9 kB]\nGet:30 http://deb.debian.org/debian buster/main amd64 libdconf1 amd64 0.30.1-2 [40.7 kB]\nGet:31 http://deb.debian.org/debian buster/main amd64 dconf-service amd64 0.30.1-2 [36.4 kB]\nGet:32 http://deb.debian.org/debian buster/main amd64 dconf-gsettings-backend amd64 0.30.1-2 [28.9 kB]\nGet:33 http://deb.debian.org/debian buster/main amd64 fonts-dejavu-extra all 2.37-1 [1,982 kB]\nGet:34 http://deb.debian.org/debian buster/main amd64 libproxy1v5 amd64 0.4.15-5+deb10u1 [56.1 kB]\nGet:35 http://deb.debian.org/debian buster/main amd64 glib-networking-common all 2.58.0-2+deb10u2 [59.5 kB]\nGet:36 http://deb.debian.org/debian buster/main amd64 glib-networking-services amd64 2.58.0-2+deb10u2 [13.7 kB]\nGet:37 http://deb.debian.org/debian buster/main amd64 gsettings-desktop-schemas all 3.28.1-1 [529 kB]\nGet:38 http://deb.debian.org/debian buster/main amd64 glib-networking amd64 2.58.0-2+deb10u2 [54.6 kB]\nGet:39 http://deb.debian.org/debian buster/main amd64 libatk-bridge2.0-0 amd64 2.30.0-5 [61.6 kB]\nGet:40 http://deb.debian.org/debian buster/main amd64 libfontenc1 amd64 1:1.1.3-1+b2 [24.4 kB]\nGet:41 http://deb.debian.org/debian buster/main amd64 libglvnd0 amd64 1.1.0-1 [48.6 kB]\nGet:42 http://deb.debian.org/debian buster/main amd64 libdrm-common all 2.4.97-1 [13.8 kB]\nGet:43 http://deb.debian.org/debian buster/main amd64 libdrm2 amd64 2.4.97-1 [39.7 kB]\nGet:44 http://deb.debian.org/debian buster/main amd64 libglapi-mesa amd64 18.3.6-2+deb10u1 [66.3 kB]\nGet:45 http://deb.debian.org/debian buster/main amd64 libx11-xcb1 amd64 2:1.6.7-1+deb10u2 [191 kB]\nGet:46 http://deb.debian.org/debian buster/main amd64 libxcb-dri2-0 amd64 1.13.1-2 [101 kB]\nGet:47 http://deb.debian.org/debian buster/main amd64 libxcb-dri3-0 amd64 1.13.1-2 [100 kB]\nGet:48 http://deb.debian.org/debian buster/main amd64 libxcb-glx0 amd64 1.13.1-2 [116 kB]\nGet:49 http://deb.debian.org/debian buster/main amd64 libxcb-present0 amd64 1.13.1-2 [99.1 kB]\nGet:50 http://deb.debian.org/debian buster/main amd64 libxcb-sync1 amd64 1.13.1-2 [103 kB]\nGet:51 http://deb.debian.org/debian buster/main amd64 libxshmfence1 amd64 1.3-1 [8,820 B]\nGet:52 http://deb.debian.org/debian buster/main amd64 libxxf86vm1 amd64 1:1.1.4-1+b2 [20.8 kB]\nGet:53 http://deb.debian.org/debian buster/main amd64 libdrm-amdgpu1 amd64 2.4.97-1 [27.3 kB]\nGet:54 http://deb.debian.org/debian buster/main amd64 libpciaccess0 amd64 0.14-1 [53.5 kB]\nGet:55 http://deb.debian.org/debian buster/main amd64 libdrm-intel1 amd64 2.4.97-1 [69.8 kB]\nGet:56 http://deb.debian.org/debian buster/main amd64 libdrm-nouveau2 amd64 2.4.97-1 [26.3 kB]\nGet:57 http://deb.debian.org/debian buster/main amd64 libdrm-radeon1 amd64 2.4.97-1 [31.1 kB]\nGet:58 http://deb.debian.org/debian buster/main amd64 libllvm7 amd64 1:7.0.1-8+deb10u2 [13.1 MB]\nGet:59 http://deb.debian.org/debian buster/main amd64 libsensors-config all 1:3.5.0-3 [31.6 kB]\nGet:60 http://deb.debian.org/debian buster/main amd64 libsensors5 amd64 1:3.5.0-3 [52.6 kB]\nGet:61 http://deb.debian.org/debian buster/main amd64 libgl1-mesa-dri amd64 18.3.6-2+deb10u1 [6,685 kB]\nGet:62 http://deb.debian.org/debian buster/main amd64 libglx-mesa0 amd64 18.3.6-2+deb10u1 [180 kB]\nGet:63 http://deb.debian.org/debian buster/main amd64 libglx0 amd64 1.1.0-1 [30.0 kB]\nGet:64 http://deb.debian.org/debian buster/main amd64 libgl1 amd64 1.1.0-1 [91.1 kB]\nGet:65 http://deb.debian.org/debian buster/main amd64 libxcb-shape0 amd64 1.13.1-2 [99.5 kB]\nGet:66 http://deb.debian.org/debian buster/main amd64 libxmuu1 amd64 2:1.1.2-2+b3 [23.9 kB]\nGet:67 http://deb.debian.org/debian buster/main amd64 libxv1 amd64 2:1.0.11-1 [24.6 kB]\nGet:68 http://deb.debian.org/debian buster/main amd64 libxxf86dga1 amd64 2:1.1.4-1+b3 [22.1 kB]\nGet:69 http://deb.debian.org/debian buster/main amd64 x11-utils amd64 7.7+4 [202 kB]\nGet:70 http://deb.debian.org/debian buster/main amd64 libatk-wrapper-java all 0.33.3-22+deb10u1 [45.5 kB]\nGet:71 http://deb.debian.org/debian buster/main amd64 libcolord2 amd64 1.4.3-4 [141 kB]\nGet:72 http://deb.debian.org/debian buster/main amd64 libepoxy0 amd64 1.5.3-0.1 [190 kB]\nGet:73 http://deb.debian.org/debian buster/main amd64 libjson-glib-1.0-common all 1.4.4-2 [52.3 kB]\nGet:74 http://deb.debian.org/debian buster/main amd64 libjson-glib-1.0-0 amd64 1.4.4-2 [61.2 kB]\nGet:75 http://deb.debian.org/debian buster/main amd64 libsoup2.4-1 amd64 2.64.2-2 [253 kB]\nGet:76 http://deb.debian.org/debian buster/main amd64 libsoup-gnome2.4-1 amd64 2.64.2-2 [18.0 kB]\nGet:77 http://deb.debian.org/debian buster/main amd64 librest-0.7-0 amd64 0.8.1-1 [33.7 kB]\nGet:78 http://deb.debian.org/debian buster/main amd64 libwayland-client0 amd64 1.16.0-1 [26.4 kB]\nGet:79 http://deb.debian.org/debian buster/main amd64 libwayland-cursor0 amd64 1.16.0-1 [14.1 kB]\nGet:80 http://deb.debian.org/debian buster/main amd64 libwayland-egl1 amd64 1.16.0-1 [8,204 B]\nGet:81 http://deb.debian.org/debian buster/main amd64 xkb-data all 2.26-2 [681 kB]\nGet:82 http://deb.debian.org/debian buster/main amd64 libxkbcommon0 amd64 0.8.2-1 [123 kB]\nGet:83 http://deb.debian.org/debian buster/main amd64 libgtk-3-common all 3.24.5-1 [3,678 kB]\nGet:84 http://deb.debian.org/debian buster/main amd64 libgtk-3-0 amd64 3.24.5-1 [2,580 kB]\nGet:85 http://deb.debian.org/debian buster/main amd64 libatk-wrapper-java-jni amd64 0.33.3-22+deb10u1 [39.5 kB]\nGet:86 http://deb.debian.org/debian buster/main amd64 libgif7 amd64 5.1.4-3 [43.3 kB]\nGet:87 http://deb.debian.org/debian buster/main amd64 libgtk-3-bin amd64 3.24.5-1 [114 kB]\nGet:88 http://deb.debian.org/debian buster/main amd64 libxt-dev amd64 1:1.1.5-1+b3 [426 kB]\nGet:89 http://deb.debian.org/debian buster/main amd64 openjdk-11-jre amd64 11.0.16+8-1~deb10u1 [174 kB]\nGet:90 http://deb.debian.org/debian buster/main amd64 openjdk-11-jdk-headless amd64 11.0.16+8-1~deb10u1 [221 MB]\nGet:91 http://deb.debian.org/debian buster/main amd64 openjdk-11-jdk amd64 11.0.16+8-1~deb10u1 [7,073 kB]\nFetched 306 MB in 6s (47.2 MB/s)\ndebconf: delaying package configuration, since apt-utils is not installed\nSelecting previously unselected package libapparmor1:amd64.\n(Reading database ... 31086 files and directories currently installed.)\nPreparing to unpack .../00-libapparmor1_2.13.2-10_amd64.deb ...\nUnpacking libapparmor1:amd64 (2.13.2-10) ...\nSelecting previously unselected package libcap2:amd64.\nPreparing to unpack .../01-libcap2_1%3a2.25-2_amd64.deb ...\nUnpacking libcap2:amd64 (1:2.25-2) ...\nSelecting previously unselected package libargon2-1:amd64.\nPreparing to unpack .../02-libargon2-1_0~20171227-0.2_amd64.deb ...\nUnpacking libargon2-1:amd64 (0~20171227-0.2) ...\nSelecting previously unselected package dmsetup.\nPreparing to unpack .../03-dmsetup_2%3a1.02.155-3_amd64.deb ...\nUnpacking dmsetup (2:1.02.155-3) ...\nSelecting previously unselected package libdevmapper1.02.1:amd64.\nPreparing to unpack .../04-libdevmapper1.02.1_2%3a1.02.155-3_amd64.deb ...\nUnpacking libdevmapper1.02.1:amd64 (2:1.02.155-3) ...\nSelecting previously unselected package libjson-c3:amd64.\nPreparing to unpack .../05-libjson-c3_0.12.1+ds-2+deb10u1_amd64.deb ...\nUnpacking libjson-c3:amd64 (0.12.1+ds-2+deb10u1) ...\nSelecting previously unselected package libcryptsetup12:amd64.\nPreparing to unpack .../06-libcryptsetup12_2%3a2.1.0-5+deb10u2_amd64.deb ...\nUnpacking libcryptsetup12:amd64 (2:2.1.0-5+deb10u2) ...\nSelecting previously unselected package libidn11:amd64.\nPreparing to unpack .../07-libidn11_1.33-2.2_amd64.deb ...\nUnpacking libidn11:amd64 (1.33-2.2) ...\nSelecting previously unselected package libip4tc0:amd64.\nPreparing to unpack .../08-libip4tc0_1.8.2-4_amd64.deb ...\nUnpacking libip4tc0:amd64 (1.8.2-4) ...\nSelecting previously unselected package libkmod2:amd64.\nPreparing to unpack .../09-libkmod2_26-1_amd64.deb ...\nUnpacking libkmod2:amd64 (26-1) ...\nSelecting previously unselected package systemd.\nPreparing to unpack .../10-systemd_241-7~deb10u8_amd64.deb ...\nUnpacking systemd (241-7~deb10u8) ...\nSetting up libapparmor1:amd64 (2.13.2-10) ...\nSetting up libcap2:amd64 (1:2.25-2) ...\nSetting up libargon2-1:amd64 (0~20171227-0.2) ...\nSetting up libjson-c3:amd64 (0.12.1+ds-2+deb10u1) ...\nSetting up libidn11:amd64 (1.33-2.2) ...\nSetting up libip4tc0:amd64 (1.8.2-4) ...\nSetting up libkmod2:amd64 (26-1) ...\nSetting up libdevmapper1.02.1:amd64 (2:1.02.155-3) ...\nSetting up libcryptsetup12:amd64 (2:2.1.0-5+deb10u2) ...\nSetting up systemd (241-7~deb10u8) ...\nCreated symlink /etc/systemd/system/getty.target.wants/getty@tty1.service → /lib/systemd/system/getty@.service.\nCreated symlink /etc/systemd/system/multi-user.target.wants/remote-fs.target → /lib/systemd/system/remote-fs.target.\nCreated symlink /etc/systemd/system/dbus-org.freedesktop.timesync1.service → /lib/systemd/system/systemd-timesyncd.service.\nCreated symlink /etc/systemd/system/sysinit.target.wants/systemd-timesyncd.service → /lib/systemd/system/systemd-timesyncd.service.\nInitializing machine ID from KVM UUID.\nSetting up dmsetup (2:1.02.155-3) ...\nSelecting previously unselected package systemd-sysv.\n(Reading database ... 31921 files and directories currently installed.)\nPreparing to unpack .../00-systemd-sysv_241-7~deb10u8_amd64.deb ...\nUnpacking systemd-sysv (241-7~deb10u8) ...\nPreparing to unpack .../01-libdbus-1-3_1.12.24-0+deb10u1_amd64.deb ...\nUnpacking libdbus-1-3:amd64 (1.12.24-0+deb10u1) over (1.12.20-0+deb10u1) ...\nSelecting previously unselected package dbus.\nPreparing to unpack .../02-dbus_1.12.24-0+deb10u1_amd64.deb ...\nUnpacking dbus (1.12.24-0+deb10u1) ...\nSelecting previously unselected package libnss-systemd:amd64.\nPreparing to unpack .../03-libnss-systemd_241-7~deb10u8_amd64.deb ...\nUnpacking libnss-systemd:amd64 (241-7~deb10u8) ...\nSelecting previously unselected package libpam-systemd:amd64.\nPreparing to unpack .../04-libpam-systemd_241-7~deb10u8_amd64.deb ...\nUnpacking libpam-systemd:amd64 (241-7~deb10u8) ...\nSelecting previously unselected package libatspi2.0-0:amd64.\nPreparing to unpack .../05-libatspi2.0-0_2.30.0-7_amd64.deb ...\nUnpacking libatspi2.0-0:amd64 (2.30.0-7) ...\nSelecting previously unselected package libxtst6:amd64.\nPreparing to unpack .../06-libxtst6_2%3a1.2.3-1_amd64.deb ...\nUnpacking libxtst6:amd64 (2:1.2.3-1) ...\nSelecting previously unselected package at-spi2-core.\nPreparing to unpack .../07-at-spi2-core_2.30.0-7_amd64.deb ...\nUnpacking at-spi2-core (2.30.0-7) ...\nSelecting previously unselected package java-common.\nPreparing to unpack .../08-java-common_0.71_all.deb ...\nUnpacking java-common (0.71) ...\nSelecting previously unselected package liblcms2-2:amd64.\nPreparing to unpack .../09-liblcms2-2_2.9-3_amd64.deb ...\nUnpacking liblcms2-2:amd64 (2.9-3) ...\nSelecting previously unselected package libnspr4:amd64.\nPreparing to unpack .../10-libnspr4_2%3a4.20-1_amd64.deb ...\nUnpacking libnspr4:amd64 (2:4.20-1) ...\nSelecting previously unselected package libnss3:amd64.\nPreparing to unpack .../11-libnss3_2%3a3.42.1-1+deb10u5_amd64.deb ...\nUnpacking libnss3:amd64 (2:3.42.1-1+deb10u5) ...\nSelecting previously unselected package libasound2-data.\nPreparing to unpack .../12-libasound2-data_1.1.8-1_all.deb ...\nUnpacking libasound2-data (1.1.8-1) ...\nSelecting previously unselected package libasound2:amd64.\nPreparing to unpack .../13-libasound2_1.1.8-1_amd64.deb ...\nUnpacking libasound2:amd64 (1.1.8-1) ...\nSelecting previously unselected package libpcsclite1:amd64.\nPreparing to unpack .../14-libpcsclite1_1.8.24-1_amd64.deb ...\nUnpacking libpcsclite1:amd64 (1.8.24-1) ...\nSelecting previously unselected package openjdk-11-jre-headless:amd64.\nPreparing to unpack .../15-openjdk-11-jre-headless_11.0.16+8-1~deb10u1_amd64.deb ...\nUnpacking openjdk-11-jre-headless:amd64 (11.0.16+8-1~deb10u1) ...\nSelecting previously unselected package ca-certificates-java.\nPreparing to unpack .../16-ca-certificates-java_20190405_all.deb ...\nUnpacking ca-certificates-java (20190405) ...\nSelecting previously unselected package dbus-user-session.\nPreparing to unpack .../17-dbus-user-session_1.12.24-0+deb10u1_amd64.deb ...\nUnpacking dbus-user-session (1.12.24-0+deb10u1) ...\nSelecting previously unselected package libdconf1:amd64.\nPreparing to unpack .../18-libdconf1_0.30.1-2_amd64.deb ...\nUnpacking libdconf1:amd64 (0.30.1-2) ...\nSelecting previously unselected package dconf-service.\nPreparing to unpack .../19-dconf-service_0.30.1-2_amd64.deb ...\nUnpacking dconf-service (0.30.1-2) ...\nSelecting previously unselected package dconf-gsettings-backend:amd64.\nPreparing to unpack .../20-dconf-gsettings-backend_0.30.1-2_amd64.deb ...\nUnpacking dconf-gsettings-backend:amd64 (0.30.1-2) ...\nSelecting previously unselected package fonts-dejavu-extra.\nPreparing to unpack .../21-fonts-dejavu-extra_2.37-1_all.deb ...\nUnpacking fonts-dejavu-extra (2.37-1) ...\nSelecting previously unselected package libproxy1v5:amd64.\nPreparing to unpack .../22-libproxy1v5_0.4.15-5+deb10u1_amd64.deb ...\nUnpacking libproxy1v5:amd64 (0.4.15-5+deb10u1) ...\nSelecting previously unselected package glib-networking-common.\nPreparing to unpack .../23-glib-networking-common_2.58.0-2+deb10u2_all.deb ...\nUnpacking glib-networking-common (2.58.0-2+deb10u2) ...\nSelecting previously unselected package glib-networking-services.\nPreparing to unpack .../24-glib-networking-services_2.58.0-2+deb10u2_amd64.deb ...\nUnpacking glib-networking-services (2.58.0-2+deb10u2) ...\nSelecting previously unselected package gsettings-desktop-schemas.\nPreparing to unpack .../25-gsettings-desktop-schemas_3.28.1-1_all.deb ...\nUnpacking gsettings-desktop-schemas (3.28.1-1) ...\nSelecting previously unselected package glib-networking:amd64.\nPreparing to unpack .../26-glib-networking_2.58.0-2+deb10u2_amd64.deb ...\nUnpacking glib-networking:amd64 (2.58.0-2+deb10u2) ...\nSelecting previously unselected package libatk-bridge2.0-0:amd64.\nPreparing to unpack .../27-libatk-bridge2.0-0_2.30.0-5_amd64.deb ...\nUnpacking libatk-bridge2.0-0:amd64 (2.30.0-5) ...\nSelecting previously unselected package libfontenc1:amd64.\nPreparing to unpack .../28-libfontenc1_1%3a1.1.3-1+b2_amd64.deb ...\nUnpacking libfontenc1:amd64 (1:1.1.3-1+b2) ...\nSelecting previously unselected package libglvnd0:amd64.\nPreparing to unpack .../29-libglvnd0_1.1.0-1_amd64.deb ...\nUnpacking libglvnd0:amd64 (1.1.0-1) ...\nSelecting previously unselected package libdrm-common.\nPreparing to unpack .../30-libdrm-common_2.4.97-1_all.deb ...\nUnpacking libdrm-common (2.4.97-1) ...\nSelecting previously unselected package libdrm2:amd64.\nPreparing to unpack .../31-libdrm2_2.4.97-1_amd64.deb ...\nUnpacking libdrm2:amd64 (2.4.97-1) ...\nSelecting previously unselected package libglapi-mesa:amd64.\nPreparing to unpack .../32-libglapi-mesa_18.3.6-2+deb10u1_amd64.deb ...\nUnpacking libglapi-mesa:amd64 (18.3.6-2+deb10u1) ...\nSelecting previously unselected package libx11-xcb1:amd64.\nPreparing to unpack .../33-libx11-xcb1_2%3a1.6.7-1+deb10u2_amd64.deb ...\nUnpacking libx11-xcb1:amd64 (2:1.6.7-1+deb10u2) ...\nSelecting previously unselected package libxcb-dri2-0:amd64.\nPreparing to unpack .../34-libxcb-dri2-0_1.13.1-2_amd64.deb ...\nUnpacking libxcb-dri2-0:amd64 (1.13.1-2) ...\nSelecting previously unselected package libxcb-dri3-0:amd64.\nPreparing to unpack .../35-libxcb-dri3-0_1.13.1-2_amd64.deb ...\nUnpacking libxcb-dri3-0:amd64 (1.13.1-2) ...\nSelecting previously unselected package libxcb-glx0:amd64.\nPreparing to unpack .../36-libxcb-glx0_1.13.1-2_amd64.deb ...\nUnpacking libxcb-glx0:amd64 (1.13.1-2) ...\nSelecting previously unselected package libxcb-present0:amd64.\nPreparing to unpack .../37-libxcb-present0_1.13.1-2_amd64.deb ...\nUnpacking libxcb-present0:amd64 (1.13.1-2) ...\nSelecting previously unselected package libxcb-sync1:amd64.\nPreparing to unpack .../38-libxcb-sync1_1.13.1-2_amd64.deb ...\nUnpacking libxcb-sync1:amd64 (1.13.1-2) ...\nSelecting previously unselected package libxshmfence1:amd64.\nPreparing to unpack .../39-libxshmfence1_1.3-1_amd64.deb ...\nUnpacking libxshmfence1:amd64 (1.3-1) ...\nSelecting previously unselected package libxxf86vm1:amd64.\nPreparing to unpack .../40-libxxf86vm1_1%3a1.1.4-1+b2_amd64.deb ...\nUnpacking libxxf86vm1:amd64 (1:1.1.4-1+b2) ...\nSelecting previously unselected package libdrm-amdgpu1:amd64.\nPreparing to unpack .../41-libdrm-amdgpu1_2.4.97-1_amd64.deb ...\nUnpacking libdrm-amdgpu1:amd64 (2.4.97-1) ...\nSelecting previously unselected package libpciaccess0:amd64.\nPreparing to unpack .../42-libpciaccess0_0.14-1_amd64.deb ...\nUnpacking libpciaccess0:amd64 (0.14-1) ...\nSelecting previously unselected package libdrm-intel1:amd64.\nPreparing to unpack .../43-libdrm-intel1_2.4.97-1_amd64.deb ...\nUnpacking libdrm-intel1:amd64 (2.4.97-1) ...\nSelecting previously unselected package libdrm-nouveau2:amd64.\nPreparing to unpack .../44-libdrm-nouveau2_2.4.97-1_amd64.deb ...\nUnpacking libdrm-nouveau2:amd64 (2.4.97-1) ...\nSelecting previously unselected package libdrm-radeon1:amd64.\nPreparing to unpack .../45-libdrm-radeon1_2.4.97-1_amd64.deb ...\nUnpacking libdrm-radeon1:amd64 (2.4.97-1) ...\nSelecting previously unselected package libllvm7:amd64.\nPreparing to unpack .../46-libllvm7_1%3a7.0.1-8+deb10u2_amd64.deb ...\nUnpacking libllvm7:amd64 (1:7.0.1-8+deb10u2) ...\nSelecting previously unselected package libsensors-config.\nPreparing to unpack .../47-libsensors-config_1%3a3.5.0-3_all.deb ...\nUnpacking libsensors-config (1:3.5.0-3) ...\nSelecting previously unselected package libsensors5:amd64.\nPreparing to unpack .../48-libsensors5_1%3a3.5.0-3_amd64.deb ...\nUnpacking libsensors5:amd64 (1:3.5.0-3) ...\nSelecting previously unselected package libgl1-mesa-dri:amd64.\nPreparing to unpack .../49-libgl1-mesa-dri_18.3.6-2+deb10u1_amd64.deb ...\nUnpacking libgl1-mesa-dri:amd64 (18.3.6-2+deb10u1) ...\nSelecting previously unselected package libglx-mesa0:amd64.\nPreparing to unpack .../50-libglx-mesa0_18.3.6-2+deb10u1_amd64.deb ...\nUnpacking libglx-mesa0:amd64 (18.3.6-2+deb10u1) ...\nSelecting previously unselected package libglx0:amd64.\nPreparing to unpack .../51-libglx0_1.1.0-1_amd64.deb ...\nUnpacking libglx0:amd64 (1.1.0-1) ...\nSelecting previously unselected package libgl1:amd64.\nPreparing to unpack .../52-libgl1_1.1.0-1_amd64.deb ...\nUnpacking libgl1:amd64 (1.1.0-1) ...\nSelecting previously unselected package libxcb-shape0:amd64.\nPreparing to unpack .../53-libxcb-shape0_1.13.1-2_amd64.deb ...\nUnpacking libxcb-shape0:amd64 (1.13.1-2) ...\nSelecting previously unselected package libxmuu1:amd64.\nPreparing to unpack .../54-libxmuu1_2%3a1.1.2-2+b3_amd64.deb ...\nUnpacking libxmuu1:amd64 (2:1.1.2-2+b3) ...\nSelecting previously unselected package libxv1:amd64.\nPreparing to unpack .../55-libxv1_2%3a1.0.11-1_amd64.deb ...\nUnpacking libxv1:amd64 (2:1.0.11-1) ...\nSelecting previously unselected package libxxf86dga1:amd64.\nPreparing to unpack .../56-libxxf86dga1_2%3a1.1.4-1+b3_amd64.deb ...\nUnpacking libxxf86dga1:amd64 (2:1.1.4-1+b3) ...\nSelecting previously unselected package x11-utils.\nPreparing to unpack .../57-x11-utils_7.7+4_amd64.deb ...\nUnpacking x11-utils (7.7+4) ...\nSelecting previously unselected package libatk-wrapper-java.\nPreparing to unpack .../58-libatk-wrapper-java_0.33.3-22+deb10u1_all.deb ...\nUnpacking libatk-wrapper-java (0.33.3-22+deb10u1) ...\nSelecting previously unselected package libcolord2:amd64.\nPreparing to unpack .../59-libcolord2_1.4.3-4_amd64.deb ...\nUnpacking libcolord2:amd64 (1.4.3-4) ...\nSelecting previously unselected package libepoxy0:amd64.\nPreparing to unpack .../60-libepoxy0_1.5.3-0.1_amd64.deb ...\nUnpacking libepoxy0:amd64 (1.5.3-0.1) ...\nSelecting previously unselected package libjson-glib-1.0-common.\nPreparing to unpack .../61-libjson-glib-1.0-common_1.4.4-2_all.deb ...\nUnpacking libjson-glib-1.0-common (1.4.4-2) ...\nSelecting previously unselected package libjson-glib-1.0-0:amd64.\nPreparing to unpack .../62-libjson-glib-1.0-0_1.4.4-2_amd64.deb ...\nUnpacking libjson-glib-1.0-0:amd64 (1.4.4-2) ...\nSelecting previously unselected package libsoup2.4-1:amd64.\nPreparing to unpack .../63-libsoup2.4-1_2.64.2-2_amd64.deb ...\nUnpacking libsoup2.4-1:amd64 (2.64.2-2) ...\nSelecting previously unselected package libsoup-gnome2.4-1:amd64.\nPreparing to unpack .../64-libsoup-gnome2.4-1_2.64.2-2_amd64.deb ...\nUnpacking libsoup-gnome2.4-1:amd64 (2.64.2-2) ...\nSelecting previously unselected package librest-0.7-0:amd64.\nPreparing to unpack .../65-librest-0.7-0_0.8.1-1_amd64.deb ...\nUnpacking librest-0.7-0:amd64 (0.8.1-1) ...\nSelecting previously unselected package libwayland-client0:amd64.\nPreparing to unpack .../66-libwayland-client0_1.16.0-1_amd64.deb ...\nUnpacking libwayland-client0:amd64 (1.16.0-1) ...\nSelecting previously unselected package libwayland-cursor0:amd64.\nPreparing to unpack .../67-libwayland-cursor0_1.16.0-1_amd64.deb ...\nUnpacking libwayland-cursor0:amd64 (1.16.0-1) ...\nSelecting previously unselected package libwayland-egl1:amd64.\nPreparing to unpack .../68-libwayland-egl1_1.16.0-1_amd64.deb ...\nUnpacking libwayland-egl1:amd64 (1.16.0-1) ...\nSelecting previously unselected package xkb-data.\nPreparing to unpack .../69-xkb-data_2.26-2_all.deb ...\nUnpacking xkb-data (2.26-2) ...\nSelecting previously unselected package libxkbcommon0:amd64.\nPreparing to unpack .../70-libxkbcommon0_0.8.2-1_amd64.deb ...\nUnpacking libxkbcommon0:amd64 (0.8.2-1) ...\nSelecting previously unselected package libgtk-3-common.\nPreparing to unpack .../71-libgtk-3-common_3.24.5-1_all.deb ...\nUnpacking libgtk-3-common (3.24.5-1) ...\nSelecting previously unselected package libgtk-3-0:amd64.\nPreparing to unpack .../72-libgtk-3-0_3.24.5-1_amd64.deb ...\nUnpacking libgtk-3-0:amd64 (3.24.5-1) ...\nSelecting previously unselected package libatk-wrapper-java-jni:amd64.\nPreparing to unpack .../73-libatk-wrapper-java-jni_0.33.3-22+deb10u1_amd64.deb ...\nUnpacking libatk-wrapper-java-jni:amd64 (0.33.3-22+deb10u1) ...\nSelecting previously unselected package libgif7:amd64.\nPreparing to unpack .../74-libgif7_5.1.4-3_amd64.deb ...\nUnpacking libgif7:amd64 (5.1.4-3) ...\nSelecting previously unselected package libgtk-3-bin.\nPreparing to unpack .../75-libgtk-3-bin_3.24.5-1_amd64.deb ...\nUnpacking libgtk-3-bin (3.24.5-1) ...\nSelecting previously unselected package libxt-dev:amd64.\nPreparing to unpack .../76-libxt-dev_1%3a1.1.5-1+b3_amd64.deb ...\nUnpacking libxt-dev:amd64 (1:1.1.5-1+b3) ...\nSelecting previously unselected package openjdk-11-jre:amd64.\nPreparing to unpack .../77-openjdk-11-jre_11.0.16+8-1~deb10u1_amd64.deb ...\nUnpacking openjdk-11-jre:amd64 (11.0.16+8-1~deb10u1) ...\nSelecting previously unselected package openjdk-11-jdk-headless:amd64.\nPreparing to unpack .../78-openjdk-11-jdk-headless_11.0.16+8-1~deb10u1_amd64.deb ...\nUnpacking openjdk-11-jdk-headless:amd64 (11.0.16+8-1~deb10u1) ...\nSelecting previously unselected package openjdk-11-jdk:amd64.\nPreparing to unpack .../79-openjdk-11-jdk_11.0.16+8-1~deb10u1_amd64.deb ...\nUnpacking openjdk-11-jdk:amd64 (11.0.16+8-1~deb10u1) ...\nSetting up libxcb-dri3-0:amd64 (1.13.1-2) ...\nSetting up liblcms2-2:amd64 (2.9-3) ...\nSetting up libx11-xcb1:amd64 (2:1.6.7-1+deb10u2) ...\nSetting up libpciaccess0:amd64 (0.14-1) ...\nSetting up systemd-sysv (241-7~deb10u8) ...\nSetting up libproxy1v5:amd64 (0.4.15-5+deb10u1) ...\nSetting up java-common (0.71) ...\nSetting up libglvnd0:amd64 (1.1.0-1) ...\nSetting up libxtst6:amd64 (2:1.2.3-1) ...\nSetting up libxcb-glx0:amd64 (1.13.1-2) ...\nSetting up libxcb-shape0:amd64 (1.13.1-2) ...\nSetting up libsensors-config (1:3.5.0-3) ...\nSetting up libxxf86dga1:amd64 (2:1.1.4-1+b3) ...\nSetting up libnss-systemd:amd64 (241-7~deb10u8) ...\nFirst installation detected...\nChecking NSS setup...\nSetting up xkb-data (2.26-2) ...\nSetting up libcolord2:amd64 (1.4.3-4) ...\nSetting up libxxf86vm1:amd64 (1:1.1.4-1+b2) ...\nSetting up libxcb-present0:amd64 (1.13.1-2) ...\nSetting up libdconf1:amd64 (0.30.1-2) ...\nSetting up libasound2-data (1.1.8-1) ...\nSetting up libfontenc1:amd64 (1:1.1.3-1+b2) ...\nSetting up libepoxy0:amd64 (1.5.3-0.1) ...\nSetting up libnspr4:amd64 (2:4.20-1) ...\nSetting up libxcb-sync1:amd64 (1.13.1-2) ...\nSetting up libxt-dev:amd64 (1:1.1.5-1+b3) ...\nSetting up libdbus-1-3:amd64 (1.12.24-0+deb10u1) ...\nSetting up dbus (1.12.24-0+deb10u1) ...\ninvoke-rc.d: could not determine current runlevel\ninvoke-rc.d: policy-rc.d denied execution of start.\nSetting up libxv1:amd64 (2:1.0.11-1) ...\nSetting up libpcsclite1:amd64 (1.8.24-1) ...\nSetting up libsensors5:amd64 (1:3.5.0-3) ...\nSetting up libglapi-mesa:amd64 (18.3.6-2+deb10u1) ...\nSetting up libxcb-dri2-0:amd64 (1.13.1-2) ...\nSetting up libgif7:amd64 (5.1.4-3) ...\nSetting up fonts-dejavu-extra (2.37-1) ...\nSetting up libxshmfence1:amd64 (1.3-1) ...\nSetting up libasound2:amd64 (1.1.8-1) ...\nSetting up libpam-systemd:amd64 (241-7~deb10u8) ...\ndebconf: unable to initialize frontend: Dialog\ndebconf: (No usable dialog-like program is installed, so the dialog based frontend cannot be used. at /usr/share/perl5/Debconf/FrontEnd/Dialog.pm line 78.)\ndebconf: falling back to frontend: Readline\nSetting up libllvm7:amd64 (1:7.0.1-8+deb10u2) ...\nSetting up libjson-glib-1.0-common (1.4.4-2) ...\nSetting up libwayland-egl1:amd64 (1.16.0-1) ...\nSetting up glib-networking-common (2.58.0-2+deb10u2) ...\nSetting up libdrm-common (2.4.97-1) ...\nSetting up libxmuu1:amd64 (2:1.1.2-2+b3) ...\nSetting up libxkbcommon0:amd64 (0.8.2-1) ...\nSetting up libwayland-client0:amd64 (1.16.0-1) ...\nSetting up glib-networking-services (2.58.0-2+deb10u2) ...\nSetting up libnss3:amd64 (2:3.42.1-1+deb10u5) ...\nSetting up libatspi2.0-0:amd64 (2.30.0-7) ...\nSetting up libjson-glib-1.0-0:amd64 (1.4.4-2) ...\nSetting up libatk-bridge2.0-0:amd64 (2.30.0-5) ...\nSetting up dbus-user-session (1.12.24-0+deb10u1) ...\nSetting up libdrm2:amd64 (2.4.97-1) ...\nSetting up at-spi2-core (2.30.0-7) ...\nSetting up libwayland-cursor0:amd64 (1.16.0-1) ...\nSetting up libdrm-amdgpu1:amd64 (2.4.97-1) ...\nSetting up libdrm-nouveau2:amd64 (2.4.97-1) ...\nSetting up libdrm-radeon1:amd64 (2.4.97-1) ...\nSetting up libdrm-intel1:amd64 (2.4.97-1) ...\nSetting up libgl1-mesa-dri:amd64 (18.3.6-2+deb10u1) ...\nSetting up dconf-service (0.30.1-2) ...\nSetting up libglx-mesa0:amd64 (18.3.6-2+deb10u1) ...\nSetting up libglx0:amd64 (1.1.0-1) ...\nSetting up dconf-gsettings-backend:amd64 (0.30.1-2) ...\nSetting up libgl1:amd64 (1.1.0-1) ...\nSetting up x11-utils (7.7+4) ...\nSetting up libatk-wrapper-java (0.33.3-22+deb10u1) ...\nSetting up libgtk-3-common (3.24.5-1) ...\nSetting up gsettings-desktop-schemas (3.28.1-1) ...\nSetting up openjdk-11-jre-headless:amd64 (11.0.16+8-1~deb10u1) ...\nupdate-alternatives: using /usr/lib/jvm/java-11-openjdk-amd64/bin/java to provide /usr/bin/java (java) in auto mode\nupdate-alternatives: using /usr/lib/jvm/java-11-openjdk-amd64/bin/jjs to provide /usr/bin/jjs (jjs) in auto mode\nupdate-alternatives: using /usr/lib/jvm/java-11-openjdk-amd64/bin/keytool to provide /usr/bin/keytool (keytool) in auto mode\nupdate-alternatives: using /usr/lib/jvm/java-11-openjdk-amd64/bin/rmid to provide /usr/bin/rmid (rmid) in auto mode\nupdate-alternatives: using /usr/lib/jvm/java-11-openjdk-amd64/bin/rmiregistry to provide /usr/bin/rmiregistry (rmiregistry) in auto mode\nupdate-alternatives: using /usr/lib/jvm/java-11-openjdk-amd64/bin/pack200 to provide /usr/bin/pack200 (pack200) in auto mode\nupdate-alternatives: using /usr/lib/jvm/java-11-openjdk-amd64/bin/unpack200 to provide /usr/bin/unpack200 (unpack200) in auto mode\nupdate-alternatives: using /usr/lib/jvm/java-11-openjdk-amd64/lib/jexec to provide /usr/bin/jexec (jexec) in auto mode\nSetting up openjdk-11-jre:amd64 (11.0.16+8-1~deb10u1) ...\nSetting up openjdk-11-jdk-headless:amd64 (11.0.16+8-1~deb10u1) ...\nupdate-alternatives: using /usr/lib/jvm/java-11-openjdk-amd64/bin/jar to provide /usr/bin/jar (jar) in auto mode\nupdate-alternatives: using /usr/lib/jvm/java-11-openjdk-amd64/bin/jarsigner to provide /usr/bin/jarsigner (jarsigner) in auto mode\nupdate-alternatives: using /usr/lib/jvm/java-11-openjdk-amd64/bin/javac to provide /usr/bin/javac (javac) in auto mode\nupdate-alternatives: using /usr/lib/jvm/java-11-openjdk-amd64/bin/javadoc to provide /usr/bin/javadoc (javadoc) in auto mode\nupdate-alternatives: using /usr/lib/jvm/java-11-openjdk-amd64/bin/javap to provide /usr/bin/javap (javap) in auto mode\nupdate-alternatives: using /usr/lib/jvm/java-11-openjdk-amd64/bin/jcmd to provide /usr/bin/jcmd (jcmd) in auto mode\nupdate-alternatives: using /usr/lib/jvm/java-11-openjdk-amd64/bin/jdb to provide /usr/bin/jdb (jdb) in auto mode\nupdate-alternatives: using /usr/lib/jvm/java-11-openjdk-amd64/bin/jdeprscan to provide /usr/bin/jdeprscan (jdeprscan) in auto mode\nupdate-alternatives: using /usr/lib/jvm/java-11-openjdk-amd64/bin/jdeps to provide /usr/bin/jdeps (jdeps) in auto mode\nupdate-alternatives: using /usr/lib/jvm/java-11-openjdk-amd64/bin/jfr to provide /usr/bin/jfr (jfr) in auto mode\nupdate-alternatives: using /usr/lib/jvm/java-11-openjdk-amd64/bin/jimage to provide /usr/bin/jimage (jimage) in auto mode\nupdate-alternatives: using /usr/lib/jvm/java-11-openjdk-amd64/bin/jinfo to provide /usr/bin/jinfo (jinfo) in auto mode\nupdate-alternatives: using /usr/lib/jvm/java-11-openjdk-amd64/bin/jlink to provide /usr/bin/jlink (jlink) in auto mode\nupdate-alternatives: using /usr/lib/jvm/java-11-openjdk-amd64/bin/jmap to provide /usr/bin/jmap (jmap) in auto mode\nupdate-alternatives: using /usr/lib/jvm/java-11-openjdk-amd64/bin/jmod to provide /usr/bin/jmod (jmod) in auto mode\nupdate-alternatives: using /usr/lib/jvm/java-11-openjdk-amd64/bin/jps to provide /usr/bin/jps (jps) in auto mode\nupdate-alternatives: using /usr/lib/jvm/java-11-openjdk-amd64/bin/jrunscript to provide /usr/bin/jrunscript (jrunscript) in auto mode\nupdate-alternatives: using /usr/lib/jvm/java-11-openjdk-amd64/bin/jshell to provide /usr/bin/jshell (jshell) in auto mode\nupdate-alternatives: using /usr/lib/jvm/java-11-openjdk-amd64/bin/jstack to provide /usr/bin/jstack (jstack) in auto mode\nupdate-alternatives: using /usr/lib/jvm/java-11-openjdk-amd64/bin/jstat to provide /usr/bin/jstat (jstat) in auto mode\nupdate-alternatives: using /usr/lib/jvm/java-11-openjdk-amd64/bin/jstatd to provide /usr/bin/jstatd (jstatd) in auto mode\nupdate-alternatives: using /usr/lib/jvm/java-11-openjdk-amd64/bin/rmic to provide /usr/bin/rmic (rmic) in auto mode\nupdate-alternatives: using /usr/lib/jvm/java-11-openjdk-amd64/bin/serialver to provide /usr/bin/serialver (serialver) in auto mode\nupdate-alternatives: using /usr/lib/jvm/java-11-openjdk-amd64/bin/jaotc to provide /usr/bin/jaotc (jaotc) in auto mode\nupdate-alternatives: using /usr/lib/jvm/java-11-openjdk-amd64/bin/jhsdb to provide /usr/bin/jhsdb (jhsdb) in auto mode\nSetting up openjdk-11-jdk:amd64 (11.0.16+8-1~deb10u1) ...\nupdate-alternatives: using /usr/lib/jvm/java-11-openjdk-amd64/bin/jconsole to provide /usr/bin/jconsole (jconsole) in auto mode\nSetting up ca-certificates-java (20190405) ...\nhead: cannot open '/etc/ssl/certs/java/cacerts' for reading: No such file or directory\nAdding debian:ACCVRAIZ1.pem\nAdding debian:AC_RAIZ_FNMT-RCM.pem\nAdding debian:Actalis_Authentication_Root_CA.pem\nAdding debian:AffirmTrust_Commercial.pem\nAdding debian:AffirmTrust_Networking.pem\nAdding debian:AffirmTrust_Premium.pem\nAdding debian:AffirmTrust_Premium_ECC.pem\nAdding debian:Amazon_Root_CA_1.pem\nAdding debian:Amazon_Root_CA_2.pem\nAdding debian:Amazon_Root_CA_3.pem\nAdding debian:Amazon_Root_CA_4.pem\nAdding debian:Atos_TrustedRoot_2011.pem\nAdding debian:Autoridad_de_Certificacion_Firmaprofesional_CIF_A62634068.pem\nAdding debian:Baltimore_CyberTrust_Root.pem\nAdding debian:Buypass_Class_2_Root_CA.pem\nAdding debian:Buypass_Class_3_Root_CA.pem\nAdding debian:CA_Disig_Root_R2.pem\nAdding debian:CFCA_EV_ROOT.pem\nAdding debian:COMODO_Certification_Authority.pem\nAdding debian:COMODO_ECC_Certification_Authority.pem\nAdding debian:COMODO_RSA_Certification_Authority.pem\nAdding debian:Certigna.pem\nAdding debian:Certigna_Root_CA.pem\nAdding debian:Certum_Trusted_Network_CA.pem\nAdding debian:Certum_Trusted_Network_CA_2.pem\nAdding debian:Chambers_of_Commerce_Root_-_2008.pem\nAdding debian:Comodo_AAA_Services_root.pem\nAdding debian:Cybertrust_Global_Root.pem\nAdding debian:D-TRUST_Root_Class_3_CA_2_2009.pem\nAdding debian:D-TRUST_Root_Class_3_CA_2_EV_2009.pem\nAdding debian:DST_Root_CA_X3.pem\nAdding debian:DigiCert_Assured_ID_Root_CA.pem\nAdding debian:DigiCert_Assured_ID_Root_G2.pem\nAdding debian:DigiCert_Assured_ID_Root_G3.pem\nAdding debian:DigiCert_Global_Root_CA.pem\nAdding debian:DigiCert_Global_Root_G2.pem\nAdding debian:DigiCert_Global_Root_G3.pem\nAdding debian:DigiCert_High_Assurance_EV_Root_CA.pem\nAdding debian:DigiCert_Trusted_Root_G4.pem\nAdding debian:E-Tugra_Certification_Authority.pem\nAdding debian:EC-ACC.pem\nAdding debian:EE_Certification_Centre_Root_CA.pem\nAdding debian:Entrust.net_Premium_2048_Secure_Server_CA.pem\nAdding debian:Entrust_Root_Certification_Authority.pem\nAdding debian:GDCA_TrustAUTH_R5_ROOT.pem\nAdding debian:Entrust_Root_Certification_Authority_-_EC1.pem\nAdding debian:Entrust_Root_Certification_Authority_-_G2.pem\nAdding debian:Entrust_Root_Certification_Authority_-_G4.pem\nAdding debian:GTS_Root_R1.pem\nAdding debian:GTS_Root_R2.pem\nAdding debian:GTS_Root_R3.pem\nAdding debian:GTS_Root_R4.pem\nAdding debian:GeoTrust_Global_CA.pem\nAdding debian:GeoTrust_Primary_Certification_Authority.pem\nAdding debian:GeoTrust_Primary_Certification_Authority_-_G2.pem\nAdding debian:GeoTrust_Primary_Certification_Authority_-_G3.pem\nAdding debian:GeoTrust_Universal_CA.pem\nAdding debian:GeoTrust_Universal_CA_2.pem\nAdding debian:GlobalSign_ECC_Root_CA_-_R4.pem\nAdding debian:GlobalSign_ECC_Root_CA_-_R5.pem\nAdding debian:GlobalSign_Root_CA.pem\nAdding debian:GlobalSign_Root_CA_-_R2.pem\nAdding debian:GlobalSign_Root_CA_-_R3.pem\nAdding debian:GlobalSign_Root_CA_-_R6.pem\nAdding debian:Global_Chambersign_Root_-_2008.pem\nAdding debian:Go_Daddy_Class_2_CA.pem\nAdding debian:Go_Daddy_Root_Certificate_Authority_-_G2.pem\nAdding debian:Hellenic_Academic_and_Research_Institutions_ECC_RootCA_2015.pem\nAdding debian:Hellenic_Academic_and_Research_Institutions_RootCA_2011.pem\nAdding debian:Hellenic_Academic_and_Research_Institutions_RootCA_2015.pem\nAdding debian:Hongkong_Post_Root_CA_1.pem\nAdding debian:Hongkong_Post_Root_CA_3.pem\nAdding debian:ISRG_Root_X1.pem\nAdding debian:IdenTrust_Commercial_Root_CA_1.pem\nAdding debian:IdenTrust_Public_Sector_Root_CA_1.pem\nAdding debian:Izenpe.com.pem\nAdding debian:LuxTrust_Global_Root_2.pem\nAdding debian:Microsec_e-Szigno_Root_CA_2009.pem\nAdding debian:NetLock_Arany_=Class_Gold=_Főtanúsítvány.pem\nAdding debian:Network_Solutions_Certificate_Authority.pem\nAdding debian:OISTE_WISeKey_Global_Root_GA_CA.pem\nAdding debian:OISTE_WISeKey_Global_Root_GB_CA.pem\nAdding debian:OISTE_WISeKey_Global_Root_GC_CA.pem\nAdding debian:QuoVadis_Root_CA.pem\nAdding debian:QuoVadis_Root_CA_1_G3.pem\nAdding debian:QuoVadis_Root_CA_2.pem\nAdding debian:QuoVadis_Root_CA_2_G3.pem\nAdding debian:QuoVadis_Root_CA_3.pem\nAdding debian:QuoVadis_Root_CA_3_G3.pem\nAdding debian:SSL.com_EV_Root_Certification_Authority_ECC.pem\nAdding debian:SSL.com_EV_Root_Certification_Authority_RSA_R2.pem\nAdding debian:SSL.com_Root_Certification_Authority_ECC.pem\nAdding debian:SSL.com_Root_Certification_Authority_RSA.pem\nAdding debian:SZAFIR_ROOT_CA2.pem\nAdding debian:SecureSign_RootCA11.pem\nAdding debian:SecureTrust_CA.pem\nAdding debian:Secure_Global_CA.pem\nAdding debian:Security_Communication_RootCA2.pem\nAdding debian:Security_Communication_Root_CA.pem\nAdding debian:Sonera_Class_2_Root_CA.pem\nAdding debian:Staat_der_Nederlanden_EV_Root_CA.pem\nAdding debian:Staat_der_Nederlanden_Root_CA_-_G2.pem\nAdding debian:Staat_der_Nederlanden_Root_CA_-_G3.pem\nAdding debian:Starfield_Class_2_CA.pem\nAdding debian:Starfield_Root_Certificate_Authority_-_G2.pem\nAdding debian:Starfield_Services_Root_Certificate_Authority_-_G2.pem\nAdding debian:SwissSign_Gold_CA_-_G2.pem\nAdding debian:SwissSign_Silver_CA_-_G2.pem\nAdding debian:T-TeleSec_GlobalRoot_Class_2.pem\nAdding debian:T-TeleSec_GlobalRoot_Class_3.pem\nAdding debian:TUBITAK_Kamu_SM_SSL_Kok_Sertifikasi_-_Surum_1.pem\nAdding debian:TWCA_Global_Root_CA.pem\nAdding debian:TWCA_Root_Certification_Authority.pem\nAdding debian:Taiwan_GRCA.pem\nAdding debian:TeliaSonera_Root_CA_v1.pem\nAdding debian:TrustCor_ECA-1.pem\nAdding debian:TrustCor_RootCert_CA-1.pem\nAdding debian:TrustCor_RootCert_CA-2.pem\nAdding debian:Trustis_FPS_Root_CA.pem\nAdding debian:UCA_Extended_Validation_Root.pem\nAdding debian:UCA_Global_G2_Root.pem\nAdding debian:USERTrust_ECC_Certification_Authority.pem\nAdding debian:USERTrust_RSA_Certification_Authority.pem\nAdding debian:VeriSign_Class_3_Public_Primary_Certification_Authority_-_G4.pem\nAdding debian:VeriSign_Class_3_Public_Primary_Certification_Authority_-_G5.pem\nAdding debian:VeriSign_Universal_Root_Certification_Authority.pem\nAdding debian:Verisign_Class_3_Public_Primary_Certification_Authority_-_G3.pem\nAdding debian:XRamp_Global_CA_Root.pem\nAdding debian:certSIGN_ROOT_CA.pem\nAdding debian:ePKI_Root_Certification_Authority.pem\nAdding debian:emSign_ECC_Root_CA_-_C3.pem\nAdding debian:emSign_ECC_Root_CA_-_G3.pem\nAdding debian:emSign_Root_CA_-_C1.pem\nAdding debian:emSign_Root_CA_-_G1.pem\nAdding debian:thawte_Primary_Root_CA.pem\nAdding debian:thawte_Primary_Root_CA_-_G2.pem\nAdding debian:thawte_Primary_Root_CA_-_G3.pem\ndone.\nProcessing triggers for fontconfig (2.13.1-2) ...\nProcessing triggers for mime-support (3.62) ...\nProcessing triggers for hicolor-icon-theme (0.17-2) ...\nProcessing triggers for libglib2.0-0:amd64 (2.58.3-2+deb10u3) ...\nProcessing triggers for libc-bin (2.28-10+deb10u1) ...\nProcessing triggers for systemd (241-7~deb10u8) ...\nProcessing triggers for ca-certificates (20200601~deb10u2) ...\nUpdating certificates in /etc/ssl/certs...\n0 added, 0 removed; done.\nRunning hooks in /etc/ca-certificates/update.d...\n\ndone.\ndone.\nSetting up glib-networking:amd64 (2.58.0-2+deb10u2) ...\nSetting up libsoup2.4-1:amd64 (2.64.2-2) ...\nSetting up libsoup-gnome2.4-1:amd64 (2.64.2-2) ...\nSetting up librest-0.7-0:amd64 (0.8.1-1) ...\nSetting up libgtk-3-0:amd64 (3.24.5-1) ...\nSetting up libgtk-3-bin (3.24.5-1) ...\nSetting up libatk-wrapper-java-jni:amd64 (0.33.3-22+deb10u1) ...\nProcessing triggers for libc-bin (2.28-10+deb10u1) ...\nRequirement already satisfied: pyspark in /root/venv/lib/python3.9/site-packages (3.3.0)\nRequirement already satisfied: py4j==0.10.9.5 in /root/venv/lib/python3.9/site-packages (from pyspark) (0.10.9.5)\n\u001b[33mWARNING: You are using pip version 22.0.4; however, version 22.3 is available.\nYou should consider upgrading via the '/root/venv/bin/python -m pip install --upgrade pip' command.\u001b[0m\u001b[33m\n\u001b[0mSetting default log level to \"WARN\".\nTo adjust logging level use sc.setLogLevel(newLevel). For SparkR, use setLogLevel(newLevel).\n22/10/16 22:12:34 WARN NativeCodeLoader: Unable to load native-hadoop library for your platform... using builtin-java classes where applicable\n",
     "output_type": "stream"
    }
   ]
  },
  {
   "cell_type": "markdown",
   "source": "### Grab Wikipedia Data\nWe will be using the beautiful soup library to scrape each year's top 100 tracks. Wikipedia lists each year's top-100 list in a tabulated format with the first column being the song's rank, the second column being the track name, and the last column being the artists involved.",
   "metadata": {
    "tags": [],
    "cell_id": "195fe57d4eb140c19723add852f19108",
    "deepnote_cell_type": "markdown",
    "deepnote_cell_height": 122.796875
   }
  },
  {
   "cell_type": "code",
   "metadata": {
    "cell_id": "debbcb84042240118eff635bf1f18340",
    "tags": [],
    "deepnote_to_be_reexecuted": false,
    "source_hash": "de1f5300",
    "execution_start": 1665958365176,
    "execution_millis": 7,
    "deepnote_cell_type": "code",
    "deepnote_cell_height": 148
   },
   "source": "# grab first wikitab from wikipedia page\ndef grab_wikitab(url, cls):\n    html = urlopen(url)\n    soup = BeautifulSoup(html, 'html.parser')\n    return soup.find('table',{'class':cls})",
   "execution_count": 5,
   "outputs": []
  },
  {
   "cell_type": "code",
   "metadata": {
    "cell_id": "af5ee641b9a043dcbb30e46e1ac15733",
    "tags": [],
    "deepnote_to_be_reexecuted": false,
    "source_hash": "396cf00d",
    "execution_start": 1665958366829,
    "execution_millis": 19,
    "deepnote_cell_type": "code",
    "deepnote_cell_height": 292
   },
   "source": "# create function that uses artist href's to grab birth info\ndef birth_info(href):\n    wiki_home = 'https://en.wikipedia.org'\n    try: infobox = grab_wikitab(wiki_home + href, 'infobox').select('td')[1:5]\n    except: return None, None\n    for i in infobox:\n        bday = i.find('span', {'class':'bday'})\n        # get doesn't default to none if find returns none\n        try: origin = i.find('a').get('title')\n        except: origin = None\n        if bday != None or origin != None:\n            return bday, origin \n    return None, None",
   "execution_count": 6,
   "outputs": []
  },
  {
   "cell_type": "code",
   "source": "# create wikipedia scrape function that grabs artists' hrefs\ndef wiki_refs(wikitab):\n    # initialize empty list to append to\n    urls = []\n    for i in np.arange(2, len(wikitab), 3):\n        line = wikitab[i].find('a')\n        if line != None:\n            href = line.get('href')\n            ### we opted against adding the below bday and origin\n            ### this statement would fail as it creates too many url calls\n            ### and would cause a keyboard interruption\n            ### if we had more time we would explore this further\n            # bday, origin = birth_info(href)\n            urls.append([line.get('title'), href])\n    return urls",
   "metadata": {
    "cell_id": "63e398c6381b47a6971bf894ce44fe5c",
    "tags": [],
    "deepnote_to_be_reexecuted": false,
    "source_hash": "c1739672",
    "execution_start": 1665958584597,
    "execution_millis": 1,
    "deepnote_table_state": {
     "pageSize": 10,
     "pageIndex": 2,
     "filters": [],
     "sortBy": []
    },
    "deepnote_table_loading": false,
    "deepnote_cell_type": "code",
    "deepnote_cell_height": 328
   },
   "execution_count": 7,
   "outputs": []
  },
  {
   "cell_type": "code",
   "source": "# create function that grabs top 100 for each year\ndef wiki_lists(url_prefix, min_yr, max_yr):\n    # initialize empty df to append bb songs to\n    df = pd.DataFrame()\n    ### we were going to create a url list so we could capture\n    ### artist origin and DOB info\n    ### due to time constraints to solution a better way to grab\n    ### these features we have limited the scope on this\n    # urls = []\n    # for each year open the url and extract the table as a df\n    for yr in np.arange(min_yr, max_yr + 1):\n        # grab wikitab\n        url = f'{url_prefix}{str(yr)}'\n        wikitab = grab_wikitab(url, 'wikitable')\n        # create pd dataframe out of table contents\n        df_yr = pd.read_html(str(wikitab))\n        df_yr = pd.DataFrame(df_yr[0])\n        # align columns\n        df_yr.columns = ['rank','track_nm','artist_nms']\n        # create year column\n        df_yr['year'] = yr\n        # append to general df\n        df = pd.concat([df, df_yr], ignore_index = True)\n        ### as stated above we no longer need the url list\n        # append to list of artist hrefs\n        # urls.extend(wiki_refs(wikitab.select('td')))\n    return df#, urls\n\ndf = wiki_lists(config.wiki_url_prefix, config.min_yr, config.max_yr)",
   "metadata": {
    "tags": [],
    "cell_id": "7099fa4f515b4add9a76d05dfadd2a9d",
    "source_hash": "b7081866",
    "execution_start": 1665958786873,
    "execution_millis": 16646,
    "deepnote_table_state": {
     "sortBy": [
      {
       "id": "№",
       "type": "asc"
      }
     ],
     "filters": [],
     "pageSize": 10,
     "pageIndex": 0
    },
    "deepnote_table_invalid": false,
    "deepnote_table_loading": false,
    "deepnote_to_be_reexecuted": false,
    "deepnote_cell_type": "code",
    "deepnote_cell_height": 580,
    "deepnote_output_heights": [
     39.390625
    ]
   },
   "execution_count": 10,
   "outputs": []
  },
  {
   "cell_type": "markdown",
   "source": "### Grab Spotify Data\nWe will use the data scraped from Wikipedia to search Spotify for as many billboard year-end top 100 tracks as we can find. Using regex and some text formatting we will try to capture as many songs as possible. After finding these songs and retrieving their Spotify track id's, we can use those id's to call their track attributes.",
   "metadata": {
    "tags": [],
    "cell_id": "60f04794c71945f39d1b6393f4cd780c",
    "deepnote_cell_type": "markdown",
    "deepnote_cell_height": 145.1875
   }
  },
  {
   "cell_type": "code",
   "metadata": {
    "tags": [],
    "cell_id": "0b276b2c37f44938a792f3a5ae6be629",
    "source_hash": "93e7df0a",
    "execution_start": 1665958811798,
    "execution_millis": 79,
    "deepnote_table_state": {
     "sortBy": [],
     "filters": [],
     "pageSize": 10,
     "pageIndex": 7
    },
    "deepnote_table_loading": false,
    "deepnote_to_be_reexecuted": false,
    "deepnote_cell_type": "code",
    "deepnote_cell_height": 238
   },
   "source": "def search_term(df, artist_col_nm, track_col_nm):\n    # lowercase and split using vector functions\n    artist_search = df[artist_col_nm].str.lower() \\\n        .str.replace('[\\\"\\']', '', regex = True) \\\n        .str.replace('((feat\\W|\\(|and\\s|featuring|,|with\\s|&\\s).*)', '', regex = True)\n    # define track terms\n    track_search = df[track_col_nm].str.replace('[\\\"\\'\\.]', '', regex = True).str.split(pat = \"/\").str[0]\n    return artist_search, track_search\n\ndf['artist_search'], df['track_search'] = search_term(df, 'artist_nms', 'track_nm')",
   "execution_count": 11,
   "outputs": []
  },
  {
   "cell_type": "code",
   "metadata": {
    "tags": [],
    "cell_id": "fcd39ab7398a49ba892afb2e4445e720",
    "source_hash": "f31b00ba",
    "execution_start": 1665958815155,
    "execution_millis": 19,
    "deepnote_to_be_reexecuted": false,
    "deepnote_cell_type": "code",
    "deepnote_cell_height": 256
   },
   "source": "# create function that iterates through artists for matching\ndef artist_searcher(output, artist):\n    if len(output) == 0: return None, None\n    else:\n        for i in output:\n            artists = [re.sub('[\\\"\\']', '', a['name'].lower()) for a in i['artists']]\n            artists = set(itertools.chain.from_iterable(artists))\n            if set(artist.split()).isdisjoint(artists) == False:\n                try: return i[0]['id'], i[0]['artists'][0]['id']\n                except: return None, None\n            else: return None, None",
   "execution_count": 12,
   "outputs": []
  },
  {
   "cell_type": "code",
   "metadata": {
    "tags": [],
    "cell_id": "8605fa87358a474785b0152dc2a8479a",
    "source_hash": "504952ca",
    "execution_start": 1665958819636,
    "execution_millis": 6,
    "deepnote_to_be_reexecuted": false,
    "deepnote_cell_type": "code",
    "deepnote_cell_height": 400
   },
   "source": "# create search rules to optimize accuracy of spotify search selection\ndef search_rule(query, artist, track, year):\n    try: output = sp.search(q = query + ' year:' + str(year) + '-' + str(year + 2),\n                            limit = 2, type = 'track')['tracks']['items']\n    except: output = sp.search(q = query, limit = 2, type = 'track')['tracks']['items']\n    # if condition is met we skip all other loops\n    if len(output) >= 1:\n        return output[0]['id'], output[0]['artists'][0]['id']\n    # if first condition is not met we just search on song title\n    else:\n        output = sp.search(q = 'track:' + track, type = 'track')['tracks']['items']\n        # use artist name to select appropriate title\n        track_id, artist_id = artist_searcher(output, artist)\n        if track_id is not None: return track_id, artist_id\n        else:\n            for word in track.split():\n                output = sp.search(q = 'track:' + word, type = 'track')['tracks']['items']\n                # use artist name to select appropriate title\n                return artist_searcher(output, artist)",
   "execution_count": 13,
   "outputs": []
  },
  {
   "cell_type": "code",
   "source": "# for each song in the wiki df search spotify for track id's\n# this method leverages pyspark and RDD's\n# we did this to assess data ingestion time difference\ndef track_id_search(df, sp, artist_col, track_col, year):\n    df['query'] = 'artist:' + df[artist_col] + ' track:' + df[track_col] \n    sp_df = spark.createDataFrame(df[['query', artist_col, track_col, year]])\n    rdd = sp_df.rdd.map(lambda x: search_rule(x.query, x[artist_col], x[track_col], x[year]))\n    df2 = rdd.toDF(['track_ids', 'artist_ids'])\n    return df2.toPandas()",
   "metadata": {
    "cell_id": "a67d985273df436b993127c41938960f",
    "tags": [],
    "deepnote_to_be_reexecuted": false,
    "source_hash": "89b88508",
    "execution_start": 1665958928130,
    "execution_millis": 3,
    "deepnote_cell_type": "code",
    "deepnote_cell_height": 220
   },
   "execution_count": 14,
   "outputs": []
  },
  {
   "cell_type": "code",
   "source": "# for each song in the wiki df search spotify for track id's\n# this method is only slightly less efficient than the pyspark + RDD method\n# so we have decided to use this as it is somewhat more digestible code to read\ndef track_id_search(df, sp, artist_col, track_col, year):\n    df['query'] = 'artist:' + df[artist_col] + ' track:' + df[track_col] \n    # iterate through search rules until we find a match or give up\n    track_ids, artist_ids = zip(*df[['query', artist_col, track_col, year]].apply(\n        lambda x: search_rule(x.query, x[artist_col], x[track_col], x[year]), axis = 1))\n    return track_ids, artist_ids\n    \ndf['track_ids'], df['artist_ids'] = track_id_search(df, sp, 'artist_search', 'track_search', 'year')\n# drop nulls as decided during the project proposal stage\ndf2 = df.copy().dropna()",
   "metadata": {
    "tags": [],
    "cell_id": "71a71d2ba6674568aefc26be7dbe1883",
    "source_hash": "a3835596",
    "execution_start": 1665893569913,
    "execution_millis": 1143074,
    "deepnote_to_be_reexecuted": false,
    "deepnote_cell_type": "code",
    "deepnote_cell_height": 386.28125
   },
   "execution_count": null,
   "outputs": [
    {
     "name": "stderr",
     "text": "ERROR:spotipy.client:HTTP Error for GET to https://api.spotify.com/v1/search with Params: {'q': 'artist:raiders track:Indian Reservation (The Lament of the Cherokee Reservation Indian) year:1971-1973', 'limit': 2, 'offset': 0, 'type': 'track', 'market': None} returned 400 due to Bad request.\nERROR:spotipy.client:HTTP Error for GET to https://api.spotify.com/v1/search with Params: {'q': 'artist:the hillside singers track:Id Like to Teach the World to Sing (In Perfect Harmony) year:1972-1974', 'limit': 2, 'offset': 0, 'type': 'track', 'market': None} returned 400 due to Bad request.\nERROR:spotipy.client:HTTP Error for GET to https://api.spotify.com/v1/search with Params: {'q': 'artist:b.j. thomas track:(Hey Wont You Play) Another Somebody Done Somebody Wrong Song year:1975-1977', 'limit': 2, 'offset': 0, 'type': 'track', 'market': None} returned 400 due to Bad request.\nERROR:spotipy.client:HTTP Error for GET to https://api.spotify.com/v1/search with Params: {'q': 'artist:the four seasons track:December, 1963 (Oh, What a Night) (DJ Ben Liebrand Remix) year:1994-1996', 'limit': 2, 'offset': 0, 'type': 'track', 'market': None} returned 400 due to Bad request.\n",
     "output_type": "stream"
    }
   ]
  },
  {
   "cell_type": "code",
   "source": "# df = pd.read_csv('/work/billboard_music_analysis/streamlit/data/bb_100_feat.csv')",
   "metadata": {
    "cell_id": "e0f294d20d1b4ab0bbd3a6aa69e285a7",
    "tags": [],
    "deepnote_to_be_reexecuted": false,
    "source_hash": "b3d324f0",
    "execution_start": 1665940259511,
    "execution_millis": 51,
    "deepnote_cell_type": "code",
    "deepnote_cell_height": 76
   },
   "execution_count": null,
   "outputs": []
  },
  {
   "cell_type": "code",
   "source": "# create function that uses track_ids to find audio features\n# and uses artist_ids to grab genres\ndef audio_feature(df, af_id_col, genre_id_col):\n    # grab track_ids to get audio features\n    af_ser = df[af_id_col]\n    af_df = pd.DataFrame()\n    # grab artist_ids to get artist genre\n    genre_ser = df[genre_id_col]\n    genre_df = pd.DataFrame()\n    # iterate through series and make api calls\n    for i in np.arange(0, df.shape[0], 50):\n        # start with audio features\n        af_output = sp.audio_features(list(af_ser[i:(i + 50)]))\n        af_output = [i for i in af_output if i is not None]\n        af_extended = pd.DataFrame(af_output)\n        af_df = pd.concat([af_df, af_extended], ignore_index = True)\n        # follow with genres\n        genre_output = sp.artists(list(genre_ser[i:(i + 50)]))['artists']\n        genre_output = [[i['id'], i['genres'][0]] for i in genre_output if len(i['genres']) > 0]\n        genre_extended = pd.DataFrame(genre_output)\n        genre_df = pd.concat([genre_df, genre_extended], ignore_index = True)\n    # dedup df's to avoid duplication when joining\n    af_df.drop_duplicates(inplace = True)\n    genre_df.drop_duplicates(inplace = True)\n    # rename genre df columns\n    genre_df.columns = ['artist_ids', 'genre']\n    return af_df, genre_df\n\ndf3 = df2.merge(audio_feature(df2, 'track_ids'), how = 'inner', left_on = 'track_ids',\n                right_on = 'id').drop_duplicates().dropna()",
   "metadata": {
    "tags": [],
    "cell_id": "9ddb586d6a9e4afc86ce015bfbb3d8f1",
    "source_hash": "9ea1af43",
    "execution_start": 1665940260121,
    "execution_millis": 2,
    "deepnote_table_state": {
     "sortBy": [],
     "filters": [],
     "pageSize": 10,
     "pageIndex": 2
    },
    "deepnote_table_invalid": false,
    "deepnote_table_loading": false,
    "deepnote_to_be_reexecuted": false,
    "deepnote_cell_type": "code",
    "deepnote_cell_height": 598
   },
   "execution_count": null,
   "outputs": []
  },
  {
   "cell_type": "code",
   "source": "af_df, genre_df = audio_feature(df, 'track_ids', 'artist_ids')\n# merge new df's\ndf4 = df3.merge(af_df, how = 'inner', left_on = 'track_ids', right_on = 'id').dropna()\ndf4 = df4.merge(genre_df, how = 'inner', on = 'artist_ids').dropna()",
   "metadata": {
    "cell_id": "b1f9e79cb75a490d9acf7eb504148817",
    "tags": [],
    "deepnote_to_be_reexecuted": false,
    "source_hash": "8360003b",
    "execution_start": 1665940260857,
    "execution_millis": 21716,
    "deepnote_cell_type": "code",
    "deepnote_cell_height": 130
   },
   "execution_count": null,
   "outputs": []
  },
  {
   "cell_type": "code",
   "metadata": {
    "cell_id": "22c99daee8d84108b0dfa8e7bcf02262",
    "tags": [],
    "deepnote_to_be_reexecuted": false,
    "source_hash": "c085b6ba",
    "execution_start": 1665940282580,
    "execution_millis": 798,
    "deepnote_cell_type": "code",
    "deepnote_cell_height": 407
   },
   "source": "df.head()",
   "execution_count": null,
   "outputs": [
    {
     "output_type": "execute_result",
     "execution_count": 25,
     "data": {
      "application/vnd.deepnote.dataframe.v3+json": {
       "column_count": 28,
       "row_count": 5,
       "columns": [
        {
         "name": "rank",
         "dtype": "int64",
         "stats": {
          "unique_count": 5,
          "nan_count": 0,
          "min": "1",
          "max": "73",
          "histogram": [
           {
            "bin_start": 1,
            "bin_end": 8.2,
            "count": 1
           },
           {
            "bin_start": 8.2,
            "bin_end": 15.4,
            "count": 0
           },
           {
            "bin_start": 15.4,
            "bin_end": 22.6,
            "count": 0
           },
           {
            "bin_start": 22.6,
            "bin_end": 29.8,
            "count": 0
           },
           {
            "bin_start": 29.8,
            "bin_end": 37,
            "count": 1
           },
           {
            "bin_start": 37,
            "bin_end": 44.2,
            "count": 0
           },
           {
            "bin_start": 44.2,
            "bin_end": 51.4,
            "count": 0
           },
           {
            "bin_start": 51.4,
            "bin_end": 58.6,
            "count": 0
           },
           {
            "bin_start": 58.6,
            "bin_end": 65.8,
            "count": 1
           },
           {
            "bin_start": 65.8,
            "bin_end": 73,
            "count": 2
           }
          ]
         }
        },
        {
         "name": "track_nm",
         "dtype": "object",
         "stats": {
          "unique_count": 5,
          "nan_count": 0,
          "categories": [
           {
            "name": "\"Joy to the World\"",
            "count": 1
           },
           {
            "name": "\"Liar\"",
            "count": 1
           },
           {
            "name": "3 others",
            "count": 3
           }
          ]
         }
        },
        {
         "name": "artist_nms",
         "dtype": "object",
         "stats": {
          "unique_count": 1,
          "nan_count": 0,
          "categories": [
           {
            "name": "Three Dog Night",
            "count": 5
           }
          ]
         }
        },
        {
         "name": "year",
         "dtype": "int64",
         "stats": {
          "unique_count": 3,
          "nan_count": 0,
          "min": "1971",
          "max": "1973",
          "histogram": [
           {
            "bin_start": 1971,
            "bin_end": 1971.2,
            "count": 2
           },
           {
            "bin_start": 1971.2,
            "bin_end": 1971.4,
            "count": 0
           },
           {
            "bin_start": 1971.4,
            "bin_end": 1971.6,
            "count": 0
           },
           {
            "bin_start": 1971.6,
            "bin_end": 1971.8,
            "count": 0
           },
           {
            "bin_start": 1971.8,
            "bin_end": 1972,
            "count": 0
           },
           {
            "bin_start": 1972,
            "bin_end": 1972.2,
            "count": 2
           },
           {
            "bin_start": 1972.2,
            "bin_end": 1972.4,
            "count": 0
           },
           {
            "bin_start": 1972.4,
            "bin_end": 1972.6,
            "count": 0
           },
           {
            "bin_start": 1972.6,
            "bin_end": 1972.8,
            "count": 0
           },
           {
            "bin_start": 1972.8,
            "bin_end": 1973,
            "count": 1
           }
          ]
         }
        },
        {
         "name": "artist_search",
         "dtype": "object",
         "stats": {
          "unique_count": 1,
          "nan_count": 0,
          "categories": [
           {
            "name": "three dog night",
            "count": 5
           }
          ]
         }
        },
        {
         "name": "track_search",
         "dtype": "object",
         "stats": {
          "unique_count": 5,
          "nan_count": 0,
          "categories": [
           {
            "name": "Joy to the World",
            "count": 1
           },
           {
            "name": "Liar",
            "count": 1
           },
           {
            "name": "3 others",
            "count": 3
           }
          ]
         }
        },
        {
         "name": "query",
         "dtype": "object",
         "stats": {
          "unique_count": 5,
          "nan_count": 0,
          "categories": [
           {
            "name": "artist:three dog night track:Joy to the World",
            "count": 1
           },
           {
            "name": "artist:three dog night track:Liar",
            "count": 1
           },
           {
            "name": "3 others",
            "count": 3
           }
          ]
         }
        },
        {
         "name": "track_ids",
         "dtype": "object",
         "stats": {
          "unique_count": 5,
          "nan_count": 0,
          "categories": [
           {
            "name": "2ymeOsYijJz09LfKw3yM2x",
            "count": 1
           },
           {
            "name": "4NLKJfFJl19CnJaEGMGjhl",
            "count": 1
           },
           {
            "name": "3 others",
            "count": 3
           }
          ]
         }
        },
        {
         "name": "artist_ids",
         "dtype": "object",
         "stats": {
          "unique_count": 1,
          "nan_count": 0,
          "categories": [
           {
            "name": "4FAEZeJcsYYBkNq2D3KGTV",
            "count": 5
           }
          ]
         }
        },
        {
         "name": "danceability",
         "dtype": "float64",
         "stats": {
          "unique_count": 5,
          "nan_count": 0,
          "min": "0.517",
          "max": "0.688",
          "histogram": [
           {
            "bin_start": 0.517,
            "bin_end": 0.5341,
            "count": 2
           },
           {
            "bin_start": 0.5341,
            "bin_end": 0.5512,
            "count": 1
           },
           {
            "bin_start": 0.5512,
            "bin_end": 0.5683,
            "count": 0
           },
           {
            "bin_start": 0.5683,
            "bin_end": 0.5854,
            "count": 0
           },
           {
            "bin_start": 0.5854,
            "bin_end": 0.6025,
            "count": 0
           },
           {
            "bin_start": 0.6025,
            "bin_end": 0.6195999999999999,
            "count": 0
           },
           {
            "bin_start": 0.6195999999999999,
            "bin_end": 0.6366999999999999,
            "count": 0
           },
           {
            "bin_start": 0.6366999999999999,
            "bin_end": 0.6537999999999999,
            "count": 1
           },
           {
            "bin_start": 0.6537999999999999,
            "bin_end": 0.6708999999999999,
            "count": 0
           },
           {
            "bin_start": 0.6708999999999999,
            "bin_end": 0.688,
            "count": 1
           }
          ]
         }
        },
        {
         "name": "energy",
         "dtype": "float64",
         "stats": {
          "unique_count": 5,
          "nan_count": 0,
          "min": "0.394",
          "max": "0.679",
          "histogram": [
           {
            "bin_start": 0.394,
            "bin_end": 0.42250000000000004,
            "count": 1
           },
           {
            "bin_start": 0.42250000000000004,
            "bin_end": 0.451,
            "count": 0
           },
           {
            "bin_start": 0.451,
            "bin_end": 0.47950000000000004,
            "count": 0
           },
           {
            "bin_start": 0.47950000000000004,
            "bin_end": 0.508,
            "count": 1
           },
           {
            "bin_start": 0.508,
            "bin_end": 0.5365,
            "count": 0
           },
           {
            "bin_start": 0.5365,
            "bin_end": 0.5650000000000001,
            "count": 0
           },
           {
            "bin_start": 0.5650000000000001,
            "bin_end": 0.5935,
            "count": 1
           },
           {
            "bin_start": 0.5935,
            "bin_end": 0.6220000000000001,
            "count": 1
           },
           {
            "bin_start": 0.6220000000000001,
            "bin_end": 0.6505000000000001,
            "count": 0
           },
           {
            "bin_start": 0.6505000000000001,
            "bin_end": 0.679,
            "count": 1
           }
          ]
         }
        },
        {
         "name": "key",
         "dtype": "int64",
         "stats": {
          "unique_count": 4,
          "nan_count": 0,
          "min": "2",
          "max": "11",
          "histogram": [
           {
            "bin_start": 2,
            "bin_end": 2.9,
            "count": 2
           },
           {
            "bin_start": 2.9,
            "bin_end": 3.8,
            "count": 0
           },
           {
            "bin_start": 3.8,
            "bin_end": 4.7,
            "count": 1
           },
           {
            "bin_start": 4.7,
            "bin_end": 5.6,
            "count": 0
           },
           {
            "bin_start": 5.6,
            "bin_end": 6.5,
            "count": 0
           },
           {
            "bin_start": 6.5,
            "bin_end": 7.4,
            "count": 0
           },
           {
            "bin_start": 7.4,
            "bin_end": 8.3,
            "count": 0
           },
           {
            "bin_start": 8.3,
            "bin_end": 9.2,
            "count": 1
           },
           {
            "bin_start": 9.2,
            "bin_end": 10.1,
            "count": 0
           },
           {
            "bin_start": 10.1,
            "bin_end": 11,
            "count": 1
           }
          ]
         }
        },
        {
         "name": "loudness",
         "dtype": "float64",
         "stats": {
          "unique_count": 5,
          "nan_count": 0,
          "min": "-15.374",
          "max": "-11.464",
          "histogram": [
           {
            "bin_start": -15.374,
            "bin_end": -14.983,
            "count": 2
           },
           {
            "bin_start": -14.983,
            "bin_end": -14.592,
            "count": 0
           },
           {
            "bin_start": -14.592,
            "bin_end": -14.201,
            "count": 0
           },
           {
            "bin_start": -14.201,
            "bin_end": -13.81,
            "count": 0
           },
           {
            "bin_start": -13.81,
            "bin_end": -13.419,
            "count": 0
           },
           {
            "bin_start": -13.419,
            "bin_end": -13.028,
            "count": 0
           },
           {
            "bin_start": -13.028,
            "bin_end": -12.637,
            "count": 0
           },
           {
            "bin_start": -12.637,
            "bin_end": -12.246,
            "count": 1
           },
           {
            "bin_start": -12.246,
            "bin_end": -11.855,
            "count": 1
           },
           {
            "bin_start": -11.855,
            "bin_end": -11.464,
            "count": 1
           }
          ]
         }
        },
        {
         "name": "mode",
         "dtype": "int64",
         "stats": {
          "unique_count": 2,
          "nan_count": 0,
          "min": "0",
          "max": "1",
          "histogram": [
           {
            "bin_start": 0,
            "bin_end": 0.1,
            "count": 1
           },
           {
            "bin_start": 0.1,
            "bin_end": 0.2,
            "count": 0
           },
           {
            "bin_start": 0.2,
            "bin_end": 0.30000000000000004,
            "count": 0
           },
           {
            "bin_start": 0.30000000000000004,
            "bin_end": 0.4,
            "count": 0
           },
           {
            "bin_start": 0.4,
            "bin_end": 0.5,
            "count": 0
           },
           {
            "bin_start": 0.5,
            "bin_end": 0.6000000000000001,
            "count": 0
           },
           {
            "bin_start": 0.6000000000000001,
            "bin_end": 0.7000000000000001,
            "count": 0
           },
           {
            "bin_start": 0.7000000000000001,
            "bin_end": 0.8,
            "count": 0
           },
           {
            "bin_start": 0.8,
            "bin_end": 0.9,
            "count": 0
           },
           {
            "bin_start": 0.9,
            "bin_end": 1,
            "count": 4
           }
          ]
         }
        },
        {
         "name": "speechiness",
         "dtype": "float64",
         "stats": {
          "unique_count": 5,
          "nan_count": 0,
          "min": "0.0275",
          "max": "0.0348",
          "histogram": [
           {
            "bin_start": 0.0275,
            "bin_end": 0.028229999999999998,
            "count": 2
           },
           {
            "bin_start": 0.028229999999999998,
            "bin_end": 0.02896,
            "count": 0
           },
           {
            "bin_start": 0.02896,
            "bin_end": 0.02969,
            "count": 1
           },
           {
            "bin_start": 0.02969,
            "bin_end": 0.03042,
            "count": 0
           },
           {
            "bin_start": 0.03042,
            "bin_end": 0.031149999999999997,
            "count": 0
           },
           {
            "bin_start": 0.031149999999999997,
            "bin_end": 0.03188,
            "count": 1
           },
           {
            "bin_start": 0.03188,
            "bin_end": 0.03261,
            "count": 0
           },
           {
            "bin_start": 0.03261,
            "bin_end": 0.033339999999999995,
            "count": 0
           },
           {
            "bin_start": 0.033339999999999995,
            "bin_end": 0.034069999999999996,
            "count": 0
           },
           {
            "bin_start": 0.034069999999999996,
            "bin_end": 0.0348,
            "count": 1
           }
          ]
         }
        },
        {
         "name": "acousticness",
         "dtype": "float64",
         "stats": {
          "unique_count": 5,
          "nan_count": 0,
          "min": "0.4",
          "max": "0.64",
          "histogram": [
           {
            "bin_start": 0.4,
            "bin_end": 0.42400000000000004,
            "count": 1
           },
           {
            "bin_start": 0.42400000000000004,
            "bin_end": 0.448,
            "count": 0
           },
           {
            "bin_start": 0.448,
            "bin_end": 0.47200000000000003,
            "count": 1
           },
           {
            "bin_start": 0.47200000000000003,
            "bin_end": 0.496,
            "count": 1
           },
           {
            "bin_start": 0.496,
            "bin_end": 0.52,
            "count": 0
           },
           {
            "bin_start": 0.52,
            "bin_end": 0.544,
            "count": 0
           },
           {
            "bin_start": 0.544,
            "bin_end": 0.5680000000000001,
            "count": 0
           },
           {
            "bin_start": 0.5680000000000001,
            "bin_end": 0.5920000000000001,
            "count": 1
           },
           {
            "bin_start": 0.5920000000000001,
            "bin_end": 0.616,
            "count": 0
           },
           {
            "bin_start": 0.616,
            "bin_end": 0.64,
            "count": 1
           }
          ]
         }
        },
        {
         "name": "instrumentalness",
         "dtype": "float64",
         "stats": {
          "unique_count": 5,
          "nan_count": 0,
          "min": "1.04e-05",
          "max": "0.0499",
          "histogram": [
           {
            "bin_start": 0.0000104,
            "bin_end": 0.00499936,
            "count": 4
           },
           {
            "bin_start": 0.00499936,
            "bin_end": 0.00998832,
            "count": 0
           },
           {
            "bin_start": 0.00998832,
            "bin_end": 0.014977279999999999,
            "count": 0
           },
           {
            "bin_start": 0.014977279999999999,
            "bin_end": 0.01996624,
            "count": 0
           },
           {
            "bin_start": 0.01996624,
            "bin_end": 0.0249552,
            "count": 0
           },
           {
            "bin_start": 0.0249552,
            "bin_end": 0.029944159999999997,
            "count": 0
           },
           {
            "bin_start": 0.029944159999999997,
            "bin_end": 0.03493312,
            "count": 0
           },
           {
            "bin_start": 0.03493312,
            "bin_end": 0.03992208,
            "count": 0
           },
           {
            "bin_start": 0.03992208,
            "bin_end": 0.04491104,
            "count": 0
           },
           {
            "bin_start": 0.04491104,
            "bin_end": 0.0499,
            "count": 1
           }
          ]
         }
        },
        {
         "name": "liveness",
         "dtype": "float64",
         "stats": {
          "unique_count": 5,
          "nan_count": 0,
          "min": "0.0917",
          "max": "0.559",
          "histogram": [
           {
            "bin_start": 0.0917,
            "bin_end": 0.13843,
            "count": 1
           },
           {
            "bin_start": 0.13843,
            "bin_end": 0.18516000000000002,
            "count": 0
           },
           {
            "bin_start": 0.18516000000000002,
            "bin_end": 0.23189000000000004,
            "count": 0
           },
           {
            "bin_start": 0.23189000000000004,
            "bin_end": 0.27862000000000003,
            "count": 0
           },
           {
            "bin_start": 0.27862000000000003,
            "bin_end": 0.32535000000000003,
            "count": 0
           },
           {
            "bin_start": 0.32535000000000003,
            "bin_end": 0.3720800000000001,
            "count": 2
           },
           {
            "bin_start": 0.3720800000000001,
            "bin_end": 0.41881000000000007,
            "count": 0
           },
           {
            "bin_start": 0.41881000000000007,
            "bin_end": 0.46554000000000006,
            "count": 0
           },
           {
            "bin_start": 0.46554000000000006,
            "bin_end": 0.51227,
            "count": 0
           },
           {
            "bin_start": 0.51227,
            "bin_end": 0.559,
            "count": 2
           }
          ]
         }
        },
        {
         "name": "valence",
         "dtype": "float64",
         "stats": {
          "unique_count": 5,
          "nan_count": 0,
          "min": "0.674",
          "max": "0.971",
          "histogram": [
           {
            "bin_start": 0.674,
            "bin_end": 0.7037,
            "count": 1
           },
           {
            "bin_start": 0.7037,
            "bin_end": 0.7334,
            "count": 1
           },
           {
            "bin_start": 0.7334,
            "bin_end": 0.7631,
            "count": 0
           },
           {
            "bin_start": 0.7631,
            "bin_end": 0.7928000000000001,
            "count": 0
           },
           {
            "bin_start": 0.7928000000000001,
            "bin_end": 0.8225,
            "count": 0
           },
           {
            "bin_start": 0.8225,
            "bin_end": 0.8522000000000001,
            "count": 1
           },
           {
            "bin_start": 0.8522000000000001,
            "bin_end": 0.8819,
            "count": 0
           },
           {
            "bin_start": 0.8819,
            "bin_end": 0.9116,
            "count": 0
           },
           {
            "bin_start": 0.9116,
            "bin_end": 0.9413,
            "count": 0
           },
           {
            "bin_start": 0.9413,
            "bin_end": 0.971,
            "count": 2
           }
          ]
         }
        },
        {
         "name": "tempo",
         "dtype": "float64",
         "stats": {
          "unique_count": 5,
          "nan_count": 0,
          "min": "88.762",
          "max": "127.495",
          "histogram": [
           {
            "bin_start": 88.762,
            "bin_end": 92.6353,
            "count": 1
           },
           {
            "bin_start": 92.6353,
            "bin_end": 96.5086,
            "count": 0
           },
           {
            "bin_start": 96.5086,
            "bin_end": 100.3819,
            "count": 0
           },
           {
            "bin_start": 100.3819,
            "bin_end": 104.2552,
            "count": 0
           },
           {
            "bin_start": 104.2552,
            "bin_end": 108.1285,
            "count": 1
           },
           {
            "bin_start": 108.1285,
            "bin_end": 112.0018,
            "count": 1
           },
           {
            "bin_start": 112.0018,
            "bin_end": 115.8751,
            "count": 0
           },
           {
            "bin_start": 115.8751,
            "bin_end": 119.7484,
            "count": 0
           },
           {
            "bin_start": 119.7484,
            "bin_end": 123.6217,
            "count": 0
           },
           {
            "bin_start": 123.6217,
            "bin_end": 127.495,
            "count": 2
           }
          ]
         }
        },
        {
         "name": "type",
         "dtype": "object",
         "stats": {
          "unique_count": 1,
          "nan_count": 0,
          "categories": [
           {
            "name": "audio_features",
            "count": 5
           }
          ]
         }
        },
        {
         "name": "id",
         "dtype": "object",
         "stats": {
          "unique_count": 5,
          "nan_count": 0,
          "categories": [
           {
            "name": "2ymeOsYijJz09LfKw3yM2x",
            "count": 1
           },
           {
            "name": "4NLKJfFJl19CnJaEGMGjhl",
            "count": 1
           },
           {
            "name": "3 others",
            "count": 3
           }
          ]
         }
        },
        {
         "name": "uri",
         "dtype": "object",
         "stats": {
          "unique_count": 5,
          "nan_count": 0,
          "categories": [
           {
            "name": "spotify:track:2ymeOsYijJz09LfKw3yM2x",
            "count": 1
           },
           {
            "name": "spotify:track:4NLKJfFJl19CnJaEGMGjhl",
            "count": 1
           },
           {
            "name": "3 others",
            "count": 3
           }
          ]
         }
        },
        {
         "name": "track_href",
         "dtype": "object",
         "stats": {
          "unique_count": 5,
          "nan_count": 0,
          "categories": [
           {
            "name": "https://api.spotify.com/v1/tracks/2ymeOsYijJz09LfKw3yM2x",
            "count": 1
           },
           {
            "name": "https://api.spotify.com/v1/tracks/4NLKJfFJl19CnJaEGMGjhl",
            "count": 1
           },
           {
            "name": "3 others",
            "count": 3
           }
          ]
         }
        },
        {
         "name": "analysis_url",
         "dtype": "object",
         "stats": {
          "unique_count": 5,
          "nan_count": 0,
          "categories": [
           {
            "name": "https://api.spotify.com/v1/audio-analysis/2ymeOsYijJz09LfKw3yM2x",
            "count": 1
           },
           {
            "name": "https://api.spotify.com/v1/audio-analysis/4NLKJfFJl19CnJaEGMGjhl",
            "count": 1
           },
           {
            "name": "3 others",
            "count": 3
           }
          ]
         }
        },
        {
         "name": "duration_ms",
         "dtype": "int64",
         "stats": {
          "unique_count": 5,
          "nan_count": 0,
          "min": "204107",
          "max": "235800",
          "histogram": [
           {
            "bin_start": 204107,
            "bin_end": 207276.3,
            "count": 2
           },
           {
            "bin_start": 207276.3,
            "bin_end": 210445.6,
            "count": 0
           },
           {
            "bin_start": 210445.6,
            "bin_end": 213614.9,
            "count": 0
           },
           {
            "bin_start": 213614.9,
            "bin_end": 216784.2,
            "count": 0
           },
           {
            "bin_start": 216784.2,
            "bin_end": 219953.5,
            "count": 0
           },
           {
            "bin_start": 219953.5,
            "bin_end": 223122.8,
            "count": 1
           },
           {
            "bin_start": 223122.8,
            "bin_end": 226292.1,
            "count": 1
           },
           {
            "bin_start": 226292.1,
            "bin_end": 229461.4,
            "count": 0
           },
           {
            "bin_start": 229461.4,
            "bin_end": 232630.7,
            "count": 0
           },
           {
            "bin_start": 232630.7,
            "bin_end": 235800,
            "count": 1
           }
          ]
         }
        },
        {
         "name": "time_signature",
         "dtype": "int64",
         "stats": {
          "unique_count": 1,
          "nan_count": 0,
          "min": "4",
          "max": "4",
          "histogram": [
           {
            "bin_start": 3.5,
            "bin_end": 3.6,
            "count": 0
           },
           {
            "bin_start": 3.6,
            "bin_end": 3.7,
            "count": 0
           },
           {
            "bin_start": 3.7,
            "bin_end": 3.8,
            "count": 0
           },
           {
            "bin_start": 3.8,
            "bin_end": 3.9,
            "count": 0
           },
           {
            "bin_start": 3.9,
            "bin_end": 4,
            "count": 0
           },
           {
            "bin_start": 4,
            "bin_end": 4.1,
            "count": 5
           },
           {
            "bin_start": 4.1,
            "bin_end": 4.2,
            "count": 0
           },
           {
            "bin_start": 4.2,
            "bin_end": 4.3,
            "count": 0
           },
           {
            "bin_start": 4.3,
            "bin_end": 4.4,
            "count": 0
           },
           {
            "bin_start": 4.4,
            "bin_end": 4.5,
            "count": 0
           }
          ]
         }
        },
        {
         "name": "genre",
         "dtype": "object",
         "stats": {
          "unique_count": 1,
          "nan_count": 0,
          "categories": [
           {
            "name": "album rock",
            "count": 5
           }
          ]
         }
        },
        {
         "name": "_deepnote_index_column",
         "dtype": "int64"
        }
       ],
       "rows": [
        {
         "rank": "1",
         "track_nm": "\"Joy to the World\"",
         "artist_nms": "Three Dog Night",
         "year": "1971",
         "artist_search": "three dog night",
         "track_search": "Joy to the World",
         "query": "artist:three dog night track:Joy to the World",
         "track_ids": "2ymeOsYijJz09LfKw3yM2x",
         "artist_ids": "4FAEZeJcsYYBkNq2D3KGTV",
         "danceability": "0.649",
         "energy": "0.679",
         "key": "2",
         "loudness": "-12.515",
         "mode": "1",
         "speechiness": "0.0316",
         "acousticness": "0.464",
         "instrumentalness": "0.00121",
         "liveness": "0.339",
         "valence": "0.971",
         "tempo": "126.867",
         "type": "audio_features",
         "id": "2ymeOsYijJz09LfKw3yM2x",
         "uri": "spotify:track:2ymeOsYijJz09LfKw3yM2x",
         "track_href": "https://api.spotify.com/v1/tracks/2ymeOsYijJz09LfKw3yM2x",
         "analysis_url": "https://api.spotify.com/v1/audio-analysis/2ymeOsYijJz09LfKw3yM2x",
         "duration_ms": "220573",
         "time_signature": "4",
         "genre": "album rock",
         "_deepnote_index_column": "0"
        },
        {
         "rank": "69",
         "track_nm": "\"Liar\"",
         "artist_nms": "Three Dog Night",
         "year": "1971",
         "artist_search": "three dog night",
         "track_search": "Liar",
         "query": "artist:three dog night track:Liar",
         "track_ids": "4NLKJfFJl19CnJaEGMGjhl",
         "artist_ids": "4FAEZeJcsYYBkNq2D3KGTV",
         "danceability": "0.52",
         "energy": "0.394",
         "key": "2",
         "loudness": "-15.374",
         "mode": "0",
         "speechiness": "0.0278",
         "acousticness": "0.4",
         "instrumentalness": "0.0499",
         "liveness": "0.0917",
         "valence": "0.674",
         "tempo": "107.616",
         "type": "audio_features",
         "id": "4NLKJfFJl19CnJaEGMGjhl",
         "uri": "spotify:track:4NLKJfFJl19CnJaEGMGjhl",
         "track_href": "https://api.spotify.com/v1/tracks/4NLKJfFJl19CnJaEGMGjhl",
         "analysis_url": "https://api.spotify.com/v1/audio-analysis/4NLKJfFJl19CnJaEGMGjhl",
         "duration_ms": "235800",
         "time_signature": "4",
         "genre": "album rock",
         "_deepnote_index_column": "1"
        },
        {
         "rank": "63",
         "track_nm": "\"Black and White\"",
         "artist_nms": "Three Dog Night",
         "year": "1972",
         "artist_search": "three dog night",
         "track_search": "Black and White",
         "query": "artist:three dog night track:Black and White",
         "track_ids": "4XcUADpOth9Wroq5EVMFJq",
         "artist_ids": "4FAEZeJcsYYBkNq2D3KGTV",
         "danceability": "0.688",
         "energy": "0.577",
         "key": "11",
         "loudness": "-12.093",
         "mode": "1",
         "speechiness": "0.0292",
         "acousticness": "0.493",
         "instrumentalness": "1.04e-05",
         "liveness": "0.528",
         "valence": "0.961",
         "tempo": "109.077",
         "type": "audio_features",
         "id": "4XcUADpOth9Wroq5EVMFJq",
         "uri": "spotify:track:4XcUADpOth9Wroq5EVMFJq",
         "track_href": "https://api.spotify.com/v1/tracks/4XcUADpOth9Wroq5EVMFJq",
         "analysis_url": "https://api.spotify.com/v1/audio-analysis/4XcUADpOth9Wroq5EVMFJq",
         "duration_ms": "206080",
         "time_signature": "4",
         "genre": "album rock",
         "_deepnote_index_column": "2"
        },
        {
         "rank": "73",
         "track_nm": "\"Never Been to Spain\"",
         "artist_nms": "Three Dog Night",
         "year": "1972",
         "artist_search": "three dog night",
         "track_search": "Never Been to Spain",
         "query": "artist:three dog night track:Never Been to Spain",
         "track_ids": "61OQuSzsom6geFCA18JwO6",
         "artist_ids": "4FAEZeJcsYYBkNq2D3KGTV",
         "danceability": "0.517",
         "energy": "0.502",
         "key": "4",
         "loudness": "-15.014",
         "mode": "1",
         "speechiness": "0.0275",
         "acousticness": "0.58",
         "instrumentalness": "0.00157",
         "liveness": "0.352",
         "valence": "0.727",
         "tempo": "88.762",
         "type": "audio_features",
         "id": "61OQuSzsom6geFCA18JwO6",
         "uri": "spotify:track:61OQuSzsom6geFCA18JwO6",
         "track_href": "https://api.spotify.com/v1/tracks/61OQuSzsom6geFCA18JwO6",
         "analysis_url": "https://api.spotify.com/v1/audio-analysis/61OQuSzsom6geFCA18JwO6",
         "duration_ms": "226067",
         "time_signature": "4",
         "genre": "album rock",
         "_deepnote_index_column": "3"
        },
        {
         "rank": "31",
         "track_nm": "\"Shambala\"",
         "artist_nms": "Three Dog Night",
         "year": "1973",
         "artist_search": "three dog night",
         "track_search": "Shambala",
         "query": "artist:three dog night track:Shambala",
         "track_ids": "0P6fEgTn3cxLLyYTJYoYGj",
         "artist_ids": "4FAEZeJcsYYBkNq2D3KGTV",
         "danceability": "0.551",
         "energy": "0.62",
         "key": "9",
         "loudness": "-11.464",
         "mode": "1",
         "speechiness": "0.0348",
         "acousticness": "0.64",
         "instrumentalness": "0.00147",
         "liveness": "0.559",
         "valence": "0.834",
         "tempo": "127.495",
         "type": "audio_features",
         "id": "0P6fEgTn3cxLLyYTJYoYGj",
         "uri": "spotify:track:0P6fEgTn3cxLLyYTJYoYGj",
         "track_href": "https://api.spotify.com/v1/tracks/0P6fEgTn3cxLLyYTJYoYGj",
         "analysis_url": "https://api.spotify.com/v1/audio-analysis/0P6fEgTn3cxLLyYTJYoYGj",
         "duration_ms": "204107",
         "time_signature": "4",
         "genre": "album rock",
         "_deepnote_index_column": "4"
        }
       ]
      },
      "text/plain": "   rank               track_nm       artist_nms  year    artist_search  \\\n0     1     \"Joy to the World\"  Three Dog Night  1971  three dog night   \n1    69                 \"Liar\"  Three Dog Night  1971  three dog night   \n2    63      \"Black and White\"  Three Dog Night  1972  three dog night   \n3    73  \"Never Been to Spain\"  Three Dog Night  1972  three dog night   \n4    31             \"Shambala\"  Three Dog Night  1973  three dog night   \n\n          track_search                                             query  \\\n0     Joy to the World     artist:three dog night track:Joy to the World   \n1                 Liar                 artist:three dog night track:Liar   \n2      Black and White      artist:three dog night track:Black and White   \n3  Never Been to Spain  artist:three dog night track:Never Been to Spain   \n4             Shambala             artist:three dog night track:Shambala   \n\n                track_ids              artist_ids  danceability  ...  valence  \\\n0  2ymeOsYijJz09LfKw3yM2x  4FAEZeJcsYYBkNq2D3KGTV         0.649  ...    0.971   \n1  4NLKJfFJl19CnJaEGMGjhl  4FAEZeJcsYYBkNq2D3KGTV         0.520  ...    0.674   \n2  4XcUADpOth9Wroq5EVMFJq  4FAEZeJcsYYBkNq2D3KGTV         0.688  ...    0.961   \n3  61OQuSzsom6geFCA18JwO6  4FAEZeJcsYYBkNq2D3KGTV         0.517  ...    0.727   \n4  0P6fEgTn3cxLLyYTJYoYGj  4FAEZeJcsYYBkNq2D3KGTV         0.551  ...    0.834   \n\n     tempo            type                      id  \\\n0  126.867  audio_features  2ymeOsYijJz09LfKw3yM2x   \n1  107.616  audio_features  4NLKJfFJl19CnJaEGMGjhl   \n2  109.077  audio_features  4XcUADpOth9Wroq5EVMFJq   \n3   88.762  audio_features  61OQuSzsom6geFCA18JwO6   \n4  127.495  audio_features  0P6fEgTn3cxLLyYTJYoYGj   \n\n                                    uri  \\\n0  spotify:track:2ymeOsYijJz09LfKw3yM2x   \n1  spotify:track:4NLKJfFJl19CnJaEGMGjhl   \n2  spotify:track:4XcUADpOth9Wroq5EVMFJq   \n3  spotify:track:61OQuSzsom6geFCA18JwO6   \n4  spotify:track:0P6fEgTn3cxLLyYTJYoYGj   \n\n                                          track_href  \\\n0  https://api.spotify.com/v1/tracks/2ymeOsYijJz0...   \n1  https://api.spotify.com/v1/tracks/4NLKJfFJl19C...   \n2  https://api.spotify.com/v1/tracks/4XcUADpOth9W...   \n3  https://api.spotify.com/v1/tracks/61OQuSzsom6g...   \n4  https://api.spotify.com/v1/tracks/0P6fEgTn3cxL...   \n\n                                        analysis_url  duration_ms  \\\n0  https://api.spotify.com/v1/audio-analysis/2yme...       220573   \n1  https://api.spotify.com/v1/audio-analysis/4NLK...       235800   \n2  https://api.spotify.com/v1/audio-analysis/4XcU...       206080   \n3  https://api.spotify.com/v1/audio-analysis/61OQ...       226067   \n4  https://api.spotify.com/v1/audio-analysis/0P6f...       204107   \n\n   time_signature       genre  \n0               4  album rock  \n1               4  album rock  \n2               4  album rock  \n3               4  album rock  \n4               4  album rock  \n\n[5 rows x 28 columns]",
      "text/html": "<div>\n<style scoped>\n    .dataframe tbody tr th:only-of-type {\n        vertical-align: middle;\n    }\n\n    .dataframe tbody tr th {\n        vertical-align: top;\n    }\n\n    .dataframe thead th {\n        text-align: right;\n    }\n</style>\n<table border=\"1\" class=\"dataframe\">\n  <thead>\n    <tr style=\"text-align: right;\">\n      <th></th>\n      <th>rank</th>\n      <th>track_nm</th>\n      <th>artist_nms</th>\n      <th>year</th>\n      <th>artist_search</th>\n      <th>track_search</th>\n      <th>query</th>\n      <th>track_ids</th>\n      <th>artist_ids</th>\n      <th>danceability</th>\n      <th>...</th>\n      <th>valence</th>\n      <th>tempo</th>\n      <th>type</th>\n      <th>id</th>\n      <th>uri</th>\n      <th>track_href</th>\n      <th>analysis_url</th>\n      <th>duration_ms</th>\n      <th>time_signature</th>\n      <th>genre</th>\n    </tr>\n  </thead>\n  <tbody>\n    <tr>\n      <th>0</th>\n      <td>1</td>\n      <td>\"Joy to the World\"</td>\n      <td>Three Dog Night</td>\n      <td>1971</td>\n      <td>three dog night</td>\n      <td>Joy to the World</td>\n      <td>artist:three dog night track:Joy to the World</td>\n      <td>2ymeOsYijJz09LfKw3yM2x</td>\n      <td>4FAEZeJcsYYBkNq2D3KGTV</td>\n      <td>0.649</td>\n      <td>...</td>\n      <td>0.971</td>\n      <td>126.867</td>\n      <td>audio_features</td>\n      <td>2ymeOsYijJz09LfKw3yM2x</td>\n      <td>spotify:track:2ymeOsYijJz09LfKw3yM2x</td>\n      <td>https://api.spotify.com/v1/tracks/2ymeOsYijJz0...</td>\n      <td>https://api.spotify.com/v1/audio-analysis/2yme...</td>\n      <td>220573</td>\n      <td>4</td>\n      <td>album rock</td>\n    </tr>\n    <tr>\n      <th>1</th>\n      <td>69</td>\n      <td>\"Liar\"</td>\n      <td>Three Dog Night</td>\n      <td>1971</td>\n      <td>three dog night</td>\n      <td>Liar</td>\n      <td>artist:three dog night track:Liar</td>\n      <td>4NLKJfFJl19CnJaEGMGjhl</td>\n      <td>4FAEZeJcsYYBkNq2D3KGTV</td>\n      <td>0.520</td>\n      <td>...</td>\n      <td>0.674</td>\n      <td>107.616</td>\n      <td>audio_features</td>\n      <td>4NLKJfFJl19CnJaEGMGjhl</td>\n      <td>spotify:track:4NLKJfFJl19CnJaEGMGjhl</td>\n      <td>https://api.spotify.com/v1/tracks/4NLKJfFJl19C...</td>\n      <td>https://api.spotify.com/v1/audio-analysis/4NLK...</td>\n      <td>235800</td>\n      <td>4</td>\n      <td>album rock</td>\n    </tr>\n    <tr>\n      <th>2</th>\n      <td>63</td>\n      <td>\"Black and White\"</td>\n      <td>Three Dog Night</td>\n      <td>1972</td>\n      <td>three dog night</td>\n      <td>Black and White</td>\n      <td>artist:three dog night track:Black and White</td>\n      <td>4XcUADpOth9Wroq5EVMFJq</td>\n      <td>4FAEZeJcsYYBkNq2D3KGTV</td>\n      <td>0.688</td>\n      <td>...</td>\n      <td>0.961</td>\n      <td>109.077</td>\n      <td>audio_features</td>\n      <td>4XcUADpOth9Wroq5EVMFJq</td>\n      <td>spotify:track:4XcUADpOth9Wroq5EVMFJq</td>\n      <td>https://api.spotify.com/v1/tracks/4XcUADpOth9W...</td>\n      <td>https://api.spotify.com/v1/audio-analysis/4XcU...</td>\n      <td>206080</td>\n      <td>4</td>\n      <td>album rock</td>\n    </tr>\n    <tr>\n      <th>3</th>\n      <td>73</td>\n      <td>\"Never Been to Spain\"</td>\n      <td>Three Dog Night</td>\n      <td>1972</td>\n      <td>three dog night</td>\n      <td>Never Been to Spain</td>\n      <td>artist:three dog night track:Never Been to Spain</td>\n      <td>61OQuSzsom6geFCA18JwO6</td>\n      <td>4FAEZeJcsYYBkNq2D3KGTV</td>\n      <td>0.517</td>\n      <td>...</td>\n      <td>0.727</td>\n      <td>88.762</td>\n      <td>audio_features</td>\n      <td>61OQuSzsom6geFCA18JwO6</td>\n      <td>spotify:track:61OQuSzsom6geFCA18JwO6</td>\n      <td>https://api.spotify.com/v1/tracks/61OQuSzsom6g...</td>\n      <td>https://api.spotify.com/v1/audio-analysis/61OQ...</td>\n      <td>226067</td>\n      <td>4</td>\n      <td>album rock</td>\n    </tr>\n    <tr>\n      <th>4</th>\n      <td>31</td>\n      <td>\"Shambala\"</td>\n      <td>Three Dog Night</td>\n      <td>1973</td>\n      <td>three dog night</td>\n      <td>Shambala</td>\n      <td>artist:three dog night track:Shambala</td>\n      <td>0P6fEgTn3cxLLyYTJYoYGj</td>\n      <td>4FAEZeJcsYYBkNq2D3KGTV</td>\n      <td>0.551</td>\n      <td>...</td>\n      <td>0.834</td>\n      <td>127.495</td>\n      <td>audio_features</td>\n      <td>0P6fEgTn3cxLLyYTJYoYGj</td>\n      <td>spotify:track:0P6fEgTn3cxLLyYTJYoYGj</td>\n      <td>https://api.spotify.com/v1/tracks/0P6fEgTn3cxL...</td>\n      <td>https://api.spotify.com/v1/audio-analysis/0P6f...</td>\n      <td>204107</td>\n      <td>4</td>\n      <td>album rock</td>\n    </tr>\n  </tbody>\n</table>\n<p>5 rows × 28 columns</p>\n</div>"
     },
     "metadata": {}
    }
   ]
  },
  {
   "cell_type": "code",
   "source": "df4.to_csv(\"/work/billboard_music_analysis/streamlit/data/bb_100_feat.csv\", index = False)",
   "metadata": {
    "tags": [],
    "cell_id": "71f0638224034874b7e54b51817ab58a",
    "source_hash": "f99030d5",
    "execution_start": 1665940346147,
    "execution_millis": 141,
    "deepnote_to_be_reexecuted": false,
    "deepnote_cell_type": "code",
    "deepnote_cell_height": 76
   },
   "execution_count": null,
   "outputs": []
  },
  {
   "cell_type": "code",
   "metadata": {
    "cell_id": "f4344cae30af4708a8772949d80f67c5",
    "tags": [],
    "deepnote_to_be_reexecuted": false,
    "source_hash": "771cc6d",
    "execution_start": 1665940347825,
    "execution_millis": 1,
    "deepnote_cell_type": "code",
    "deepnote_cell_height": 130
   },
   "source": "# average by year function\ndef avger(df, col_list, id_col):\n    avg_df = df.groupby(id_col, as_index = False)[col_list].mean()\n    return avg_df",
   "execution_count": null,
   "outputs": []
  },
  {
   "cell_type": "code",
   "metadata": {
    "cell_id": "876012525921486faccfc2851cf9af3e",
    "tags": [],
    "deepnote_to_be_reexecuted": false,
    "source_hash": "93d555b1",
    "execution_start": 1665940348642,
    "execution_millis": 2,
    "deepnote_cell_type": "code",
    "deepnote_cell_height": 202
   },
   "source": "# create melt function...drop unnecessary id columns\ndef melter(df, id_list, col_list, drop_list):\n    if drop_list != None:\n        melt_df = df.drop(labels = drop_list, axis = 1) \n    else: melt_df = df\n    melt_df = melt_df.melt(id_vars = id_list, value_vars = col_list, \n        var_name = 'audio_feature', value_name = 'value')\n    return melt_df",
   "execution_count": null,
   "outputs": []
  },
  {
   "cell_type": "code",
   "metadata": {
    "cell_id": "4c32782fdacf4c2094e4af9af7c51c06",
    "tags": [],
    "deepnote_to_be_reexecuted": false,
    "source_hash": "913891e0",
    "execution_start": 1665940449945,
    "execution_millis": 1,
    "deepnote_cell_type": "code",
    "deepnote_cell_height": 184
   },
   "source": "col_list = ['danceability', 'energy', 'key', 'loudness', 'mode', 'speechiness', 'acousticness',\n            'instrumentalness', 'liveness', 'valence', 'tempo', 'duration_ms', 'time_signature']\ndrop_list = ['type', 'id', 'uri', 'track_href', 'analysis_url', 'query']\nid_list = ['rank', 'track_nm', 'artist_nms', 'year', 'genre', 'artist_search', 'track_search']\nlong_melt = melter(df, id_list, col_list, drop_list)\navg_df = avger(df, col_list, 'year')\navg_melt = melter(avg_df, ['year'], col_list, None)",
   "execution_count": null,
   "outputs": []
  },
  {
   "cell_type": "code",
   "metadata": {
    "cell_id": "c07ddb47e6b44e36989de30c7b3f4860",
    "tags": [],
    "deepnote_to_be_reexecuted": false,
    "source_hash": "3c9bc985",
    "execution_start": 1665940454254,
    "execution_millis": 302,
    "deepnote_cell_type": "code",
    "deepnote_cell_height": 112
   },
   "source": "long_melt.to_csv(\"/work/billboard_music_analysis/streamlit/data/bb_100_feat_melt.csv\", index = False)\navg_df.to_csv(\"/work/billboard_music_analysis/streamlit/data/avg_feat.csv\", index = False)\navg_melt.to_csv(\"/work/billboard_music_analysis/streamlit/data/avg_feat_melt.csv\", index = False)",
   "execution_count": null,
   "outputs": []
  },
  {
   "cell_type": "markdown",
   "source": "##### Stale Code\nCode I am holding onto in case I need later",
   "metadata": {
    "tags": [],
    "cell_id": "53d1d46b2334422dacd0fe617c109efe",
    "deepnote_cell_type": "markdown",
    "deepnote_cell_height": 88.390625
   }
  },
  {
   "cell_type": "code",
   "metadata": {
    "tags": [],
    "cell_id": "799edd699d2940929ad3f3a09b08e784",
    "source_hash": "19aed032",
    "execution_start": 1665274950150,
    "execution_millis": 207,
    "deepnote_to_be_reexecuted": false,
    "deepnote_cell_type": "code",
    "deepnote_cell_height": 301.953125
   },
   "source": "for i in sp.search(q = 'artist:n ii u', type = 'track')['tracks']['items']:\n    print([re.sub('[\\\"\\']', '', artist['name'].lower()).split() for artist in i['artists']])",
   "execution_count": null,
   "outputs": [
    {
     "name": "stdout",
     "text": "[['guns', 'n', 'roses']]\n[['guns', 'n', 'roses']]\n[['guns', 'n', 'roses']]\n[['guns', 'n', 'roses']]\n[['guns', 'n', 'roses']]\n[['ninja', 'sex', 'party']]\n[['ramon', 'ayala', 'y', 'sus', 'bravos', 'del', 'norte']]\n[['guns', 'n', 'roses']]\n[['ultra', 'naté']]\n[['ninja', 'sex', 'party']]\n",
     "output_type": "stream"
    }
   ]
  },
  {
   "cell_type": "code",
   "metadata": {
    "tags": [],
    "cell_id": "4ada141bc81543bfb433da7df59d58c5",
    "source_hash": "19af9e53",
    "execution_start": 1664745108607,
    "execution_millis": 537,
    "deepnote_to_be_reexecuted": true,
    "deepnote_cell_type": "code",
    "deepnote_cell_height": 528.125
   },
   "source": "birdy_uri = 'spotify:artist:2WX2uTcsvV5OnS0inACecP'\nresults = sp.artist_albums(birdy_uri, album_type='album')\nalbums = results['items']\nwhile results['next']:\n    results = spotify.next(results)\n    albums.extend(results['items'])\nfor album in albums:\n    print(album['name'])",
   "execution_count": null,
   "outputs": [
    {
     "name": "stdout",
     "text": "Young Heart\nBeautiful Lies\nBeautiful Lies\nBeautiful Lies (Deluxe)\nBeautiful Lies (Deluxe)\nFire Within\nFire Within\nFire Within (Deluxe)\nFire Within (Deluxe)\nFire Within (Deluxe)\nLive in London\nBirdy\nBirdy\nBirdy\nBirdy\nBirdy (Deluxe Version)\n",
     "output_type": "stream"
    }
   ]
  },
  {
   "cell_type": "code",
   "metadata": {
    "tags": [],
    "cell_id": "2ebbcff6883842588194b1f25dece20e",
    "source_hash": "536bb800",
    "execution_start": 1664854747718,
    "execution_millis": 560,
    "deepnote_to_be_reexecuted": true,
    "deepnote_cell_type": "code",
    "deepnote_cell_height": 166.1875,
    "deepnote_output_heights": [
     20.1875
    ]
   },
   "source": "html = urlopen('https://en.wikipedia.org/wiki/Dua_Lipa')\nsoup = BeautifulSoup(html, 'html.parser')\nwikitab_temp = soup.find('table',{'class':\"infobox biography vcard\"})\nwikitab_temp.find_all('td', {'class':\"infobox-data\"})[0]#.find({'class':'bday'})",
   "execution_count": null,
   "outputs": [
    {
     "output_type": "execute_result",
     "execution_count": 73,
     "data": {
      "text/plain": "<td class=\"infobox-data\"><span style=\"display:none\"> (<span class=\"bday\">1995-08-22</span>) </span>22 August 1995<span class=\"noprint ForceAgeToShow\"> (age 27)</span><br/><div class=\"birthplace\" style=\"display:inline\"><a href=\"/wiki/London\" title=\"London\">London</a>, England</div></td>"
     },
     "metadata": {}
    }
   ]
  },
  {
   "cell_type": "code",
   "metadata": {
    "tags": [],
    "cell_id": "cb2126d366824df3ad48dec02ea0a687",
    "source_hash": "c503195a",
    "execution_start": 1664852573435,
    "execution_millis": 2,
    "deepnote_to_be_reexecuted": true,
    "deepnote_cell_type": "code",
    "deepnote_cell_height": 948
   },
   "source": "%time\n# change to list comprehension\ntemp = wikitab.find_all('td')\nfor i in np.arange(2, 300, 3):\n    art_lst = temp[i].find_all('a')\n    if len(art_lst) > 0:\n        main_art = art_lst[0].text\n        main_art_ref = art_lst[0].get('href')\n    else: main_art = None\n    feat_art = []\n    if len(art_lst) > 1:\n        for j in range(len(art_lst))[1:]:\n            feat_art.append(art_lst[j].text)\n    print(main_art, main_art_ref, feat_art)\n",
   "execution_count": null,
   "outputs": [
    {
     "name": "stdout",
     "text": "CPU times: user 1 µs, sys: 0 ns, total: 1 µs\nWall time: 4.53 µs\nDua Lipa /wiki/Dua_Lipa []\nThe Weeknd /wiki/The_Weeknd ['Ariana Grande']\nNone /wiki/The_Weeknd []\n24kGoldn /wiki/24kGoldn ['Iann Dior']\nOlivia Rodrigo /wiki/Olivia_Rodrigo []\nDoja Cat /wiki/Doja_Cat ['SZA']\nSilk Sonic /wiki/Silk_Sonic ['Bruno Mars', 'Anderson .Paak']\nNone /wiki/Silk_Sonic []\nLil Nas X /wiki/Lil_Nas_X []\nJustin Bieber /wiki/Justin_Bieber ['Daniel Caesar', 'Giveon']\nBTS /wiki/BTS []\nThe Kid Laroi /wiki/The_Kid_Laroi []\nNone /wiki/The_Kid_Laroi []\nNone /wiki/The_Kid_Laroi []\nEd Sheeran /wiki/Ed_Sheeran []\nGlass Animals /wiki/Glass_Animals []\nNone /wiki/Glass_Animals []\nLuke Combs /wiki/Luke_Combs []\nChris Brown /wiki/Chris_Brown ['Young Thug']\nMasked Wolf /wiki/Masked_Wolf []\nMegan Thee Stallion /wiki/Megan_Thee_Stallion []\nPop Smoke /wiki/Pop_Smoke []\nMachine Gun Kelly /wiki/Machine_Gun_Kelly_(musician) ['Blackbear']\nJack Harlow /wiki/Jack_Harlow []\nBillie Eilish /wiki/Billie_Eilish []\nCardi B /wiki/Cardi_B []\nWalker Hayes /wiki/Walker_Hayes []\nBad Bunny /wiki/Bad_Bunny ['Jhay Cortez']\nSaweetie /wiki/Saweetie []\nPolo G /wiki/Polo_G []\nGiveon /wiki/Giveon []\nLil Baby /wiki/Lil_Baby ['DaBaby']\nLil Tjay /wiki/Lil_Tjay ['6lack']\nMaroon 5 /wiki/Maroon_5 []\nChance the Rapper /wiki/Chance_the_Rapper []\nNone /wiki/Chance_the_Rapper []\nTate McRae /wiki/Tate_McRae []\nNone /wiki/Tate_McRae []\nPooh Shiesty /wiki/Pooh_Shiesty ['Lil Durk']\nGabby Barrett /wiki/Gabby_Barrett ['Charlie Puth']\nNone /wiki/Gabby_Barrett []\nMoneybagg Yo /wiki/Moneybagg_Yo []\nNone /wiki/Moneybagg_Yo []\nSpotemGottem /wiki/SpotemGottem []\nDrake /wiki/Drake_(musician) []\nNone /wiki/Drake_(musician) []\nNone /wiki/Drake_(musician) []\nFuture /wiki/Future_(rapper) []\nKali Uchis /wiki/Kali_Uchis []\nCJ /wiki/CJ_(rapper) []\nInternet Money /wiki/Internet_Money ['Gunna', 'Don Toliver', 'Nav']\nNone /wiki/Internet_Money []\nChris Stapleton /wiki/Chris_Stapleton []\nNone /wiki/Chris_Stapleton []\nTaylor Swift /wiki/Taylor_Swift []\nAJR /wiki/AJR_(band) []\nLuke Combs /wiki/Luke_Combs []\nYung Bleu /wiki/Yung_Bleu []\nDJ Khaled /wiki/DJ_Khaled []\nWizkid /wiki/Wizkid ['Tems']\nRyan Hurd /wiki/Ryan_Hurd ['Maren Morris']\nGabby Barrett /wiki/Gabby_Barrett []\nMarshmello /wiki/Marshmello ['Jonas Brothers']\nDan + Shay /wiki/Dan_%2B_Shay []\nBenny Blanco /wiki/Benny_Blanco []\nMåneskin /wiki/M%C3%A5neskin []\nNone /wiki/M%C3%A5neskin []\nNone /wiki/M%C3%A5neskin []\nChris Young /wiki/Chris_Young_(musician) ['Kane Brown']\nNelly /wiki/Nelly ['Florida Georgia Line']\nNone /wiki/Nelly []\nRoddy Ricch /wiki/Roddy_Ricch []\nAva Max /wiki/Ava_Max []\nNone /wiki/Ava_Max []\nMooski /wiki/Mooski []\nNone /wiki/Mooski []\nNone /wiki/Mooski []\nMariah Carey /wiki/Mariah_Carey []\nCoi Leray /wiki/Coi_Leray []\nThomas Rhett /wiki/Thomas_Rhett []\nKeith Urban /wiki/Keith_Urban ['Pink']\nDuncan Laurence /wiki/Duncan_Laurence []\nNone /wiki/Duncan_Laurence []\nNiko Moon /wiki/Niko_Moon []\nJason Aldean /wiki/Jason_Aldean ['Carrie Underwood']\n21 Savage /wiki/21_Savage ['Project Pat']\nNone /wiki/21_Savage []\nParmalee /wiki/Parmalee ['Blanco Brown']\nNone /wiki/Parmalee []\nNone /wiki/Parmalee []\nEric Church /wiki/Eric_Church []\nBrenda Lee /wiki/Brenda_Lee []\nRitt Momney /wiki/Ritt_Momney []\nNone /wiki/Ritt_Momney []\nCole Swindell /wiki/Cole_Swindell []\nLainey Wilson /wiki/Lainey_Wilson []\nBRS Kash /wiki/BRS_Kash []\nRod Wave /wiki/Rod_Wave []\nChase Rice /wiki/Chase_Rice ['Florida Georgia Line']\nRauw Alejandro /wiki/Rauw_Alejandro []\n",
     "output_type": "stream"
    }
   ]
  },
  {
   "cell_type": "markdown",
   "source": "<a style='text-decoration:none;line-height:16px;display:flex;color:#5B5B62;padding:10px;justify-content:end;' href='https://deepnote.com?utm_source=created-in-deepnote-cell&projectId=3f060e00-a163-4cce-a4c0-34e77cfdc670' target=\"_blank\">\n<img alt='Created in deepnote.com' style='display:inline;max-height:16px;margin:0px;margin-right:7.5px;' src='data:image/svg+xml;base64,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' > </img>\nCreated in <span style='font-weight:600;margin-left:4px;'>Deepnote</span></a>",
   "metadata": {
    "tags": [],
    "created_in_deepnote_cell": true,
    "deepnote_cell_type": "markdown"
   }
  }
 ],
 "nbformat": 4,
 "nbformat_minor": 0,
 "metadata": {
  "deepnote": {},
  "orig_nbformat": 2,
  "deepnote_notebook_id": "10610170cbe64ac3bc255f2b3415ea78",
  "deepnote_execution_queue": []
 }
}